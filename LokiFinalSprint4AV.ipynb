{
  "nbformat": 4,
  "nbformat_minor": 0,
  "metadata": {
    "colab": {
      "name": "LokiFinalSprint4AV.ipynb",
      "provenance": [],
      "collapsed_sections": [],
      "toc_visible": true
    },
    "kernelspec": {
      "name": "python3",
      "display_name": "Python 3"
    }
  },
  "cells": [
    {
      "cell_type": "code",
      "metadata": {
        "id": "n2_WR0dWE_d3",
        "colab_type": "code",
        "colab": {}
      },
      "source": [
        "import numpy as np\n",
        "import pandas as pd"
      ],
      "execution_count": 0,
      "outputs": []
    },
    {
      "cell_type": "markdown",
      "metadata": {
        "id": "Uheqa7lOhoRc",
        "colab_type": "text"
      },
      "source": [
        "#Read and Download CSV's\n"
      ]
    },
    {
      "cell_type": "code",
      "metadata": {
        "id": "-ncHJo_4iJ0v",
        "colab_type": "code",
        "colab": {}
      },
      "source": [
        "# Code to read csv file into Colaboratory:\n",
        "!pip install -U -q PyDrive\n",
        "from pydrive.auth import GoogleAuth\n",
        "from pydrive.drive import GoogleDrive\n",
        "from google.colab import auth\n",
        "from oauth2client.client import GoogleCredentials\n",
        "# Authenticate and create the PyDrive client.\n",
        "auth.authenticate_user()\n",
        "gauth = GoogleAuth()\n",
        "gauth.credentials = GoogleCredentials.get_application_default()\n",
        "drive = GoogleDrive(gauth)"
      ],
      "execution_count": 0,
      "outputs": []
    },
    {
      "cell_type": "code",
      "metadata": {
        "id": "3dVX99Z9iLbR",
        "colab_type": "code",
        "outputId": "a47721a2-a97d-4adf-bb0d-b5e83da347c0",
        "colab": {
          "base_uri": "https://localhost:8080/",
          "height": 33
        }
      },
      "source": [
        "link = 'https://drive.google.com/open?id=1CmI37GcFdB4WCjmANeCYfJe7SuYfqOOX'\n",
        "fluff1, id1 = link.split('=')\n",
        "print (id) # Verify that you have everything after '='\n",
        "downloaded = drive.CreateFile({'id':id1}) \n",
        "downloaded.GetContentFile('train_fakeNews.csv')"
      ],
      "execution_count": 0,
      "outputs": [
        {
          "output_type": "stream",
          "text": [
            "<built-in function id>\n"
          ],
          "name": "stdout"
        }
      ]
    },
    {
      "cell_type": "code",
      "metadata": {
        "id": "P5-BGvUtiSmW",
        "colab_type": "code",
        "outputId": "20a1decb-89ce-4c02-f9a6-65cdcf75e1db",
        "colab": {
          "base_uri": "https://localhost:8080/",
          "height": 33
        }
      },
      "source": [
        "link = 'https://drive.google.com/open?id=18z6S7CzSPgTT7Csj44jeT6M42B3xSek1'\n",
        "fluff1, id1 = link.split('=')\n",
        "print (id) # Verify that you have everything after '='\n",
        "downloaded = drive.CreateFile({'id':id1}) \n",
        "downloaded.GetContentFile('test_fakeNews.csv')"
      ],
      "execution_count": 0,
      "outputs": [
        {
          "output_type": "stream",
          "text": [
            "<built-in function id>\n"
          ],
          "name": "stdout"
        }
      ]
    },
    {
      "cell_type": "code",
      "metadata": {
        "id": "eVanm3NNiXrW",
        "colab_type": "code",
        "colab": {}
      },
      "source": [
        "train_data = '/content/train_fakeNews.csv'\n",
        "test_data = '/content/test_fakeNews.csv'"
      ],
      "execution_count": 0,
      "outputs": []
    },
    {
      "cell_type": "markdown",
      "metadata": {
        "id": "xOO88xmviLPP",
        "colab_type": "text"
      },
      "source": [
        "# Load CSV's into dataframes"
      ]
    },
    {
      "cell_type": "code",
      "metadata": {
        "id": "FkG20uW-ibuA",
        "colab_type": "code",
        "colab": {}
      },
      "source": [
        "df_train = pd.read_csv(train_data)\n",
        "df_test = pd.read_csv(test_data)"
      ],
      "execution_count": 0,
      "outputs": []
    },
    {
      "cell_type": "code",
      "metadata": {
        "id": "OJ5DzHu2idu2",
        "colab_type": "code",
        "outputId": "f52bee94-2d4b-4d51-dd7a-fdd7bcc3409d",
        "colab": {
          "base_uri": "https://localhost:8080/",
          "height": 33
        }
      },
      "source": [
        "df_train['label'].unique()"
      ],
      "execution_count": 0,
      "outputs": [
        {
          "output_type": "execute_result",
          "data": {
            "text/plain": [
              "array([1, 0])"
            ]
          },
          "metadata": {
            "tags": []
          },
          "execution_count": 10
        }
      ]
    },
    {
      "cell_type": "code",
      "metadata": {
        "id": "lcvgAXRHioq6",
        "colab_type": "code",
        "colab": {}
      },
      "source": [
        "# t_labels1 = ['pants-fire']\n",
        "# t_labels2 = ['false']\n",
        "# t_labels3 = ['barely-true']\n",
        "# t_labels4 = ['half-true']\n",
        "# t_labels5 = ['mostly-true']\n",
        "# t_labels6 = ['true']\n",
        "# def convert_Label(i):\n",
        "#   if i in t_labels1:\n",
        "#     return 0\n",
        "#   elif i in t_labels2:\n",
        "#     return 1\n",
        "#   elif i in t_labels3:\n",
        "#     return 2\n",
        "#   elif i in t_labels4:\n",
        "#     return 3\n",
        "#   elif i in t_labels5:\n",
        "#     return 4\n",
        "#   else:\n",
        "#     return 5"
      ],
      "execution_count": 0,
      "outputs": []
    },
    {
      "cell_type": "code",
      "metadata": {
        "id": "3Ml1-goTjSNi",
        "colab_type": "code",
        "colab": {}
      },
      "source": [
        "# df_train['labelEncoded'] = df_train.apply(lambda row: convert_Label(row['label']), axis=1)\n",
        "# df_test['labelEncoded'] = df_test.apply(lambda row: convert_Label(row['label']), axis=1)"
      ],
      "execution_count": 0,
      "outputs": []
    },
    {
      "cell_type": "code",
      "metadata": {
        "id": "f5hpKTR-jUD2",
        "colab_type": "code",
        "colab": {}
      },
      "source": [
        "# df_train['labelEncoded']"
      ],
      "execution_count": 0,
      "outputs": []
    },
    {
      "cell_type": "code",
      "metadata": {
        "id": "Eg0W9wozrEfG",
        "colab_type": "code",
        "outputId": "7598f6af-4638-4563-8677-3530263a13df",
        "colab": {
          "base_uri": "https://localhost:8080/",
          "height": 191
        }
      },
      "source": [
        "df_train.head()"
      ],
      "execution_count": 0,
      "outputs": [
        {
          "output_type": "execute_result",
          "data": {
            "text/html": [
              "<div>\n",
              "<style scoped>\n",
              "    .dataframe tbody tr th:only-of-type {\n",
              "        vertical-align: middle;\n",
              "    }\n",
              "\n",
              "    .dataframe tbody tr th {\n",
              "        vertical-align: top;\n",
              "    }\n",
              "\n",
              "    .dataframe thead th {\n",
              "        text-align: right;\n",
              "    }\n",
              "</style>\n",
              "<table border=\"1\" class=\"dataframe\">\n",
              "  <thead>\n",
              "    <tr style=\"text-align: right;\">\n",
              "      <th></th>\n",
              "      <th>id</th>\n",
              "      <th>title</th>\n",
              "      <th>author</th>\n",
              "      <th>text</th>\n",
              "      <th>label</th>\n",
              "    </tr>\n",
              "  </thead>\n",
              "  <tbody>\n",
              "    <tr>\n",
              "      <th>0</th>\n",
              "      <td>0</td>\n",
              "      <td>House Dem Aide: We Didn’t Even See Comey’s Let...</td>\n",
              "      <td>Darrell Lucus</td>\n",
              "      <td>House Dem Aide: We Didn’t Even See Comey’s Let...</td>\n",
              "      <td>1</td>\n",
              "    </tr>\n",
              "    <tr>\n",
              "      <th>1</th>\n",
              "      <td>1</td>\n",
              "      <td>FLYNN: Hillary Clinton, Big Woman on Campus - ...</td>\n",
              "      <td>Daniel J. Flynn</td>\n",
              "      <td>Ever get the feeling your life circles the rou...</td>\n",
              "      <td>0</td>\n",
              "    </tr>\n",
              "    <tr>\n",
              "      <th>2</th>\n",
              "      <td>2</td>\n",
              "      <td>Why the Truth Might Get You Fired</td>\n",
              "      <td>Consortiumnews.com</td>\n",
              "      <td>Why the Truth Might Get You Fired October 29, ...</td>\n",
              "      <td>1</td>\n",
              "    </tr>\n",
              "    <tr>\n",
              "      <th>3</th>\n",
              "      <td>3</td>\n",
              "      <td>15 Civilians Killed In Single US Airstrike Hav...</td>\n",
              "      <td>Jessica Purkiss</td>\n",
              "      <td>Videos 15 Civilians Killed In Single US Airstr...</td>\n",
              "      <td>1</td>\n",
              "    </tr>\n",
              "    <tr>\n",
              "      <th>4</th>\n",
              "      <td>4</td>\n",
              "      <td>Iranian woman jailed for fictional unpublished...</td>\n",
              "      <td>Howard Portnoy</td>\n",
              "      <td>Print \\nAn Iranian woman has been sentenced to...</td>\n",
              "      <td>1</td>\n",
              "    </tr>\n",
              "  </tbody>\n",
              "</table>\n",
              "</div>"
            ],
            "text/plain": [
              "   id  ... label\n",
              "0   0  ...     1\n",
              "1   1  ...     0\n",
              "2   2  ...     1\n",
              "3   3  ...     1\n",
              "4   4  ...     1\n",
              "\n",
              "[5 rows x 5 columns]"
            ]
          },
          "metadata": {
            "tags": []
          },
          "execution_count": 14
        }
      ]
    },
    {
      "cell_type": "code",
      "metadata": {
        "id": "5ueLR6DRjYG-",
        "colab_type": "code",
        "colab": {}
      },
      "source": [
        "df_mod= df_train[['title','text','label']]"
      ],
      "execution_count": 0,
      "outputs": []
    },
    {
      "cell_type": "code",
      "metadata": {
        "id": "pdZiP619ktaQ",
        "colab_type": "code",
        "outputId": "51a83902-b243-4e7a-82a1-e880bc05380e",
        "colab": {
          "base_uri": "https://localhost:8080/",
          "height": 53
        }
      },
      "source": [
        "df_mod['text'][0]"
      ],
      "execution_count": 0,
      "outputs": [
        {
          "output_type": "execute_result",
          "data": {
            "text/plain": [
              "'House Dem Aide: We Didn’t Even See Comey’s Letter Until Jason Chaffetz Tweeted It By Darrell Lucus on October 30, 2016 Subscribe Jason Chaffetz on the stump in American Fork, Utah ( image courtesy Michael Jolley, available under a Creative Commons-BY license) \\nWith apologies to Keith Olbermann, there is no doubt who the Worst Person in The World is this week–FBI Director James Comey. But according to a House Democratic aide, it looks like we also know who the second-worst person is as well. It turns out that when Comey sent his now-infamous letter announcing that the FBI was looking into emails that may be related to Hillary Clinton’s email server, the ranking Democrats on the relevant committees didn’t hear about it from Comey. They found out via a tweet from one of the Republican committee chairmen. \\nAs we now know, Comey notified the Republican chairmen and Democratic ranking members of the House Intelligence, Judiciary, and Oversight committees that his agency was reviewing emails it had recently discovered in order to see if they contained classified information. Not long after this letter went out, Oversight Committee Chairman Jason Chaffetz set the political world ablaze with this tweet. FBI Dir just informed me, \"The FBI has learned of the existence of emails that appear to be pertinent to the investigation.\" Case reopened \\n— Jason Chaffetz (@jasoninthehouse) October 28, 2016 \\nOf course, we now know that this was not the case . Comey was actually saying that it was reviewing the emails in light of “an unrelated case”–which we now know to be Anthony Weiner’s sexting with a teenager. But apparently such little things as facts didn’t matter to Chaffetz. The Utah Republican had already vowed to initiate a raft of investigations if Hillary wins–at least two years’ worth, and possibly an entire term’s worth of them. Apparently Chaffetz thought the FBI was already doing his work for him–resulting in a tweet that briefly roiled the nation before cooler heads realized it was a dud. \\nBut according to a senior House Democratic aide, misreading that letter may have been the least of Chaffetz’ sins. That aide told Shareblue that his boss and other Democrats didn’t even know about Comey’s letter at the time–and only found out when they checked Twitter. “Democratic Ranking Members on the relevant committees didn’t receive Comey’s letter until after the Republican Chairmen. In fact, the Democratic Ranking Members didn’ receive it until after the Chairman of the Oversight and Government Reform Committee, Jason Chaffetz, tweeted it out and made it public.” \\nSo let’s see if we’ve got this right. The FBI director tells Chaffetz and other GOP committee chairmen about a major development in a potentially politically explosive investigation, and neither Chaffetz nor his other colleagues had the courtesy to let their Democratic counterparts know about it. Instead, according to this aide, he made them find out about it on Twitter. \\nThere has already been talk on Daily Kos that Comey himself provided advance notice of this letter to Chaffetz and other Republicans, giving them time to turn on the spin machine. That may make for good theater, but there is nothing so far that even suggests this is the case. After all, there is nothing so far that suggests that Comey was anything other than grossly incompetent and tone-deaf. \\nWhat it does suggest, however, is that Chaffetz is acting in a way that makes Dan Burton and Darrell Issa look like models of responsibility and bipartisanship. He didn’t even have the decency to notify ranking member Elijah Cummings about something this explosive. If that doesn’t trample on basic standards of fairness, I don’t know what does. \\nGranted, it’s not likely that Chaffetz will have to answer for this. He sits in a ridiculously Republican district anchored in Provo and Orem; it has a Cook Partisan Voting Index of R+25, and gave Mitt Romney a punishing 78 percent of the vote in 2012. Moreover, the Republican House leadership has given its full support to Chaffetz’ planned fishing expedition. But that doesn’t mean we can’t turn the hot lights on him. After all, he is a textbook example of what the House has become under Republican control. And he is also the Second Worst Person in the World. About Darrell Lucus \\nDarrell is a 30-something graduate of the University of North Carolina who considers himself a journalist of the old school. An attempt to turn him into a member of the religious right in college only succeeded in turning him into the religious right\\'s worst nightmare--a charismatic Christian who is an unapologetic liberal. His desire to stand up for those who have been scared into silence only increased when he survived an abusive three-year marriage. You may know him on Daily Kos as Christian Dem in NC . Follow him on Twitter @DarrellLucus or connect with him on Facebook . Click here to buy Darrell a Mello Yello. Connect'"
            ]
          },
          "metadata": {
            "tags": []
          },
          "execution_count": 16
        }
      ]
    },
    {
      "cell_type": "code",
      "metadata": {
        "id": "Jfh2-tjykvH8",
        "colab_type": "code",
        "outputId": "cf3ce8f1-4682-400a-e463-90a2e5e7a1ce",
        "colab": {
          "base_uri": "https://localhost:8080/",
          "height": 66
        }
      },
      "source": [
        "df_mod['label'].value_counts()"
      ],
      "execution_count": 0,
      "outputs": [
        {
          "output_type": "execute_result",
          "data": {
            "text/plain": [
              "1    10413\n",
              "0    10387\n",
              "Name: label, dtype: int64"
            ]
          },
          "metadata": {
            "tags": []
          },
          "execution_count": 17
        }
      ]
    },
    {
      "cell_type": "code",
      "metadata": {
        "id": "2fywWTe1kwxX",
        "colab_type": "code",
        "outputId": "16e85a1b-3e18-4859-c352-9220e18175e9",
        "colab": {
          "base_uri": "https://localhost:8080/",
          "height": 66
        }
      },
      "source": [
        "import nltk\n",
        "nltk.download('wordnet')"
      ],
      "execution_count": 0,
      "outputs": [
        {
          "output_type": "stream",
          "text": [
            "[nltk_data] Downloading package wordnet to /root/nltk_data...\n",
            "[nltk_data]   Unzipping corpora/wordnet.zip.\n"
          ],
          "name": "stdout"
        },
        {
          "output_type": "execute_result",
          "data": {
            "text/plain": [
              "True"
            ]
          },
          "metadata": {
            "tags": []
          },
          "execution_count": 18
        }
      ]
    },
    {
      "cell_type": "markdown",
      "metadata": {
        "id": "6eP3jc5piYzV",
        "colab_type": "text"
      },
      "source": [
        "# Removing Punctuations"
      ]
    },
    {
      "cell_type": "code",
      "metadata": {
        "id": "1ddzR_jfk2GR",
        "colab_type": "code",
        "colab": {}
      },
      "source": [
        "import string\n",
        "def remove_punctuations(data):\n",
        "    d = \"\".join([i for i in str(data) if i not in string.punctuation])\n",
        "    return d"
      ],
      "execution_count": 0,
      "outputs": []
    },
    {
      "cell_type": "code",
      "metadata": {
        "id": "XxTRyjwfk39u",
        "colab_type": "code",
        "outputId": "b609729e-d4e9-4d50-faea-c7f341ad70f6",
        "colab": {
          "base_uri": "https://localhost:8080/",
          "height": 33
        }
      },
      "source": [
        "remove_punctuations('hello-madam')"
      ],
      "execution_count": 0,
      "outputs": [
        {
          "output_type": "execute_result",
          "data": {
            "text/plain": [
              "'hellomadam'"
            ]
          },
          "metadata": {
            "tags": []
          },
          "execution_count": 20
        }
      ]
    },
    {
      "cell_type": "markdown",
      "metadata": {
        "id": "hvH_E1x0igi4",
        "colab_type": "text"
      },
      "source": [
        "# Tokenizing"
      ]
    },
    {
      "cell_type": "code",
      "metadata": {
        "id": "ww0G99chk5eU",
        "colab_type": "code",
        "colab": {}
      },
      "source": [
        "from nltk.tokenize import RegexpTokenizer\n",
        "def tokenize(data):\n",
        "    tokenizer = RegexpTokenizer(r'\\w+')\n",
        "    return tokenizer.tokenize(data.lower())"
      ],
      "execution_count": 0,
      "outputs": []
    },
    {
      "cell_type": "code",
      "metadata": {
        "id": "nP6Ei-wmk7Es",
        "colab_type": "code",
        "outputId": "f4a86cfd-efd4-4605-9f33-08b373659f40",
        "colab": {
          "base_uri": "https://localhost:8080/",
          "height": 33
        }
      },
      "source": [
        "tokenize('DEEP LEARNING  model')"
      ],
      "execution_count": 0,
      "outputs": [
        {
          "output_type": "execute_result",
          "data": {
            "text/plain": [
              "['deep', 'learning', 'model']"
            ]
          },
          "metadata": {
            "tags": []
          },
          "execution_count": 22
        }
      ]
    },
    {
      "cell_type": "markdown",
      "metadata": {
        "id": "i2VEJteUikx5",
        "colab_type": "text"
      },
      "source": [
        "# Removing StopWords"
      ]
    },
    {
      "cell_type": "code",
      "metadata": {
        "id": "EBQgTNWAk8Uk",
        "colab_type": "code",
        "outputId": "c468bd46-6315-418f-8a5b-976bbe7a6ee4",
        "colab": {
          "base_uri": "https://localhost:8080/",
          "height": 50
        }
      },
      "source": [
        "from nltk.corpus import stopwords\n",
        "nltk.download('stopwords')\n",
        "def remove_stopwords(data):\n",
        "    data = [i for i in data if i not in stopwords.words('english')]\n",
        "    return data"
      ],
      "execution_count": 0,
      "outputs": [
        {
          "output_type": "stream",
          "text": [
            "[nltk_data] Downloading package stopwords to /root/nltk_data...\n",
            "[nltk_data]   Unzipping corpora/stopwords.zip.\n"
          ],
          "name": "stdout"
        }
      ]
    },
    {
      "cell_type": "code",
      "metadata": {
        "id": "hEEohVlok-BA",
        "colab_type": "code",
        "outputId": "6698215c-f76f-4ef7-bbe0-e8c54173c889",
        "colab": {
          "base_uri": "https://localhost:8080/",
          "height": 33
        }
      },
      "source": [
        "remove_stopwords(['deep', 'is' ,'good'])"
      ],
      "execution_count": 0,
      "outputs": [
        {
          "output_type": "execute_result",
          "data": {
            "text/plain": [
              "['deep', 'good']"
            ]
          },
          "metadata": {
            "tags": []
          },
          "execution_count": 24
        }
      ]
    },
    {
      "cell_type": "markdown",
      "metadata": {
        "id": "Bpms46jmioUN",
        "colab_type": "text"
      },
      "source": [
        "# Lemmatization"
      ]
    },
    {
      "cell_type": "code",
      "metadata": {
        "id": "C8vT8CCzk_Yr",
        "colab_type": "code",
        "colab": {}
      },
      "source": [
        "from nltk.stem import WordNetLemmatizer\n",
        "lemma = WordNetLemmatizer()\n",
        "\n",
        "def lematize(data):\n",
        "    data = [lemma.lemmatize(i) for i in data]\n",
        "    return data"
      ],
      "execution_count": 0,
      "outputs": []
    },
    {
      "cell_type": "code",
      "metadata": {
        "id": "YcX9oZMnlBB9",
        "colab_type": "code",
        "outputId": "c5857b4a-158c-41c7-e7f4-eed97e36d5ca",
        "colab": {
          "base_uri": "https://localhost:8080/",
          "height": 33
        }
      },
      "source": [
        "lematize(['plays'])"
      ],
      "execution_count": 0,
      "outputs": [
        {
          "output_type": "execute_result",
          "data": {
            "text/plain": [
              "['play']"
            ]
          },
          "metadata": {
            "tags": []
          },
          "execution_count": 26
        }
      ]
    },
    {
      "cell_type": "markdown",
      "metadata": {
        "id": "9I3ui1wEir1U",
        "colab_type": "text"
      },
      "source": [
        "# Stemming"
      ]
    },
    {
      "cell_type": "code",
      "metadata": {
        "id": "vtB5rcXelCig",
        "colab_type": "code",
        "colab": {}
      },
      "source": [
        "from nltk.stem.porter import PorterStemmer\n",
        "stemming = PorterStemmer()\n",
        "def stem(data):\n",
        "    data = \" \".join([stemming.stem(i) for i in data])\n",
        "    return data"
      ],
      "execution_count": 0,
      "outputs": []
    },
    {
      "cell_type": "code",
      "metadata": {
        "id": "JAoVfDVWlEQ7",
        "colab_type": "code",
        "outputId": "adcec598-6761-4d54-eebc-53fb7e2e5da5",
        "colab": {
          "base_uri": "https://localhost:8080/",
          "height": 33
        }
      },
      "source": [
        "stem(['playing'])"
      ],
      "execution_count": 0,
      "outputs": [
        {
          "output_type": "execute_result",
          "data": {
            "text/plain": [
              "'play'"
            ]
          },
          "metadata": {
            "tags": []
          },
          "execution_count": 28
        }
      ]
    },
    {
      "cell_type": "code",
      "metadata": {
        "id": "Jy4HUPUvixWw",
        "colab_type": "code",
        "colab": {}
      },
      "source": [
        ""
      ],
      "execution_count": 0,
      "outputs": []
    },
    {
      "cell_type": "markdown",
      "metadata": {
        "id": "oc4lOwYPixzZ",
        "colab_type": "text"
      },
      "source": [
        "# Cleaning Body"
      ]
    },
    {
      "cell_type": "code",
      "metadata": {
        "id": "UzwTizZWlFna",
        "colab_type": "code",
        "outputId": "3b214e3d-8ce7-439b-f470-c45828ed36a0",
        "colab": {
          "base_uri": "https://localhost:8080/",
          "height": 115
        }
      },
      "source": [
        "df_mod['finalHeaderBody'] = df_mod.apply(lambda row: remove_punctuations(row['text']), axis=1)"
      ],
      "execution_count": 0,
      "outputs": [
        {
          "output_type": "stream",
          "text": [
            "/usr/local/lib/python3.6/dist-packages/ipykernel_launcher.py:1: SettingWithCopyWarning: \n",
            "A value is trying to be set on a copy of a slice from a DataFrame.\n",
            "Try using .loc[row_indexer,col_indexer] = value instead\n",
            "\n",
            "See the caveats in the documentation: https://pandas.pydata.org/pandas-docs/stable/user_guide/indexing.html#returning-a-view-versus-a-copy\n",
            "  \"\"\"Entry point for launching an IPython kernel.\n"
          ],
          "name": "stderr"
        }
      ]
    },
    {
      "cell_type": "code",
      "metadata": {
        "id": "rfSElJZAuSLo",
        "colab_type": "code",
        "outputId": "06fac93e-8257-4195-ad80-b46d761bf8a4",
        "colab": {
          "base_uri": "https://localhost:8080/",
          "height": 115
        }
      },
      "source": [
        "df_mod['finalHeaderBody'] = df_mod.apply(lambda row: tokenize(row['finalHeaderBody']), axis=1)"
      ],
      "execution_count": 0,
      "outputs": [
        {
          "output_type": "stream",
          "text": [
            "/usr/local/lib/python3.6/dist-packages/ipykernel_launcher.py:1: SettingWithCopyWarning: \n",
            "A value is trying to be set on a copy of a slice from a DataFrame.\n",
            "Try using .loc[row_indexer,col_indexer] = value instead\n",
            "\n",
            "See the caveats in the documentation: https://pandas.pydata.org/pandas-docs/stable/user_guide/indexing.html#returning-a-view-versus-a-copy\n",
            "  \"\"\"Entry point for launching an IPython kernel.\n"
          ],
          "name": "stderr"
        }
      ]
    },
    {
      "cell_type": "code",
      "metadata": {
        "id": "atpuz3zXuSBZ",
        "colab_type": "code",
        "colab": {}
      },
      "source": [
        "# df_mod['finalHeaderBody'] = df_mod.apply(lambda row: remove_stopwords(row['finalHeaderBody']), axis=1)"
      ],
      "execution_count": 0,
      "outputs": []
    },
    {
      "cell_type": "code",
      "metadata": {
        "id": "kN74IwCZuR3W",
        "colab_type": "code",
        "outputId": "22ed8d96-2cc9-4a09-8605-e0cce1f1cd2a",
        "colab": {
          "base_uri": "https://localhost:8080/",
          "height": 115
        }
      },
      "source": [
        "df_mod['finalHeaderBody'] = df_mod.apply(lambda row: lematize(row['finalHeaderBody']), axis=1)"
      ],
      "execution_count": 0,
      "outputs": [
        {
          "output_type": "stream",
          "text": [
            "/usr/local/lib/python3.6/dist-packages/ipykernel_launcher.py:1: SettingWithCopyWarning: \n",
            "A value is trying to be set on a copy of a slice from a DataFrame.\n",
            "Try using .loc[row_indexer,col_indexer] = value instead\n",
            "\n",
            "See the caveats in the documentation: https://pandas.pydata.org/pandas-docs/stable/user_guide/indexing.html#returning-a-view-versus-a-copy\n",
            "  \"\"\"Entry point for launching an IPython kernel.\n"
          ],
          "name": "stderr"
        }
      ]
    },
    {
      "cell_type": "code",
      "metadata": {
        "id": "0Svsw5riuZz7",
        "colab_type": "code",
        "colab": {}
      },
      "source": [
        "df_mod['finalHeaderBody'] = df_mod.apply(lambda row: stem(row['finalHeaderBody']), axis=1)"
      ],
      "execution_count": 0,
      "outputs": []
    },
    {
      "cell_type": "markdown",
      "metadata": {
        "id": "IhLXBZToi2Y2",
        "colab_type": "text"
      },
      "source": [
        "# Cleaning title"
      ]
    },
    {
      "cell_type": "code",
      "metadata": {
        "id": "gzi10CRat-j3",
        "colab_type": "code",
        "colab": {}
      },
      "source": [
        "df_mod['finalTitle'] = df_mod.apply(lambda row: remove_punctuations(row['title']), axis=1)\n",
        "\n",
        "df_mod['finalTitle'] = df_mod.apply(lambda row: tokenize(row['finalTitle']), axis=1)\n",
        "\n",
        "# df_mod['finalHeaderBody'] = df_mod.apply(lambda row: remove_stopwords(row['finalHeaderBody']), axis=1)\n",
        "\n",
        "df_mod['finalTitle'] = df_mod.apply(lambda row: lematize(row['finalTitle']), axis=1)\n",
        "\n",
        "df_mod['finalTitle'] = df_mod.apply(lambda row: stem(row['finalTitle']), axis=1)"
      ],
      "execution_count": 0,
      "outputs": []
    },
    {
      "cell_type": "code",
      "metadata": {
        "id": "RvagZ2bslIgt",
        "colab_type": "code",
        "outputId": "dac28960-47ab-4ae9-8744-ca4bd48af376",
        "colab": {
          "base_uri": "https://localhost:8080/",
          "height": 505
        }
      },
      "source": [
        "df_mod"
      ],
      "execution_count": 0,
      "outputs": [
        {
          "output_type": "execute_result",
          "data": {
            "text/html": [
              "<div>\n",
              "<style scoped>\n",
              "    .dataframe tbody tr th:only-of-type {\n",
              "        vertical-align: middle;\n",
              "    }\n",
              "\n",
              "    .dataframe tbody tr th {\n",
              "        vertical-align: top;\n",
              "    }\n",
              "\n",
              "    .dataframe thead th {\n",
              "        text-align: right;\n",
              "    }\n",
              "</style>\n",
              "<table border=\"1\" class=\"dataframe\">\n",
              "  <thead>\n",
              "    <tr style=\"text-align: right;\">\n",
              "      <th></th>\n",
              "      <th>title</th>\n",
              "      <th>text</th>\n",
              "      <th>label</th>\n",
              "      <th>finalHeaderBody</th>\n",
              "      <th>finalTitle</th>\n",
              "    </tr>\n",
              "  </thead>\n",
              "  <tbody>\n",
              "    <tr>\n",
              "      <th>0</th>\n",
              "      <td>House Dem Aide: We Didn’t Even See Comey’s Let...</td>\n",
              "      <td>House Dem Aide: We Didn’t Even See Comey’s Let...</td>\n",
              "      <td>1</td>\n",
              "      <td>hous dem aid we didn t even see comey s letter...</td>\n",
              "      <td>hous dem aid we didn t even see comey s letter...</td>\n",
              "    </tr>\n",
              "    <tr>\n",
              "      <th>1</th>\n",
              "      <td>FLYNN: Hillary Clinton, Big Woman on Campus - ...</td>\n",
              "      <td>Ever get the feeling your life circles the rou...</td>\n",
              "      <td>0</td>\n",
              "      <td>ever get the feel your life circl the roundabo...</td>\n",
              "      <td>flynn hillari clinton big woman on campu breit...</td>\n",
              "    </tr>\n",
              "    <tr>\n",
              "      <th>2</th>\n",
              "      <td>Why the Truth Might Get You Fired</td>\n",
              "      <td>Why the Truth Might Get You Fired October 29, ...</td>\n",
              "      <td>1</td>\n",
              "      <td>whi the truth might get you fire octob 29 2016...</td>\n",
              "      <td>whi the truth might get you fire</td>\n",
              "    </tr>\n",
              "    <tr>\n",
              "      <th>3</th>\n",
              "      <td>15 Civilians Killed In Single US Airstrike Hav...</td>\n",
              "      <td>Videos 15 Civilians Killed In Single US Airstr...</td>\n",
              "      <td>1</td>\n",
              "      <td>video 15 civilian kill in singl u airstrik hav...</td>\n",
              "      <td>15 civilian kill in singl u airstrik have been...</td>\n",
              "    </tr>\n",
              "    <tr>\n",
              "      <th>4</th>\n",
              "      <td>Iranian woman jailed for fictional unpublished...</td>\n",
              "      <td>Print \\nAn Iranian woman has been sentenced to...</td>\n",
              "      <td>1</td>\n",
              "      <td>print an iranian woman ha been sentenc to six ...</td>\n",
              "      <td>iranian woman jail for fiction unpublish stori...</td>\n",
              "    </tr>\n",
              "    <tr>\n",
              "      <th>...</th>\n",
              "      <td>...</td>\n",
              "      <td>...</td>\n",
              "      <td>...</td>\n",
              "      <td>...</td>\n",
              "      <td>...</td>\n",
              "    </tr>\n",
              "    <tr>\n",
              "      <th>20795</th>\n",
              "      <td>Rapper T.I.: Trump a ’Poster Child For White S...</td>\n",
              "      <td>Rapper T. I. unloaded on black celebrities who...</td>\n",
              "      <td>0</td>\n",
              "      <td>rapper t i unload on black celebr who met with...</td>\n",
              "      <td>rapper ti trump a poster child for white supre...</td>\n",
              "    </tr>\n",
              "    <tr>\n",
              "      <th>20796</th>\n",
              "      <td>N.F.L. Playoffs: Schedule, Matchups and Odds -...</td>\n",
              "      <td>When the Green Bay Packers lost to the Washing...</td>\n",
              "      <td>0</td>\n",
              "      <td>when the green bay packer lost to the washingt...</td>\n",
              "      <td>nfl playoff schedul matchup and odd the new yo...</td>\n",
              "    </tr>\n",
              "    <tr>\n",
              "      <th>20797</th>\n",
              "      <td>Macy’s Is Said to Receive Takeover Approach by...</td>\n",
              "      <td>The Macy’s of today grew from the union of sev...</td>\n",
              "      <td>0</td>\n",
              "      <td>the maci s of today grew from the union of sev...</td>\n",
              "      <td>maci s is said to receiv takeov approach by hu...</td>\n",
              "    </tr>\n",
              "    <tr>\n",
              "      <th>20798</th>\n",
              "      <td>NATO, Russia To Hold Parallel Exercises In Bal...</td>\n",
              "      <td>NATO, Russia To Hold Parallel Exercises In Bal...</td>\n",
              "      <td>1</td>\n",
              "      <td>nato russia to hold parallel exercis in balkan...</td>\n",
              "      <td>nato russia to hold parallel exercis in balkan</td>\n",
              "    </tr>\n",
              "    <tr>\n",
              "      <th>20799</th>\n",
              "      <td>What Keeps the F-35 Alive</td>\n",
              "      <td>David Swanson is an author, activist, journa...</td>\n",
              "      <td>1</td>\n",
              "      <td>david swanson is an author activist journalist...</td>\n",
              "      <td>what keep the f35 aliv</td>\n",
              "    </tr>\n",
              "  </tbody>\n",
              "</table>\n",
              "<p>20800 rows × 5 columns</p>\n",
              "</div>"
            ],
            "text/plain": [
              "                                                   title  ...                                         finalTitle\n",
              "0      House Dem Aide: We Didn’t Even See Comey’s Let...  ...  hous dem aid we didn t even see comey s letter...\n",
              "1      FLYNN: Hillary Clinton, Big Woman on Campus - ...  ...  flynn hillari clinton big woman on campu breit...\n",
              "2                      Why the Truth Might Get You Fired  ...                   whi the truth might get you fire\n",
              "3      15 Civilians Killed In Single US Airstrike Hav...  ...  15 civilian kill in singl u airstrik have been...\n",
              "4      Iranian woman jailed for fictional unpublished...  ...  iranian woman jail for fiction unpublish stori...\n",
              "...                                                  ...  ...                                                ...\n",
              "20795  Rapper T.I.: Trump a ’Poster Child For White S...  ...  rapper ti trump a poster child for white supre...\n",
              "20796  N.F.L. Playoffs: Schedule, Matchups and Odds -...  ...  nfl playoff schedul matchup and odd the new yo...\n",
              "20797  Macy’s Is Said to Receive Takeover Approach by...  ...  maci s is said to receiv takeov approach by hu...\n",
              "20798  NATO, Russia To Hold Parallel Exercises In Bal...  ...     nato russia to hold parallel exercis in balkan\n",
              "20799                          What Keeps the F-35 Alive  ...                             what keep the f35 aliv\n",
              "\n",
              "[20800 rows x 5 columns]"
            ]
          },
          "metadata": {
            "tags": []
          },
          "execution_count": 44
        }
      ]
    },
    {
      "cell_type": "code",
      "metadata": {
        "id": "RGDNPd9clMc8",
        "colab_type": "code",
        "colab": {}
      },
      "source": [
        "# import re\n",
        "# def break_subject(text):\n",
        "#   if type(text) is float:\n",
        "#     return []\n",
        "#   import re\n",
        "#   return re.split('; |, |-',text)"
      ],
      "execution_count": 0,
      "outputs": []
    },
    {
      "cell_type": "code",
      "metadata": {
        "id": "fXyiVr-1lPpO",
        "colab_type": "code",
        "colab": {}
      },
      "source": [
        "# df_mod['finalSubject'] = df_mod.apply(lambda row: break_subject(row['subject']), axis=1)"
      ],
      "execution_count": 0,
      "outputs": []
    },
    {
      "cell_type": "code",
      "metadata": {
        "id": "a6_2NxGglRfE",
        "colab_type": "code",
        "outputId": "83eae71d-5799-4cce-8687-5281877e6dcb",
        "colab": {
          "base_uri": "https://localhost:8080/",
          "height": 223
        }
      },
      "source": [
        "df_mod.head()"
      ],
      "execution_count": 0,
      "outputs": [
        {
          "output_type": "execute_result",
          "data": {
            "text/html": [
              "<div>\n",
              "<style scoped>\n",
              "    .dataframe tbody tr th:only-of-type {\n",
              "        vertical-align: middle;\n",
              "    }\n",
              "\n",
              "    .dataframe tbody tr th {\n",
              "        vertical-align: top;\n",
              "    }\n",
              "\n",
              "    .dataframe thead th {\n",
              "        text-align: right;\n",
              "    }\n",
              "</style>\n",
              "<table border=\"1\" class=\"dataframe\">\n",
              "  <thead>\n",
              "    <tr style=\"text-align: right;\">\n",
              "      <th></th>\n",
              "      <th>title</th>\n",
              "      <th>text</th>\n",
              "      <th>label</th>\n",
              "      <th>finalHeaderBody</th>\n",
              "      <th>finalTitle</th>\n",
              "    </tr>\n",
              "  </thead>\n",
              "  <tbody>\n",
              "    <tr>\n",
              "      <th>0</th>\n",
              "      <td>House Dem Aide: We Didn’t Even See Comey’s Let...</td>\n",
              "      <td>House Dem Aide: We Didn’t Even See Comey’s Let...</td>\n",
              "      <td>1</td>\n",
              "      <td>hous dem aid we didn t even see comey s letter...</td>\n",
              "      <td>hous dem aid we didn t even see comey s letter...</td>\n",
              "    </tr>\n",
              "    <tr>\n",
              "      <th>1</th>\n",
              "      <td>FLYNN: Hillary Clinton, Big Woman on Campus - ...</td>\n",
              "      <td>Ever get the feeling your life circles the rou...</td>\n",
              "      <td>0</td>\n",
              "      <td>ever get the feel your life circl the roundabo...</td>\n",
              "      <td>flynn hillari clinton big woman on campu breit...</td>\n",
              "    </tr>\n",
              "    <tr>\n",
              "      <th>2</th>\n",
              "      <td>Why the Truth Might Get You Fired</td>\n",
              "      <td>Why the Truth Might Get You Fired October 29, ...</td>\n",
              "      <td>1</td>\n",
              "      <td>whi the truth might get you fire octob 29 2016...</td>\n",
              "      <td>whi the truth might get you fire</td>\n",
              "    </tr>\n",
              "    <tr>\n",
              "      <th>3</th>\n",
              "      <td>15 Civilians Killed In Single US Airstrike Hav...</td>\n",
              "      <td>Videos 15 Civilians Killed In Single US Airstr...</td>\n",
              "      <td>1</td>\n",
              "      <td>video 15 civilian kill in singl u airstrik hav...</td>\n",
              "      <td>15 civilian kill in singl u airstrik have been...</td>\n",
              "    </tr>\n",
              "    <tr>\n",
              "      <th>4</th>\n",
              "      <td>Iranian woman jailed for fictional unpublished...</td>\n",
              "      <td>Print \\nAn Iranian woman has been sentenced to...</td>\n",
              "      <td>1</td>\n",
              "      <td>print an iranian woman ha been sentenc to six ...</td>\n",
              "      <td>iranian woman jail for fiction unpublish stori...</td>\n",
              "    </tr>\n",
              "  </tbody>\n",
              "</table>\n",
              "</div>"
            ],
            "text/plain": [
              "                                               title  ...                                         finalTitle\n",
              "0  House Dem Aide: We Didn’t Even See Comey’s Let...  ...  hous dem aid we didn t even see comey s letter...\n",
              "1  FLYNN: Hillary Clinton, Big Woman on Campus - ...  ...  flynn hillari clinton big woman on campu breit...\n",
              "2                  Why the Truth Might Get You Fired  ...                   whi the truth might get you fire\n",
              "3  15 Civilians Killed In Single US Airstrike Hav...  ...  15 civilian kill in singl u airstrik have been...\n",
              "4  Iranian woman jailed for fictional unpublished...  ...  iranian woman jail for fiction unpublish stori...\n",
              "\n",
              "[5 rows x 5 columns]"
            ]
          },
          "metadata": {
            "tags": []
          },
          "execution_count": 47
        }
      ]
    },
    {
      "cell_type": "code",
      "metadata": {
        "id": "81SxTXTolUEl",
        "colab_type": "code",
        "colab": {}
      },
      "source": [
        "# df_mod['finalSubject'][0]"
      ],
      "execution_count": 0,
      "outputs": []
    },
    {
      "cell_type": "code",
      "metadata": {
        "id": "RGaoKba3lVlg",
        "colab_type": "code",
        "colab": {}
      },
      "source": [
        "# from nltk.corpus import wordnet \n",
        "# def generate_Synonyms(wordlist):\n",
        "#     synonyms = set()\n",
        "#     for i in wordlist:\n",
        "#       if type(i) is not str:\n",
        "#         continue\n",
        "#       for syn in wordnet.synsets(i): \n",
        "#           for l in syn.lemmas(): \n",
        "#               synonyms.add(l.name())\n",
        "#     return list(synonyms)"
      ],
      "execution_count": 0,
      "outputs": []
    },
    {
      "cell_type": "code",
      "metadata": {
        "id": "CiwHq_dIlXYy",
        "colab_type": "code",
        "colab": {}
      },
      "source": [
        "# df_mod['subjectSynonyms'] = df_mod.apply(lambda row: generate_Synonyms(row['finalSubject']), axis=1)"
      ],
      "execution_count": 0,
      "outputs": []
    },
    {
      "cell_type": "code",
      "metadata": {
        "id": "jDV88Qp6lZKF",
        "colab_type": "code",
        "colab": {}
      },
      "source": [
        "df_mod = df_mod[['finalTitle','finalHeaderBody','label']]"
      ],
      "execution_count": 0,
      "outputs": []
    },
    {
      "cell_type": "code",
      "metadata": {
        "id": "kmBNEISClcJp",
        "colab_type": "code",
        "outputId": "25873000-2923-47c3-b2ac-de58a95de96e",
        "colab": {
          "base_uri": "https://localhost:8080/",
          "height": 391
        }
      },
      "source": [
        "df_mod"
      ],
      "execution_count": 0,
      "outputs": [
        {
          "output_type": "execute_result",
          "data": {
            "text/html": [
              "<div>\n",
              "<style scoped>\n",
              "    .dataframe tbody tr th:only-of-type {\n",
              "        vertical-align: middle;\n",
              "    }\n",
              "\n",
              "    .dataframe tbody tr th {\n",
              "        vertical-align: top;\n",
              "    }\n",
              "\n",
              "    .dataframe thead th {\n",
              "        text-align: right;\n",
              "    }\n",
              "</style>\n",
              "<table border=\"1\" class=\"dataframe\">\n",
              "  <thead>\n",
              "    <tr style=\"text-align: right;\">\n",
              "      <th></th>\n",
              "      <th>finalTitle</th>\n",
              "      <th>finalHeaderBody</th>\n",
              "      <th>label</th>\n",
              "    </tr>\n",
              "  </thead>\n",
              "  <tbody>\n",
              "    <tr>\n",
              "      <th>0</th>\n",
              "      <td>hous dem aid we didn t even see comey s letter...</td>\n",
              "      <td>hous dem aid we didn t even see comey s letter...</td>\n",
              "      <td>1</td>\n",
              "    </tr>\n",
              "    <tr>\n",
              "      <th>1</th>\n",
              "      <td>flynn hillari clinton big woman on campu breit...</td>\n",
              "      <td>ever get the feel your life circl the roundabo...</td>\n",
              "      <td>0</td>\n",
              "    </tr>\n",
              "    <tr>\n",
              "      <th>2</th>\n",
              "      <td>whi the truth might get you fire</td>\n",
              "      <td>whi the truth might get you fire octob 29 2016...</td>\n",
              "      <td>1</td>\n",
              "    </tr>\n",
              "    <tr>\n",
              "      <th>3</th>\n",
              "      <td>15 civilian kill in singl u airstrik have been...</td>\n",
              "      <td>video 15 civilian kill in singl u airstrik hav...</td>\n",
              "      <td>1</td>\n",
              "    </tr>\n",
              "    <tr>\n",
              "      <th>4</th>\n",
              "      <td>iranian woman jail for fiction unpublish stori...</td>\n",
              "      <td>print an iranian woman ha been sentenc to six ...</td>\n",
              "      <td>1</td>\n",
              "    </tr>\n",
              "    <tr>\n",
              "      <th>...</th>\n",
              "      <td>...</td>\n",
              "      <td>...</td>\n",
              "      <td>...</td>\n",
              "    </tr>\n",
              "    <tr>\n",
              "      <th>20795</th>\n",
              "      <td>rapper ti trump a poster child for white supre...</td>\n",
              "      <td>rapper t i unload on black celebr who met with...</td>\n",
              "      <td>0</td>\n",
              "    </tr>\n",
              "    <tr>\n",
              "      <th>20796</th>\n",
              "      <td>nfl playoff schedul matchup and odd the new yo...</td>\n",
              "      <td>when the green bay packer lost to the washingt...</td>\n",
              "      <td>0</td>\n",
              "    </tr>\n",
              "    <tr>\n",
              "      <th>20797</th>\n",
              "      <td>maci s is said to receiv takeov approach by hu...</td>\n",
              "      <td>the maci s of today grew from the union of sev...</td>\n",
              "      <td>0</td>\n",
              "    </tr>\n",
              "    <tr>\n",
              "      <th>20798</th>\n",
              "      <td>nato russia to hold parallel exercis in balkan</td>\n",
              "      <td>nato russia to hold parallel exercis in balkan...</td>\n",
              "      <td>1</td>\n",
              "    </tr>\n",
              "    <tr>\n",
              "      <th>20799</th>\n",
              "      <td>what keep the f35 aliv</td>\n",
              "      <td>david swanson is an author activist journalist...</td>\n",
              "      <td>1</td>\n",
              "    </tr>\n",
              "  </tbody>\n",
              "</table>\n",
              "<p>20800 rows × 3 columns</p>\n",
              "</div>"
            ],
            "text/plain": [
              "                                              finalTitle  ... label\n",
              "0      hous dem aid we didn t even see comey s letter...  ...     1\n",
              "1      flynn hillari clinton big woman on campu breit...  ...     0\n",
              "2                       whi the truth might get you fire  ...     1\n",
              "3      15 civilian kill in singl u airstrik have been...  ...     1\n",
              "4      iranian woman jail for fiction unpublish stori...  ...     1\n",
              "...                                                  ...  ...   ...\n",
              "20795  rapper ti trump a poster child for white supre...  ...     0\n",
              "20796  nfl playoff schedul matchup and odd the new yo...  ...     0\n",
              "20797  maci s is said to receiv takeov approach by hu...  ...     0\n",
              "20798     nato russia to hold parallel exercis in balkan  ...     1\n",
              "20799                             what keep the f35 aliv  ...     1\n",
              "\n",
              "[20800 rows x 3 columns]"
            ]
          },
          "metadata": {
            "tags": []
          },
          "execution_count": 53
        }
      ]
    },
    {
      "cell_type": "markdown",
      "metadata": {
        "id": "xIDEdaF7jCZl",
        "colab_type": "text"
      },
      "source": [
        "# Loading TfIdfVectorizer"
      ]
    },
    {
      "cell_type": "code",
      "metadata": {
        "id": "5q9kJ4TnldDb",
        "colab_type": "code",
        "colab": {}
      },
      "source": [
        "from sklearn.metrics.pairwise import cosine_similarity\n",
        "from sklearn.feature_extraction.text import CountVectorizer\n",
        "from sklearn.feature_extraction.text import TfidfVectorizer"
      ],
      "execution_count": 0,
      "outputs": []
    },
    {
      "cell_type": "code",
      "metadata": {
        "id": "7WLwmLeilmkT",
        "colab_type": "code",
        "colab": {}
      },
      "source": [
        "def CountVector(data):\n",
        "    v = CountVectorizer(stop_words='english')\n",
        "    vectorizer = v.fit_transform(data)\n",
        "    vectors = vectorizer.toarray()\n",
        "    return vectors"
      ],
      "execution_count": 0,
      "outputs": []
    },
    {
      "cell_type": "code",
      "metadata": {
        "id": "jPy7GUPIlpzI",
        "colab_type": "code",
        "colab": {}
      },
      "source": [
        "# def combineSynonyms(data):\n",
        "#     return ' '.join(data)"
      ],
      "execution_count": 0,
      "outputs": []
    },
    {
      "cell_type": "code",
      "metadata": {
        "id": "Y2-Je1kwlrOJ",
        "colab_type": "code",
        "colab": {}
      },
      "source": [
        "# combineSynonyms(['mi','as'])"
      ],
      "execution_count": 0,
      "outputs": []
    },
    {
      "cell_type": "code",
      "metadata": {
        "id": "NB0Z5qPqlss2",
        "colab_type": "code",
        "colab": {}
      },
      "source": [
        "# df_mod['subjectSynonyms'] = df_mod['subjectSynonyms'].apply(lambda x: combineSynonyms(x))"
      ],
      "execution_count": 0,
      "outputs": []
    },
    {
      "cell_type": "code",
      "metadata": {
        "id": "EWK9bpr1luTz",
        "colab_type": "code",
        "outputId": "70539476-5530-4e5d-9697-2593307c073b",
        "colab": {
          "base_uri": "https://localhost:8080/",
          "height": 391
        }
      },
      "source": [
        "df_mod"
      ],
      "execution_count": 0,
      "outputs": [
        {
          "output_type": "execute_result",
          "data": {
            "text/html": [
              "<div>\n",
              "<style scoped>\n",
              "    .dataframe tbody tr th:only-of-type {\n",
              "        vertical-align: middle;\n",
              "    }\n",
              "\n",
              "    .dataframe tbody tr th {\n",
              "        vertical-align: top;\n",
              "    }\n",
              "\n",
              "    .dataframe thead th {\n",
              "        text-align: right;\n",
              "    }\n",
              "</style>\n",
              "<table border=\"1\" class=\"dataframe\">\n",
              "  <thead>\n",
              "    <tr style=\"text-align: right;\">\n",
              "      <th></th>\n",
              "      <th>finalTitle</th>\n",
              "      <th>finalHeaderBody</th>\n",
              "      <th>label</th>\n",
              "    </tr>\n",
              "  </thead>\n",
              "  <tbody>\n",
              "    <tr>\n",
              "      <th>0</th>\n",
              "      <td>hous dem aid we didn t even see comey s letter...</td>\n",
              "      <td>hous dem aid we didn t even see comey s letter...</td>\n",
              "      <td>1</td>\n",
              "    </tr>\n",
              "    <tr>\n",
              "      <th>1</th>\n",
              "      <td>flynn hillari clinton big woman on campu breit...</td>\n",
              "      <td>ever get the feel your life circl the roundabo...</td>\n",
              "      <td>0</td>\n",
              "    </tr>\n",
              "    <tr>\n",
              "      <th>2</th>\n",
              "      <td>whi the truth might get you fire</td>\n",
              "      <td>whi the truth might get you fire octob 29 2016...</td>\n",
              "      <td>1</td>\n",
              "    </tr>\n",
              "    <tr>\n",
              "      <th>3</th>\n",
              "      <td>15 civilian kill in singl u airstrik have been...</td>\n",
              "      <td>video 15 civilian kill in singl u airstrik hav...</td>\n",
              "      <td>1</td>\n",
              "    </tr>\n",
              "    <tr>\n",
              "      <th>4</th>\n",
              "      <td>iranian woman jail for fiction unpublish stori...</td>\n",
              "      <td>print an iranian woman ha been sentenc to six ...</td>\n",
              "      <td>1</td>\n",
              "    </tr>\n",
              "    <tr>\n",
              "      <th>...</th>\n",
              "      <td>...</td>\n",
              "      <td>...</td>\n",
              "      <td>...</td>\n",
              "    </tr>\n",
              "    <tr>\n",
              "      <th>20795</th>\n",
              "      <td>rapper ti trump a poster child for white supre...</td>\n",
              "      <td>rapper t i unload on black celebr who met with...</td>\n",
              "      <td>0</td>\n",
              "    </tr>\n",
              "    <tr>\n",
              "      <th>20796</th>\n",
              "      <td>nfl playoff schedul matchup and odd the new yo...</td>\n",
              "      <td>when the green bay packer lost to the washingt...</td>\n",
              "      <td>0</td>\n",
              "    </tr>\n",
              "    <tr>\n",
              "      <th>20797</th>\n",
              "      <td>maci s is said to receiv takeov approach by hu...</td>\n",
              "      <td>the maci s of today grew from the union of sev...</td>\n",
              "      <td>0</td>\n",
              "    </tr>\n",
              "    <tr>\n",
              "      <th>20798</th>\n",
              "      <td>nato russia to hold parallel exercis in balkan</td>\n",
              "      <td>nato russia to hold parallel exercis in balkan...</td>\n",
              "      <td>1</td>\n",
              "    </tr>\n",
              "    <tr>\n",
              "      <th>20799</th>\n",
              "      <td>what keep the f35 aliv</td>\n",
              "      <td>david swanson is an author activist journalist...</td>\n",
              "      <td>1</td>\n",
              "    </tr>\n",
              "  </tbody>\n",
              "</table>\n",
              "<p>20800 rows × 3 columns</p>\n",
              "</div>"
            ],
            "text/plain": [
              "                                              finalTitle  ... label\n",
              "0      hous dem aid we didn t even see comey s letter...  ...     1\n",
              "1      flynn hillari clinton big woman on campu breit...  ...     0\n",
              "2                       whi the truth might get you fire  ...     1\n",
              "3      15 civilian kill in singl u airstrik have been...  ...     1\n",
              "4      iranian woman jail for fiction unpublish stori...  ...     1\n",
              "...                                                  ...  ...   ...\n",
              "20795  rapper ti trump a poster child for white supre...  ...     0\n",
              "20796  nfl playoff schedul matchup and odd the new yo...  ...     0\n",
              "20797  maci s is said to receiv takeov approach by hu...  ...     0\n",
              "20798     nato russia to hold parallel exercis in balkan  ...     1\n",
              "20799                             what keep the f35 aliv  ...     1\n",
              "\n",
              "[20800 rows x 3 columns]"
            ]
          },
          "metadata": {
            "tags": []
          },
          "execution_count": 59
        }
      ]
    },
    {
      "cell_type": "markdown",
      "metadata": {
        "id": "rcA6C731jJjg",
        "colab_type": "text"
      },
      "source": [
        "# TfIdVectorizer, Cosine Similarity"
      ]
    },
    {
      "cell_type": "code",
      "metadata": {
        "id": "ljN8GH6Elvq_",
        "colab_type": "code",
        "colab": {}
      },
      "source": [
        "from sklearn.feature_extraction.text import TfidfVectorizer\n",
        "# create the transform\n",
        "def cosine_sim(statement):\n",
        "  statement=statement.split('@@')\n",
        "  # print(statement)\n",
        "  text1,text2=statement[0],statement[1]\n",
        "  vectorizer = TfidfVectorizer(stop_words='english')\n",
        "  tfidf = vectorizer.fit_transform([text1, text2])\n",
        "  sim_score=((tfidf * tfidf.T).A)[0,1]\n",
        "  # if sim_score*100>0:\n",
        "  #   return 1\n",
        "  return sim_score"
      ],
      "execution_count": 0,
      "outputs": []
    },
    {
      "cell_type": "code",
      "metadata": {
        "id": "yAGZ3C9YlyG_",
        "colab_type": "code",
        "outputId": "57f62701-5077-4eee-d0ba-d23dc906d045",
        "colab": {
          "base_uri": "https://localhost:8080/",
          "height": 115
        }
      },
      "source": [
        "df_mod['test_string']= df_mod['finalHeaderBody'] +'@@'+df_mod['finalTitle']"
      ],
      "execution_count": 0,
      "outputs": [
        {
          "output_type": "stream",
          "text": [
            "/usr/local/lib/python3.6/dist-packages/ipykernel_launcher.py:1: SettingWithCopyWarning: \n",
            "A value is trying to be set on a copy of a slice from a DataFrame.\n",
            "Try using .loc[row_indexer,col_indexer] = value instead\n",
            "\n",
            "See the caveats in the documentation: https://pandas.pydata.org/pandas-docs/stable/user_guide/indexing.html#returning-a-view-versus-a-copy\n",
            "  \"\"\"Entry point for launching an IPython kernel.\n"
          ],
          "name": "stderr"
        }
      ]
    },
    {
      "cell_type": "code",
      "metadata": {
        "id": "o3_xnYDHl0Ac",
        "colab_type": "code",
        "outputId": "da5999d2-9e69-42c7-9cdf-d52ae2efe5d3",
        "colab": {
          "base_uri": "https://localhost:8080/",
          "height": 391
        }
      },
      "source": [
        "df_mod"
      ],
      "execution_count": 0,
      "outputs": [
        {
          "output_type": "execute_result",
          "data": {
            "text/html": [
              "<div>\n",
              "<style scoped>\n",
              "    .dataframe tbody tr th:only-of-type {\n",
              "        vertical-align: middle;\n",
              "    }\n",
              "\n",
              "    .dataframe tbody tr th {\n",
              "        vertical-align: top;\n",
              "    }\n",
              "\n",
              "    .dataframe thead th {\n",
              "        text-align: right;\n",
              "    }\n",
              "</style>\n",
              "<table border=\"1\" class=\"dataframe\">\n",
              "  <thead>\n",
              "    <tr style=\"text-align: right;\">\n",
              "      <th></th>\n",
              "      <th>finalTitle</th>\n",
              "      <th>finalHeaderBody</th>\n",
              "      <th>label</th>\n",
              "      <th>test_string</th>\n",
              "    </tr>\n",
              "  </thead>\n",
              "  <tbody>\n",
              "    <tr>\n",
              "      <th>0</th>\n",
              "      <td>hous dem aid we didn t even see comey s letter...</td>\n",
              "      <td>hous dem aid we didn t even see comey s letter...</td>\n",
              "      <td>1</td>\n",
              "      <td>hous dem aid we didn t even see comey s letter...</td>\n",
              "    </tr>\n",
              "    <tr>\n",
              "      <th>1</th>\n",
              "      <td>flynn hillari clinton big woman on campu breit...</td>\n",
              "      <td>ever get the feel your life circl the roundabo...</td>\n",
              "      <td>0</td>\n",
              "      <td>ever get the feel your life circl the roundabo...</td>\n",
              "    </tr>\n",
              "    <tr>\n",
              "      <th>2</th>\n",
              "      <td>whi the truth might get you fire</td>\n",
              "      <td>whi the truth might get you fire octob 29 2016...</td>\n",
              "      <td>1</td>\n",
              "      <td>whi the truth might get you fire octob 29 2016...</td>\n",
              "    </tr>\n",
              "    <tr>\n",
              "      <th>3</th>\n",
              "      <td>15 civilian kill in singl u airstrik have been...</td>\n",
              "      <td>video 15 civilian kill in singl u airstrik hav...</td>\n",
              "      <td>1</td>\n",
              "      <td>video 15 civilian kill in singl u airstrik hav...</td>\n",
              "    </tr>\n",
              "    <tr>\n",
              "      <th>4</th>\n",
              "      <td>iranian woman jail for fiction unpublish stori...</td>\n",
              "      <td>print an iranian woman ha been sentenc to six ...</td>\n",
              "      <td>1</td>\n",
              "      <td>print an iranian woman ha been sentenc to six ...</td>\n",
              "    </tr>\n",
              "    <tr>\n",
              "      <th>...</th>\n",
              "      <td>...</td>\n",
              "      <td>...</td>\n",
              "      <td>...</td>\n",
              "      <td>...</td>\n",
              "    </tr>\n",
              "    <tr>\n",
              "      <th>20795</th>\n",
              "      <td>rapper ti trump a poster child for white supre...</td>\n",
              "      <td>rapper t i unload on black celebr who met with...</td>\n",
              "      <td>0</td>\n",
              "      <td>rapper t i unload on black celebr who met with...</td>\n",
              "    </tr>\n",
              "    <tr>\n",
              "      <th>20796</th>\n",
              "      <td>nfl playoff schedul matchup and odd the new yo...</td>\n",
              "      <td>when the green bay packer lost to the washingt...</td>\n",
              "      <td>0</td>\n",
              "      <td>when the green bay packer lost to the washingt...</td>\n",
              "    </tr>\n",
              "    <tr>\n",
              "      <th>20797</th>\n",
              "      <td>maci s is said to receiv takeov approach by hu...</td>\n",
              "      <td>the maci s of today grew from the union of sev...</td>\n",
              "      <td>0</td>\n",
              "      <td>the maci s of today grew from the union of sev...</td>\n",
              "    </tr>\n",
              "    <tr>\n",
              "      <th>20798</th>\n",
              "      <td>nato russia to hold parallel exercis in balkan</td>\n",
              "      <td>nato russia to hold parallel exercis in balkan...</td>\n",
              "      <td>1</td>\n",
              "      <td>nato russia to hold parallel exercis in balkan...</td>\n",
              "    </tr>\n",
              "    <tr>\n",
              "      <th>20799</th>\n",
              "      <td>what keep the f35 aliv</td>\n",
              "      <td>david swanson is an author activist journalist...</td>\n",
              "      <td>1</td>\n",
              "      <td>david swanson is an author activist journalist...</td>\n",
              "    </tr>\n",
              "  </tbody>\n",
              "</table>\n",
              "<p>20800 rows × 4 columns</p>\n",
              "</div>"
            ],
            "text/plain": [
              "                                              finalTitle  ...                                        test_string\n",
              "0      hous dem aid we didn t even see comey s letter...  ...  hous dem aid we didn t even see comey s letter...\n",
              "1      flynn hillari clinton big woman on campu breit...  ...  ever get the feel your life circl the roundabo...\n",
              "2                       whi the truth might get you fire  ...  whi the truth might get you fire octob 29 2016...\n",
              "3      15 civilian kill in singl u airstrik have been...  ...  video 15 civilian kill in singl u airstrik hav...\n",
              "4      iranian woman jail for fiction unpublish stori...  ...  print an iranian woman ha been sentenc to six ...\n",
              "...                                                  ...  ...                                                ...\n",
              "20795  rapper ti trump a poster child for white supre...  ...  rapper t i unload on black celebr who met with...\n",
              "20796  nfl playoff schedul matchup and odd the new yo...  ...  when the green bay packer lost to the washingt...\n",
              "20797  maci s is said to receiv takeov approach by hu...  ...  the maci s of today grew from the union of sev...\n",
              "20798     nato russia to hold parallel exercis in balkan  ...  nato russia to hold parallel exercis in balkan...\n",
              "20799                             what keep the f35 aliv  ...  david swanson is an author activist journalist...\n",
              "\n",
              "[20800 rows x 4 columns]"
            ]
          },
          "metadata": {
            "tags": []
          },
          "execution_count": 62
        }
      ]
    },
    {
      "cell_type": "code",
      "metadata": {
        "id": "MvYwjL5Gl1o7",
        "colab_type": "code",
        "colab": {}
      },
      "source": [
        "df_mod['cosineSim']=df_mod['test_string'].apply(lambda x: cosine_sim(x))"
      ],
      "execution_count": 0,
      "outputs": []
    },
    {
      "cell_type": "code",
      "metadata": {
        "id": "6wO75O6Pl3cm",
        "colab_type": "code",
        "outputId": "16add30d-fac9-41e1-e9d5-47792927708f",
        "colab": {
          "base_uri": "https://localhost:8080/",
          "height": 391
        }
      },
      "source": [
        "df_mod"
      ],
      "execution_count": 0,
      "outputs": [
        {
          "output_type": "execute_result",
          "data": {
            "text/html": [
              "<div>\n",
              "<style scoped>\n",
              "    .dataframe tbody tr th:only-of-type {\n",
              "        vertical-align: middle;\n",
              "    }\n",
              "\n",
              "    .dataframe tbody tr th {\n",
              "        vertical-align: top;\n",
              "    }\n",
              "\n",
              "    .dataframe thead th {\n",
              "        text-align: right;\n",
              "    }\n",
              "</style>\n",
              "<table border=\"1\" class=\"dataframe\">\n",
              "  <thead>\n",
              "    <tr style=\"text-align: right;\">\n",
              "      <th></th>\n",
              "      <th>finalTitle</th>\n",
              "      <th>finalHeaderBody</th>\n",
              "      <th>label</th>\n",
              "      <th>test_string</th>\n",
              "      <th>cosineSim</th>\n",
              "    </tr>\n",
              "  </thead>\n",
              "  <tbody>\n",
              "    <tr>\n",
              "      <th>0</th>\n",
              "      <td>hous dem aid we didn t even see comey s letter...</td>\n",
              "      <td>hous dem aid we didn t even see comey s letter...</td>\n",
              "      <td>1</td>\n",
              "      <td>hous dem aid we didn t even see comey s letter...</td>\n",
              "      <td>0.390770</td>\n",
              "    </tr>\n",
              "    <tr>\n",
              "      <th>1</th>\n",
              "      <td>flynn hillari clinton big woman on campu breit...</td>\n",
              "      <td>ever get the feel your life circl the roundabo...</td>\n",
              "      <td>0</td>\n",
              "      <td>ever get the feel your life circl the roundabo...</td>\n",
              "      <td>0.171162</td>\n",
              "    </tr>\n",
              "    <tr>\n",
              "      <th>2</th>\n",
              "      <td>whi the truth might get you fire</td>\n",
              "      <td>whi the truth might get you fire octob 29 2016...</td>\n",
              "      <td>1</td>\n",
              "      <td>whi the truth might get you fire octob 29 2016...</td>\n",
              "      <td>0.093800</td>\n",
              "    </tr>\n",
              "    <tr>\n",
              "      <th>3</th>\n",
              "      <td>15 civilian kill in singl u airstrik have been...</td>\n",
              "      <td>video 15 civilian kill in singl u airstrik hav...</td>\n",
              "      <td>1</td>\n",
              "      <td>video 15 civilian kill in singl u airstrik hav...</td>\n",
              "      <td>0.358106</td>\n",
              "    </tr>\n",
              "    <tr>\n",
              "      <th>4</th>\n",
              "      <td>iranian woman jail for fiction unpublish stori...</td>\n",
              "      <td>print an iranian woman ha been sentenc to six ...</td>\n",
              "      <td>1</td>\n",
              "      <td>print an iranian woman ha been sentenc to six ...</td>\n",
              "      <td>0.366995</td>\n",
              "    </tr>\n",
              "    <tr>\n",
              "      <th>...</th>\n",
              "      <td>...</td>\n",
              "      <td>...</td>\n",
              "      <td>...</td>\n",
              "      <td>...</td>\n",
              "      <td>...</td>\n",
              "    </tr>\n",
              "    <tr>\n",
              "      <th>20795</th>\n",
              "      <td>rapper ti trump a poster child for white supre...</td>\n",
              "      <td>rapper t i unload on black celebr who met with...</td>\n",
              "      <td>0</td>\n",
              "      <td>rapper t i unload on black celebr who met with...</td>\n",
              "      <td>0.220323</td>\n",
              "    </tr>\n",
              "    <tr>\n",
              "      <th>20796</th>\n",
              "      <td>nfl playoff schedul matchup and odd the new yo...</td>\n",
              "      <td>when the green bay packer lost to the washingt...</td>\n",
              "      <td>0</td>\n",
              "      <td>when the green bay packer lost to the washingt...</td>\n",
              "      <td>0.123656</td>\n",
              "    </tr>\n",
              "    <tr>\n",
              "      <th>20797</th>\n",
              "      <td>maci s is said to receiv takeov approach by hu...</td>\n",
              "      <td>the maci s of today grew from the union of sev...</td>\n",
              "      <td>0</td>\n",
              "      <td>the maci s of today grew from the union of sev...</td>\n",
              "      <td>0.214841</td>\n",
              "    </tr>\n",
              "    <tr>\n",
              "      <th>20798</th>\n",
              "      <td>nato russia to hold parallel exercis in balkan</td>\n",
              "      <td>nato russia to hold parallel exercis in balkan...</td>\n",
              "      <td>1</td>\n",
              "      <td>nato russia to hold parallel exercis in balkan...</td>\n",
              "      <td>0.381478</td>\n",
              "    </tr>\n",
              "    <tr>\n",
              "      <th>20799</th>\n",
              "      <td>what keep the f35 aliv</td>\n",
              "      <td>david swanson is an author activist journalist...</td>\n",
              "      <td>1</td>\n",
              "      <td>david swanson is an author activist journalist...</td>\n",
              "      <td>0.177496</td>\n",
              "    </tr>\n",
              "  </tbody>\n",
              "</table>\n",
              "<p>20800 rows × 5 columns</p>\n",
              "</div>"
            ],
            "text/plain": [
              "                                              finalTitle  ... cosineSim\n",
              "0      hous dem aid we didn t even see comey s letter...  ...  0.390770\n",
              "1      flynn hillari clinton big woman on campu breit...  ...  0.171162\n",
              "2                       whi the truth might get you fire  ...  0.093800\n",
              "3      15 civilian kill in singl u airstrik have been...  ...  0.358106\n",
              "4      iranian woman jail for fiction unpublish stori...  ...  0.366995\n",
              "...                                                  ...  ...       ...\n",
              "20795  rapper ti trump a poster child for white supre...  ...  0.220323\n",
              "20796  nfl playoff schedul matchup and odd the new yo...  ...  0.123656\n",
              "20797  maci s is said to receiv takeov approach by hu...  ...  0.214841\n",
              "20798     nato russia to hold parallel exercis in balkan  ...  0.381478\n",
              "20799                             what keep the f35 aliv  ...  0.177496\n",
              "\n",
              "[20800 rows x 5 columns]"
            ]
          },
          "metadata": {
            "tags": []
          },
          "execution_count": 65
        }
      ]
    },
    {
      "cell_type": "code",
      "metadata": {
        "id": "4EP6Wl8Ul5iu",
        "colab_type": "code",
        "outputId": "691f5001-ae7a-456f-baff-c0f42f2ee6c9",
        "colab": {
          "base_uri": "https://localhost:8080/",
          "height": 212
        }
      },
      "source": [
        "df_mod['cosineSim'].value_counts()"
      ],
      "execution_count": 0,
      "outputs": [
        {
          "output_type": "execute_result",
          "data": {
            "text/plain": [
              "0.000000    1077\n",
              "0.818180       9\n",
              "0.895532       8\n",
              "1.000000       7\n",
              "0.776372       6\n",
              "            ... \n",
              "0.157864       1\n",
              "0.218595       1\n",
              "0.133233       1\n",
              "0.153353       1\n",
              "0.250429       1\n",
              "Name: cosineSim, Length: 19523, dtype: int64"
            ]
          },
          "metadata": {
            "tags": []
          },
          "execution_count": 66
        }
      ]
    },
    {
      "cell_type": "markdown",
      "metadata": {
        "id": "Afv0HxmbmvsG",
        "colab_type": "text"
      },
      "source": [
        "# NER"
      ]
    },
    {
      "cell_type": "code",
      "metadata": {
        "id": "yItLgXfT3d4w",
        "colab_type": "code",
        "colab": {}
      },
      "source": [
        "import spacy\n",
        "# Load English tokenizer, tagger, parser, NER and word vectors\n",
        "nlp = spacy.load(\"en_core_web_sm\")\n",
        "def generate_ner_noun(text):\n",
        "  doc = nlp(text)\n",
        "  return [chunk for chunk in doc.noun_chunks]\n",
        "\n",
        "def generate_ner_verb(text):\n",
        "  doc = nlp(text)\n",
        "  return [token for token in doc if token.pos_ == \"VERB\"]\n",
        "\n",
        "def spacy_similarity(t1,t2):\n",
        "  doc1 = nlp(t1)\n",
        "  doc2 = nlp(t2)\n",
        "  return doc1.similarity(doc2)"
      ],
      "execution_count": 0,
      "outputs": []
    },
    {
      "cell_type": "code",
      "metadata": {
        "id": "cY9zNVCA7i_w",
        "colab_type": "code",
        "colab": {}
      },
      "source": [
        "a = generate_ner_noun(\"hi there how are you car, i am fine\")"
      ],
      "execution_count": 0,
      "outputs": []
    },
    {
      "cell_type": "code",
      "metadata": {
        "id": "MPz2clXZ8XTu",
        "colab_type": "code",
        "outputId": "1870373a-b3db-4455-8aca-398292916c47",
        "colab": {
          "base_uri": "https://localhost:8080/",
          "height": 33
        }
      },
      "source": [
        "a"
      ],
      "execution_count": 0,
      "outputs": [
        {
          "output_type": "execute_result",
          "data": {
            "text/plain": [
              "[you, car, i]"
            ]
          },
          "metadata": {
            "tags": []
          },
          "execution_count": 80
        }
      ]
    },
    {
      "cell_type": "code",
      "metadata": {
        "id": "co4hiPg57ldT",
        "colab_type": "code",
        "colab": {}
      },
      "source": [
        "b = generate_ner_verb(\"you are running and drinking\")"
      ],
      "execution_count": 0,
      "outputs": []
    },
    {
      "cell_type": "markdown",
      "metadata": {
        "id": "uKaxdBOLnKru",
        "colab_type": "text"
      },
      "source": [
        "# Liar Liar dataset\n"
      ]
    },
    {
      "cell_type": "code",
      "metadata": {
        "id": "sVszUIQT9pVx",
        "colab_type": "code",
        "colab": {}
      },
      "source": [
        "# Code to read csv file into Colaboratory:\n",
        "!pip install -U -q PyDrive\n",
        "from pydrive.auth import GoogleAuth\n",
        "from pydrive.drive import GoogleDrive\n",
        "from google.colab import auth\n",
        "from oauth2client.client import GoogleCredentials\n",
        "# Authenticate and create the PyDrive client.\n",
        "auth.authenticate_user()\n",
        "gauth = GoogleAuth()\n",
        "gauth.credentials = GoogleCredentials.get_application_default()\n",
        "drive = GoogleDrive(gauth)"
      ],
      "execution_count": 0,
      "outputs": []
    },
    {
      "cell_type": "markdown",
      "metadata": {
        "id": "F2takXGlndfT",
        "colab_type": "text"
      },
      "source": [
        "# Downloading and loading Dataset into Dataframe"
      ]
    },
    {
      "cell_type": "code",
      "metadata": {
        "id": "y_RtSFDE-Fgi",
        "colab_type": "code",
        "outputId": "d68bdbe9-f611-47d5-a116-a74c100a62a6",
        "colab": {
          "base_uri": "https://localhost:8080/",
          "height": 585
        }
      },
      "source": [
        "link = ' https://drive.google.com/open?id=1y3yYF5HHPhH7SyaPwPU9H5HApJzevsFK'\n",
        "fluff, id = link.split('=')\n",
        "\n",
        "downloaded = drive.CreateFile({'id':id}) \n",
        "downloaded.GetContentFile('liar.zip')\n",
        "\n",
        "import zipfile\n",
        "with zipfile.ZipFile('liar.zip', 'r') as zip_ref:\n",
        "    zip_ref.extractall()\n",
        "\n",
        "\n",
        "liar_train = pd.read_csv('train.tsv', sep='\\t',header=None)\n",
        "liar_train=liar_train.drop(columns=[0])\n",
        "\n",
        "\n",
        "columns=[\n",
        "'label',\n",
        "'statement',\n",
        "'subject',\n",
        "'speaker',\n",
        "'speaker_job_title',\n",
        "'state info',\n",
        "'party affiliation',\n",
        "'barely_true_counts',\n",
        "'false_counts',\n",
        "'half_true_counts',\n",
        "'mostly_true_counts',\n",
        "'pants_on_fire_counts',\n",
        "'context'\n",
        "]\n",
        "\n",
        "\n",
        "liar_train.columns=columns\n",
        "\n",
        "liar_train.head()"
      ],
      "execution_count": 0,
      "outputs": [
        {
          "output_type": "execute_result",
          "data": {
            "text/html": [
              "<div>\n",
              "<style scoped>\n",
              "    .dataframe tbody tr th:only-of-type {\n",
              "        vertical-align: middle;\n",
              "    }\n",
              "\n",
              "    .dataframe tbody tr th {\n",
              "        vertical-align: top;\n",
              "    }\n",
              "\n",
              "    .dataframe thead th {\n",
              "        text-align: right;\n",
              "    }\n",
              "</style>\n",
              "<table border=\"1\" class=\"dataframe\">\n",
              "  <thead>\n",
              "    <tr style=\"text-align: right;\">\n",
              "      <th></th>\n",
              "      <th>label</th>\n",
              "      <th>statement</th>\n",
              "      <th>subject</th>\n",
              "      <th>speaker</th>\n",
              "      <th>speaker_job_title</th>\n",
              "      <th>state info</th>\n",
              "      <th>party affiliation</th>\n",
              "      <th>barely_true_counts</th>\n",
              "      <th>false_counts</th>\n",
              "      <th>half_true_counts</th>\n",
              "      <th>mostly_true_counts</th>\n",
              "      <th>pants_on_fire_counts</th>\n",
              "      <th>context</th>\n",
              "    </tr>\n",
              "  </thead>\n",
              "  <tbody>\n",
              "    <tr>\n",
              "      <th>0</th>\n",
              "      <td>false</td>\n",
              "      <td>Says the Annies List political group supports ...</td>\n",
              "      <td>abortion</td>\n",
              "      <td>dwayne-bohac</td>\n",
              "      <td>State representative</td>\n",
              "      <td>Texas</td>\n",
              "      <td>republican</td>\n",
              "      <td>0.0</td>\n",
              "      <td>1.0</td>\n",
              "      <td>0.0</td>\n",
              "      <td>0.0</td>\n",
              "      <td>0.0</td>\n",
              "      <td>a mailer</td>\n",
              "    </tr>\n",
              "    <tr>\n",
              "      <th>1</th>\n",
              "      <td>half-true</td>\n",
              "      <td>When did the decline of coal start? It started...</td>\n",
              "      <td>energy,history,job-accomplishments</td>\n",
              "      <td>scott-surovell</td>\n",
              "      <td>State delegate</td>\n",
              "      <td>Virginia</td>\n",
              "      <td>democrat</td>\n",
              "      <td>0.0</td>\n",
              "      <td>0.0</td>\n",
              "      <td>1.0</td>\n",
              "      <td>1.0</td>\n",
              "      <td>0.0</td>\n",
              "      <td>a floor speech.</td>\n",
              "    </tr>\n",
              "    <tr>\n",
              "      <th>2</th>\n",
              "      <td>mostly-true</td>\n",
              "      <td>Hillary Clinton agrees with John McCain \"by vo...</td>\n",
              "      <td>foreign-policy</td>\n",
              "      <td>barack-obama</td>\n",
              "      <td>President</td>\n",
              "      <td>Illinois</td>\n",
              "      <td>democrat</td>\n",
              "      <td>70.0</td>\n",
              "      <td>71.0</td>\n",
              "      <td>160.0</td>\n",
              "      <td>163.0</td>\n",
              "      <td>9.0</td>\n",
              "      <td>Denver</td>\n",
              "    </tr>\n",
              "    <tr>\n",
              "      <th>3</th>\n",
              "      <td>false</td>\n",
              "      <td>Health care reform legislation is likely to ma...</td>\n",
              "      <td>health-care</td>\n",
              "      <td>blog-posting</td>\n",
              "      <td>NaN</td>\n",
              "      <td>NaN</td>\n",
              "      <td>none</td>\n",
              "      <td>7.0</td>\n",
              "      <td>19.0</td>\n",
              "      <td>3.0</td>\n",
              "      <td>5.0</td>\n",
              "      <td>44.0</td>\n",
              "      <td>a news release</td>\n",
              "    </tr>\n",
              "    <tr>\n",
              "      <th>4</th>\n",
              "      <td>half-true</td>\n",
              "      <td>The economic turnaround started at the end of ...</td>\n",
              "      <td>economy,jobs</td>\n",
              "      <td>charlie-crist</td>\n",
              "      <td>NaN</td>\n",
              "      <td>Florida</td>\n",
              "      <td>democrat</td>\n",
              "      <td>15.0</td>\n",
              "      <td>9.0</td>\n",
              "      <td>20.0</td>\n",
              "      <td>19.0</td>\n",
              "      <td>2.0</td>\n",
              "      <td>an interview on CNN</td>\n",
              "    </tr>\n",
              "  </tbody>\n",
              "</table>\n",
              "</div>"
            ],
            "text/plain": [
              "         label  ...              context\n",
              "0        false  ...             a mailer\n",
              "1    half-true  ...      a floor speech.\n",
              "2  mostly-true  ...               Denver\n",
              "3        false  ...       a news release\n",
              "4    half-true  ...  an interview on CNN\n",
              "\n",
              "[5 rows x 13 columns]"
            ]
          },
          "metadata": {
            "tags": []
          },
          "execution_count": 4
        }
      ]
    },
    {
      "cell_type": "code",
      "metadata": {
        "id": "Vmnc_1G0_JHZ",
        "colab_type": "code",
        "colab": {}
      },
      "source": [
        "liar_test = pd.read_csv('test.tsv', sep='\\t',header=None)\n",
        "liar_test=liar_test.drop(columns=[0])\n",
        "\n",
        "columns=[\n",
        "'label',\n",
        "'statement',\n",
        "'subject',\n",
        "'speaker',\n",
        "'speaker_job_title',\n",
        "'state info',\n",
        "'party affiliation',\n",
        "'barely_true_counts',\n",
        "'false_counts',\n",
        "'half_true_counts',\n",
        "'mostly_true_counts',\n",
        "'pants_on_fire_counts',\n",
        "'context'\n",
        "]\n",
        "\n",
        "\n",
        "liar_test.columns=columns\n"
      ],
      "execution_count": 0,
      "outputs": []
    },
    {
      "cell_type": "code",
      "metadata": {
        "id": "CwAkGuDg7AWo",
        "colab_type": "code",
        "colab": {}
      },
      "source": [
        "from sklearn.metrics.pairwise import cosine_similarity\n",
        "from sklearn.feature_extraction.text import CountVectorizer\n",
        "from sklearn.feature_extraction.text import TfidfVectorizer"
      ],
      "execution_count": 0,
      "outputs": []
    },
    {
      "cell_type": "code",
      "metadata": {
        "id": "usqrmSxA8Jfx",
        "colab_type": "code",
        "colab": {}
      },
      "source": [
        "def cosine_sim(statement):\n",
        "  statement=statement.split('@@')\n",
        "  # print(statement)\n",
        "  text1,text2=statement[0],statement[1]\n",
        "  vectorizer = TfidfVectorizer(stop_words='english')\n",
        "  tfidf = vectorizer.fit_transform([text1, text2])\n",
        "  sim_score=((tfidf * tfidf.T).A)[0,1]\n",
        "  # if sim_score*100>0:\n",
        "  #   return 1\n",
        "  return sim_score"
      ],
      "execution_count": 0,
      "outputs": []
    },
    {
      "cell_type": "code",
      "metadata": {
        "id": "kqvNDjUP_NuD",
        "colab_type": "code",
        "outputId": "a11b7d2d-aa0f-41f5-e245-e818a347739f",
        "colab": {
          "base_uri": "https://localhost:8080/",
          "height": 1000
        }
      },
      "source": [
        "liar_test"
      ],
      "execution_count": 0,
      "outputs": [
        {
          "output_type": "execute_result",
          "data": {
            "text/html": [
              "<div>\n",
              "<style scoped>\n",
              "    .dataframe tbody tr th:only-of-type {\n",
              "        vertical-align: middle;\n",
              "    }\n",
              "\n",
              "    .dataframe tbody tr th {\n",
              "        vertical-align: top;\n",
              "    }\n",
              "\n",
              "    .dataframe thead th {\n",
              "        text-align: right;\n",
              "    }\n",
              "</style>\n",
              "<table border=\"1\" class=\"dataframe\">\n",
              "  <thead>\n",
              "    <tr style=\"text-align: right;\">\n",
              "      <th></th>\n",
              "      <th>label</th>\n",
              "      <th>statement</th>\n",
              "      <th>subject</th>\n",
              "      <th>speaker</th>\n",
              "      <th>speaker_job_title</th>\n",
              "      <th>state info</th>\n",
              "      <th>party affiliation</th>\n",
              "      <th>barely_true_counts</th>\n",
              "      <th>false_counts</th>\n",
              "      <th>half_true_counts</th>\n",
              "      <th>mostly_true_counts</th>\n",
              "      <th>pants_on_fire_counts</th>\n",
              "      <th>context</th>\n",
              "    </tr>\n",
              "  </thead>\n",
              "  <tbody>\n",
              "    <tr>\n",
              "      <th>0</th>\n",
              "      <td>true</td>\n",
              "      <td>Building a wall on the U.S.-Mexico border will...</td>\n",
              "      <td>immigration</td>\n",
              "      <td>rick-perry</td>\n",
              "      <td>Governor</td>\n",
              "      <td>Texas</td>\n",
              "      <td>republican</td>\n",
              "      <td>30</td>\n",
              "      <td>30</td>\n",
              "      <td>42</td>\n",
              "      <td>23</td>\n",
              "      <td>18</td>\n",
              "      <td>Radio interview</td>\n",
              "    </tr>\n",
              "    <tr>\n",
              "      <th>1</th>\n",
              "      <td>false</td>\n",
              "      <td>Wisconsin is on pace to double the number of l...</td>\n",
              "      <td>jobs</td>\n",
              "      <td>katrina-shankland</td>\n",
              "      <td>State representative</td>\n",
              "      <td>Wisconsin</td>\n",
              "      <td>democrat</td>\n",
              "      <td>2</td>\n",
              "      <td>1</td>\n",
              "      <td>0</td>\n",
              "      <td>0</td>\n",
              "      <td>0</td>\n",
              "      <td>a news conference</td>\n",
              "    </tr>\n",
              "    <tr>\n",
              "      <th>2</th>\n",
              "      <td>false</td>\n",
              "      <td>Says John McCain has done nothing to help the ...</td>\n",
              "      <td>military,veterans,voting-record</td>\n",
              "      <td>donald-trump</td>\n",
              "      <td>President-Elect</td>\n",
              "      <td>New York</td>\n",
              "      <td>republican</td>\n",
              "      <td>63</td>\n",
              "      <td>114</td>\n",
              "      <td>51</td>\n",
              "      <td>37</td>\n",
              "      <td>61</td>\n",
              "      <td>comments on ABC's This Week.</td>\n",
              "    </tr>\n",
              "    <tr>\n",
              "      <th>3</th>\n",
              "      <td>half-true</td>\n",
              "      <td>Suzanne Bonamici supports a plan that will cut...</td>\n",
              "      <td>medicare,message-machine-2012,campaign-adverti...</td>\n",
              "      <td>rob-cornilles</td>\n",
              "      <td>consultant</td>\n",
              "      <td>Oregon</td>\n",
              "      <td>republican</td>\n",
              "      <td>1</td>\n",
              "      <td>1</td>\n",
              "      <td>3</td>\n",
              "      <td>1</td>\n",
              "      <td>1</td>\n",
              "      <td>a radio show</td>\n",
              "    </tr>\n",
              "    <tr>\n",
              "      <th>4</th>\n",
              "      <td>pants-fire</td>\n",
              "      <td>When asked by a reporter whether hes at the ce...</td>\n",
              "      <td>campaign-finance,legal-issues,campaign-adverti...</td>\n",
              "      <td>state-democratic-party-wisconsin</td>\n",
              "      <td>NaN</td>\n",
              "      <td>Wisconsin</td>\n",
              "      <td>democrat</td>\n",
              "      <td>5</td>\n",
              "      <td>7</td>\n",
              "      <td>2</td>\n",
              "      <td>2</td>\n",
              "      <td>7</td>\n",
              "      <td>a web video</td>\n",
              "    </tr>\n",
              "    <tr>\n",
              "      <th>...</th>\n",
              "      <td>...</td>\n",
              "      <td>...</td>\n",
              "      <td>...</td>\n",
              "      <td>...</td>\n",
              "      <td>...</td>\n",
              "      <td>...</td>\n",
              "      <td>...</td>\n",
              "      <td>...</td>\n",
              "      <td>...</td>\n",
              "      <td>...</td>\n",
              "      <td>...</td>\n",
              "      <td>...</td>\n",
              "      <td>...</td>\n",
              "    </tr>\n",
              "    <tr>\n",
              "      <th>1262</th>\n",
              "      <td>half-true</td>\n",
              "      <td>Says his budget provides the highest state fun...</td>\n",
              "      <td>education</td>\n",
              "      <td>rick-scott</td>\n",
              "      <td>Governor</td>\n",
              "      <td>Florida</td>\n",
              "      <td>republican</td>\n",
              "      <td>28</td>\n",
              "      <td>23</td>\n",
              "      <td>38</td>\n",
              "      <td>34</td>\n",
              "      <td>7</td>\n",
              "      <td>a news conference</td>\n",
              "    </tr>\n",
              "    <tr>\n",
              "      <th>1263</th>\n",
              "      <td>barely-true</td>\n",
              "      <td>Ive been here almost every day.</td>\n",
              "      <td>civil-rights,crime,criminal-justice</td>\n",
              "      <td>jay-nixon</td>\n",
              "      <td>Governor</td>\n",
              "      <td>Missouri</td>\n",
              "      <td>democrat</td>\n",
              "      <td>2</td>\n",
              "      <td>0</td>\n",
              "      <td>0</td>\n",
              "      <td>1</td>\n",
              "      <td>0</td>\n",
              "      <td>on ABC's \"This Week\"</td>\n",
              "    </tr>\n",
              "    <tr>\n",
              "      <th>1264</th>\n",
              "      <td>barely-true</td>\n",
              "      <td>In the early 1980s, Sen. Edward Kennedy secret...</td>\n",
              "      <td>bipartisanship,congress,foreign-policy,history</td>\n",
              "      <td>mackubin-thomas-owens</td>\n",
              "      <td>senior fellow, Foreign Policy Research Institute</td>\n",
              "      <td>Rhode Island</td>\n",
              "      <td>columnist</td>\n",
              "      <td>1</td>\n",
              "      <td>0</td>\n",
              "      <td>0</td>\n",
              "      <td>0</td>\n",
              "      <td>0</td>\n",
              "      <td>a commentary in The Providence Journal</td>\n",
              "    </tr>\n",
              "    <tr>\n",
              "      <th>1265</th>\n",
              "      <td>barely-true</td>\n",
              "      <td>Says an EPA permit languished under Strickland...</td>\n",
              "      <td>environment,government-efficiency</td>\n",
              "      <td>john-kasich</td>\n",
              "      <td>Governor of Ohio as of Jan. 10, 2011</td>\n",
              "      <td>Ohio</td>\n",
              "      <td>republican</td>\n",
              "      <td>9</td>\n",
              "      <td>8</td>\n",
              "      <td>10</td>\n",
              "      <td>18</td>\n",
              "      <td>3</td>\n",
              "      <td>a news conference</td>\n",
              "    </tr>\n",
              "    <tr>\n",
              "      <th>1266</th>\n",
              "      <td>false</td>\n",
              "      <td>Says the governor is going around the state ta...</td>\n",
              "      <td>state-budget,state-finances,taxes</td>\n",
              "      <td>john-burzichelli</td>\n",
              "      <td>NaN</td>\n",
              "      <td>NaN</td>\n",
              "      <td>democrat</td>\n",
              "      <td>1</td>\n",
              "      <td>1</td>\n",
              "      <td>0</td>\n",
              "      <td>0</td>\n",
              "      <td>0</td>\n",
              "      <td>an interview with NJToday</td>\n",
              "    </tr>\n",
              "  </tbody>\n",
              "</table>\n",
              "<p>1267 rows × 13 columns</p>\n",
              "</div>"
            ],
            "text/plain": [
              "            label  ...                                 context\n",
              "0            true  ...                         Radio interview\n",
              "1           false  ...                       a news conference\n",
              "2           false  ...            comments on ABC's This Week.\n",
              "3       half-true  ...                            a radio show\n",
              "4      pants-fire  ...                             a web video\n",
              "...           ...  ...                                     ...\n",
              "1262    half-true  ...                       a news conference\n",
              "1263  barely-true  ...                    on ABC's \"This Week\"\n",
              "1264  barely-true  ...  a commentary in The Providence Journal\n",
              "1265  barely-true  ...                       a news conference\n",
              "1266        false  ...               an interview with NJToday\n",
              "\n",
              "[1267 rows x 13 columns]"
            ]
          },
          "metadata": {
            "tags": []
          },
          "execution_count": 8
        }
      ]
    },
    {
      "cell_type": "code",
      "metadata": {
        "id": "Qmp_TEeh_Pm6",
        "colab_type": "code",
        "colab": {}
      },
      "source": [
        "df_mod=pd.concat([liar_train,liar_test])"
      ],
      "execution_count": 0,
      "outputs": []
    },
    {
      "cell_type": "code",
      "metadata": {
        "id": "XOoxAcRB_R5m",
        "colab_type": "code",
        "outputId": "f2f2e17d-0640-4681-998e-ac9f0a3d1e8b",
        "colab": {
          "base_uri": "https://localhost:8080/",
          "height": 82
        }
      },
      "source": [
        "import nltk\n",
        "nltk.download('wordnet')\n",
        "import string\n",
        "def remove_punctuations(data):\n",
        "    d = \"\".join([i for i in str(data) if i not in string.punctuation])\n",
        "    return d\n",
        "from nltk.tokenize import RegexpTokenizer\n",
        "def tokenize(data):\n",
        "    tokenizer = RegexpTokenizer(r'\\w+')\n",
        "    return tokenizer.tokenize(data.lower())\n",
        "\n",
        "from nltk.corpus import stopwords\n",
        "nltk.download('stopwords')\n",
        "def remove_stopwords(data):\n",
        "    data = [i for i in data if i not in stopwords.words('english')]\n",
        "    return data\n",
        "from nltk.stem import WordNetLemmatizer\n",
        "lemma = WordNetLemmatizer()\n",
        "\n",
        "def lematize(data):\n",
        "    data = [lemma.lemmatize(i) for i in data]\n",
        "    return data\n",
        "\n",
        "from nltk.stem.porter import PorterStemmer\n",
        "stemming = PorterStemmer()\n",
        "def stem(data):\n",
        "    data = \" \".join([stemming.stem(i) for i in data])\n",
        "    return data"
      ],
      "execution_count": 0,
      "outputs": [
        {
          "output_type": "stream",
          "text": [
            "[nltk_data] Downloading package wordnet to /root/nltk_data...\n",
            "[nltk_data]   Package wordnet is already up-to-date!\n",
            "[nltk_data] Downloading package stopwords to /root/nltk_data...\n",
            "[nltk_data]   Package stopwords is already up-to-date!\n"
          ],
          "name": "stdout"
        }
      ]
    },
    {
      "cell_type": "code",
      "metadata": {
        "id": "1NiprLa8AByY",
        "colab_type": "code",
        "colab": {}
      },
      "source": [
        "df_mod['finalStatement'] = df_mod.apply(lambda row: remove_punctuations(row['statement']), axis=1)\n",
        "\n",
        "df_mod['finalStatement'] = df_mod.apply(lambda row: tokenize(row['finalStatement']), axis=1)\n",
        "\n",
        "df_mod['finalStatement'] = df_mod.apply(lambda row: remove_stopwords(row['finalStatement']), axis=1)\n",
        "\n",
        "df_mod['finalStatement'] = df_mod.apply(lambda row: lematize(row['finalStatement']), axis=1)\n",
        "\n",
        "df_mod['finalStatement'] = df_mod.apply(lambda row: stem(row['finalStatement']), axis=1)"
      ],
      "execution_count": 0,
      "outputs": []
    },
    {
      "cell_type": "code",
      "metadata": {
        "id": "k0cSh2fKAY4T",
        "colab_type": "code",
        "outputId": "a6e927a0-df24-456e-d89b-eabaeff1b1ad",
        "colab": {
          "base_uri": "https://localhost:8080/",
          "height": 1000
        }
      },
      "source": [
        "df_mod"
      ],
      "execution_count": 0,
      "outputs": [
        {
          "output_type": "execute_result",
          "data": {
            "text/html": [
              "<div>\n",
              "<style scoped>\n",
              "    .dataframe tbody tr th:only-of-type {\n",
              "        vertical-align: middle;\n",
              "    }\n",
              "\n",
              "    .dataframe tbody tr th {\n",
              "        vertical-align: top;\n",
              "    }\n",
              "\n",
              "    .dataframe thead th {\n",
              "        text-align: right;\n",
              "    }\n",
              "</style>\n",
              "<table border=\"1\" class=\"dataframe\">\n",
              "  <thead>\n",
              "    <tr style=\"text-align: right;\">\n",
              "      <th></th>\n",
              "      <th>label</th>\n",
              "      <th>statement</th>\n",
              "      <th>subject</th>\n",
              "      <th>speaker</th>\n",
              "      <th>speaker_job_title</th>\n",
              "      <th>state info</th>\n",
              "      <th>party affiliation</th>\n",
              "      <th>barely_true_counts</th>\n",
              "      <th>false_counts</th>\n",
              "      <th>half_true_counts</th>\n",
              "      <th>mostly_true_counts</th>\n",
              "      <th>pants_on_fire_counts</th>\n",
              "      <th>context</th>\n",
              "      <th>finalStatement</th>\n",
              "    </tr>\n",
              "  </thead>\n",
              "  <tbody>\n",
              "    <tr>\n",
              "      <th>0</th>\n",
              "      <td>false</td>\n",
              "      <td>Says the Annies List political group supports ...</td>\n",
              "      <td>abortion</td>\n",
              "      <td>dwayne-bohac</td>\n",
              "      <td>State representative</td>\n",
              "      <td>Texas</td>\n",
              "      <td>republican</td>\n",
              "      <td>0.0</td>\n",
              "      <td>1.0</td>\n",
              "      <td>0.0</td>\n",
              "      <td>0.0</td>\n",
              "      <td>0.0</td>\n",
              "      <td>a mailer</td>\n",
              "      <td>say anni list polit group support thirdtrimest...</td>\n",
              "    </tr>\n",
              "    <tr>\n",
              "      <th>1</th>\n",
              "      <td>half-true</td>\n",
              "      <td>When did the decline of coal start? It started...</td>\n",
              "      <td>energy,history,job-accomplishments</td>\n",
              "      <td>scott-surovell</td>\n",
              "      <td>State delegate</td>\n",
              "      <td>Virginia</td>\n",
              "      <td>democrat</td>\n",
              "      <td>0.0</td>\n",
              "      <td>0.0</td>\n",
              "      <td>1.0</td>\n",
              "      <td>1.0</td>\n",
              "      <td>0.0</td>\n",
              "      <td>a floor speech.</td>\n",
              "      <td>declin coal start start natur ga took start be...</td>\n",
              "    </tr>\n",
              "    <tr>\n",
              "      <th>2</th>\n",
              "      <td>mostly-true</td>\n",
              "      <td>Hillary Clinton agrees with John McCain \"by vo...</td>\n",
              "      <td>foreign-policy</td>\n",
              "      <td>barack-obama</td>\n",
              "      <td>President</td>\n",
              "      <td>Illinois</td>\n",
              "      <td>democrat</td>\n",
              "      <td>70.0</td>\n",
              "      <td>71.0</td>\n",
              "      <td>160.0</td>\n",
              "      <td>163.0</td>\n",
              "      <td>9.0</td>\n",
              "      <td>Denver</td>\n",
              "      <td>hillari clinton agre john mccain vote give geo...</td>\n",
              "    </tr>\n",
              "    <tr>\n",
              "      <th>3</th>\n",
              "      <td>false</td>\n",
              "      <td>Health care reform legislation is likely to ma...</td>\n",
              "      <td>health-care</td>\n",
              "      <td>blog-posting</td>\n",
              "      <td>NaN</td>\n",
              "      <td>NaN</td>\n",
              "      <td>none</td>\n",
              "      <td>7.0</td>\n",
              "      <td>19.0</td>\n",
              "      <td>3.0</td>\n",
              "      <td>5.0</td>\n",
              "      <td>44.0</td>\n",
              "      <td>a news release</td>\n",
              "      <td>health care reform legisl like mandat free sex...</td>\n",
              "    </tr>\n",
              "    <tr>\n",
              "      <th>4</th>\n",
              "      <td>half-true</td>\n",
              "      <td>The economic turnaround started at the end of ...</td>\n",
              "      <td>economy,jobs</td>\n",
              "      <td>charlie-crist</td>\n",
              "      <td>NaN</td>\n",
              "      <td>Florida</td>\n",
              "      <td>democrat</td>\n",
              "      <td>15.0</td>\n",
              "      <td>9.0</td>\n",
              "      <td>20.0</td>\n",
              "      <td>19.0</td>\n",
              "      <td>2.0</td>\n",
              "      <td>an interview on CNN</td>\n",
              "      <td>econom turnaround start end term</td>\n",
              "    </tr>\n",
              "    <tr>\n",
              "      <th>...</th>\n",
              "      <td>...</td>\n",
              "      <td>...</td>\n",
              "      <td>...</td>\n",
              "      <td>...</td>\n",
              "      <td>...</td>\n",
              "      <td>...</td>\n",
              "      <td>...</td>\n",
              "      <td>...</td>\n",
              "      <td>...</td>\n",
              "      <td>...</td>\n",
              "      <td>...</td>\n",
              "      <td>...</td>\n",
              "      <td>...</td>\n",
              "      <td>...</td>\n",
              "    </tr>\n",
              "    <tr>\n",
              "      <th>1262</th>\n",
              "      <td>half-true</td>\n",
              "      <td>Says his budget provides the highest state fun...</td>\n",
              "      <td>education</td>\n",
              "      <td>rick-scott</td>\n",
              "      <td>Governor</td>\n",
              "      <td>Florida</td>\n",
              "      <td>republican</td>\n",
              "      <td>28.0</td>\n",
              "      <td>23.0</td>\n",
              "      <td>38.0</td>\n",
              "      <td>34.0</td>\n",
              "      <td>7.0</td>\n",
              "      <td>a news conference</td>\n",
              "      <td>say budget provid highest state fund level his...</td>\n",
              "    </tr>\n",
              "    <tr>\n",
              "      <th>1263</th>\n",
              "      <td>barely-true</td>\n",
              "      <td>Ive been here almost every day.</td>\n",
              "      <td>civil-rights,crime,criminal-justice</td>\n",
              "      <td>jay-nixon</td>\n",
              "      <td>Governor</td>\n",
              "      <td>Missouri</td>\n",
              "      <td>democrat</td>\n",
              "      <td>2.0</td>\n",
              "      <td>0.0</td>\n",
              "      <td>0.0</td>\n",
              "      <td>1.0</td>\n",
              "      <td>0.0</td>\n",
              "      <td>on ABC's \"This Week\"</td>\n",
              "      <td>ive almost everi day</td>\n",
              "    </tr>\n",
              "    <tr>\n",
              "      <th>1264</th>\n",
              "      <td>barely-true</td>\n",
              "      <td>In the early 1980s, Sen. Edward Kennedy secret...</td>\n",
              "      <td>bipartisanship,congress,foreign-policy,history</td>\n",
              "      <td>mackubin-thomas-owens</td>\n",
              "      <td>senior fellow, Foreign Policy Research Institute</td>\n",
              "      <td>Rhode Island</td>\n",
              "      <td>columnist</td>\n",
              "      <td>1.0</td>\n",
              "      <td>0.0</td>\n",
              "      <td>0.0</td>\n",
              "      <td>0.0</td>\n",
              "      <td>0.0</td>\n",
              "      <td>a commentary in The Providence Journal</td>\n",
              "      <td>earli 1980 sen edward kennedi secretli offer h...</td>\n",
              "    </tr>\n",
              "    <tr>\n",
              "      <th>1265</th>\n",
              "      <td>barely-true</td>\n",
              "      <td>Says an EPA permit languished under Strickland...</td>\n",
              "      <td>environment,government-efficiency</td>\n",
              "      <td>john-kasich</td>\n",
              "      <td>Governor of Ohio as of Jan. 10, 2011</td>\n",
              "      <td>Ohio</td>\n",
              "      <td>republican</td>\n",
              "      <td>9.0</td>\n",
              "      <td>8.0</td>\n",
              "      <td>10.0</td>\n",
              "      <td>18.0</td>\n",
              "      <td>3.0</td>\n",
              "      <td>a news conference</td>\n",
              "      <td>say epa permit languish strickland new epa dir...</td>\n",
              "    </tr>\n",
              "    <tr>\n",
              "      <th>1266</th>\n",
              "      <td>false</td>\n",
              "      <td>Says the governor is going around the state ta...</td>\n",
              "      <td>state-budget,state-finances,taxes</td>\n",
              "      <td>john-burzichelli</td>\n",
              "      <td>NaN</td>\n",
              "      <td>NaN</td>\n",
              "      <td>democrat</td>\n",
              "      <td>1.0</td>\n",
              "      <td>1.0</td>\n",
              "      <td>0.0</td>\n",
              "      <td>0.0</td>\n",
              "      <td>0.0</td>\n",
              "      <td>an interview with NJToday</td>\n",
              "      <td>say governor go around state talk fund incom t...</td>\n",
              "    </tr>\n",
              "  </tbody>\n",
              "</table>\n",
              "<p>11507 rows × 14 columns</p>\n",
              "</div>"
            ],
            "text/plain": [
              "            label  ...                                     finalStatement\n",
              "0           false  ...  say anni list polit group support thirdtrimest...\n",
              "1       half-true  ...  declin coal start start natur ga took start be...\n",
              "2     mostly-true  ...  hillari clinton agre john mccain vote give geo...\n",
              "3           false  ...  health care reform legisl like mandat free sex...\n",
              "4       half-true  ...                   econom turnaround start end term\n",
              "...           ...  ...                                                ...\n",
              "1262    half-true  ...  say budget provid highest state fund level his...\n",
              "1263  barely-true  ...                               ive almost everi day\n",
              "1264  barely-true  ...  earli 1980 sen edward kennedi secretli offer h...\n",
              "1265  barely-true  ...  say epa permit languish strickland new epa dir...\n",
              "1266        false  ...  say governor go around state talk fund incom t...\n",
              "\n",
              "[11507 rows x 14 columns]"
            ]
          },
          "metadata": {
            "tags": []
          },
          "execution_count": 12
        }
      ]
    },
    {
      "cell_type": "code",
      "metadata": {
        "id": "8IF2YeokAoDi",
        "colab_type": "code",
        "colab": {}
      },
      "source": [
        "import re\n",
        "def break_subject(text):\n",
        "  if type(text) is float:\n",
        "    return []\n",
        "  import re\n",
        "  return re.split('; |, |-',text)"
      ],
      "execution_count": 0,
      "outputs": []
    },
    {
      "cell_type": "code",
      "metadata": {
        "id": "360VSV87AwpJ",
        "colab_type": "code",
        "colab": {}
      },
      "source": [
        "df_mod['finalSubject'] = df_mod.apply(lambda row: break_subject(row['subject']), axis=1)"
      ],
      "execution_count": 0,
      "outputs": []
    },
    {
      "cell_type": "markdown",
      "metadata": {
        "id": "dxG3zqgNG6I_",
        "colab_type": "text"
      },
      "source": [
        "# Generate similar words"
      ]
    },
    {
      "cell_type": "code",
      "metadata": {
        "id": "5davOxEZAzi7",
        "colab_type": "code",
        "colab": {}
      },
      "source": [
        "from nltk.corpus import wordnet \n",
        "def generate_Synonyms(wordlist):\n",
        "    synonyms = set()\n",
        "    for i in wordlist:\n",
        "      if type(i) is not str:\n",
        "        continue\n",
        "      for syn in wordnet.synsets(i): \n",
        "          for l in syn.lemmas(): \n",
        "              synonyms.add(l.name())\n",
        "    return list(synonyms)"
      ],
      "execution_count": 0,
      "outputs": []
    },
    {
      "cell_type": "code",
      "metadata": {
        "id": "dT9tfiGuA10_",
        "colab_type": "code",
        "colab": {}
      },
      "source": [
        "df_mod['subjectSynonyms'] = df_mod.apply(lambda row: generate_Synonyms(row['finalSubject']), axis=1)"
      ],
      "execution_count": 0,
      "outputs": []
    },
    {
      "cell_type": "code",
      "metadata": {
        "id": "-fzLhy3rA4HO",
        "colab_type": "code",
        "outputId": "d19c8735-a0de-4674-a0c3-09e20e4bdf4c",
        "colab": {
          "base_uri": "https://localhost:8080/",
          "height": 1000
        }
      },
      "source": [
        "df_mod"
      ],
      "execution_count": 0,
      "outputs": [
        {
          "output_type": "execute_result",
          "data": {
            "text/html": [
              "<div>\n",
              "<style scoped>\n",
              "    .dataframe tbody tr th:only-of-type {\n",
              "        vertical-align: middle;\n",
              "    }\n",
              "\n",
              "    .dataframe tbody tr th {\n",
              "        vertical-align: top;\n",
              "    }\n",
              "\n",
              "    .dataframe thead th {\n",
              "        text-align: right;\n",
              "    }\n",
              "</style>\n",
              "<table border=\"1\" class=\"dataframe\">\n",
              "  <thead>\n",
              "    <tr style=\"text-align: right;\">\n",
              "      <th></th>\n",
              "      <th>label</th>\n",
              "      <th>statement</th>\n",
              "      <th>subject</th>\n",
              "      <th>speaker</th>\n",
              "      <th>speaker_job_title</th>\n",
              "      <th>state info</th>\n",
              "      <th>party affiliation</th>\n",
              "      <th>barely_true_counts</th>\n",
              "      <th>false_counts</th>\n",
              "      <th>half_true_counts</th>\n",
              "      <th>mostly_true_counts</th>\n",
              "      <th>pants_on_fire_counts</th>\n",
              "      <th>context</th>\n",
              "      <th>finalStatement</th>\n",
              "      <th>finalSubject</th>\n",
              "      <th>subjectSynonyms</th>\n",
              "    </tr>\n",
              "  </thead>\n",
              "  <tbody>\n",
              "    <tr>\n",
              "      <th>0</th>\n",
              "      <td>false</td>\n",
              "      <td>Says the Annies List political group supports ...</td>\n",
              "      <td>abortion</td>\n",
              "      <td>dwayne-bohac</td>\n",
              "      <td>State representative</td>\n",
              "      <td>Texas</td>\n",
              "      <td>republican</td>\n",
              "      <td>0.0</td>\n",
              "      <td>1.0</td>\n",
              "      <td>0.0</td>\n",
              "      <td>0.0</td>\n",
              "      <td>0.0</td>\n",
              "      <td>a mailer</td>\n",
              "      <td>say anni list polit group support thirdtrimest...</td>\n",
              "      <td>[abortion]</td>\n",
              "      <td>[abortion, miscarriage]</td>\n",
              "    </tr>\n",
              "    <tr>\n",
              "      <th>1</th>\n",
              "      <td>half-true</td>\n",
              "      <td>When did the decline of coal start? It started...</td>\n",
              "      <td>energy,history,job-accomplishments</td>\n",
              "      <td>scott-surovell</td>\n",
              "      <td>State delegate</td>\n",
              "      <td>Virginia</td>\n",
              "      <td>democrat</td>\n",
              "      <td>0.0</td>\n",
              "      <td>0.0</td>\n",
              "      <td>1.0</td>\n",
              "      <td>1.0</td>\n",
              "      <td>0.0</td>\n",
              "      <td>a floor speech.</td>\n",
              "      <td>declin coal start start natur ga took start be...</td>\n",
              "      <td>[energy,history,job, accomplishments]</td>\n",
              "      <td>[acquisition, achievement, accomplishment, att...</td>\n",
              "    </tr>\n",
              "    <tr>\n",
              "      <th>2</th>\n",
              "      <td>mostly-true</td>\n",
              "      <td>Hillary Clinton agrees with John McCain \"by vo...</td>\n",
              "      <td>foreign-policy</td>\n",
              "      <td>barack-obama</td>\n",
              "      <td>President</td>\n",
              "      <td>Illinois</td>\n",
              "      <td>democrat</td>\n",
              "      <td>70.0</td>\n",
              "      <td>71.0</td>\n",
              "      <td>160.0</td>\n",
              "      <td>163.0</td>\n",
              "      <td>9.0</td>\n",
              "      <td>Denver</td>\n",
              "      <td>hillari clinton agre john mccain vote give geo...</td>\n",
              "      <td>[foreign, policy]</td>\n",
              "      <td>[extraneous, insurance, alien, policy, foreign...</td>\n",
              "    </tr>\n",
              "    <tr>\n",
              "      <th>3</th>\n",
              "      <td>false</td>\n",
              "      <td>Health care reform legislation is likely to ma...</td>\n",
              "      <td>health-care</td>\n",
              "      <td>blog-posting</td>\n",
              "      <td>NaN</td>\n",
              "      <td>NaN</td>\n",
              "      <td>none</td>\n",
              "      <td>7.0</td>\n",
              "      <td>19.0</td>\n",
              "      <td>3.0</td>\n",
              "      <td>5.0</td>\n",
              "      <td>44.0</td>\n",
              "      <td>a news release</td>\n",
              "      <td>health care reform legisl like mandat free sex...</td>\n",
              "      <td>[health, care]</td>\n",
              "      <td>[attention, wellness, wish, concern, deal, car...</td>\n",
              "    </tr>\n",
              "    <tr>\n",
              "      <th>4</th>\n",
              "      <td>half-true</td>\n",
              "      <td>The economic turnaround started at the end of ...</td>\n",
              "      <td>economy,jobs</td>\n",
              "      <td>charlie-crist</td>\n",
              "      <td>NaN</td>\n",
              "      <td>Florida</td>\n",
              "      <td>democrat</td>\n",
              "      <td>15.0</td>\n",
              "      <td>9.0</td>\n",
              "      <td>20.0</td>\n",
              "      <td>19.0</td>\n",
              "      <td>2.0</td>\n",
              "      <td>an interview on CNN</td>\n",
              "      <td>econom turnaround start end term</td>\n",
              "      <td>[economy,jobs]</td>\n",
              "      <td>[]</td>\n",
              "    </tr>\n",
              "    <tr>\n",
              "      <th>...</th>\n",
              "      <td>...</td>\n",
              "      <td>...</td>\n",
              "      <td>...</td>\n",
              "      <td>...</td>\n",
              "      <td>...</td>\n",
              "      <td>...</td>\n",
              "      <td>...</td>\n",
              "      <td>...</td>\n",
              "      <td>...</td>\n",
              "      <td>...</td>\n",
              "      <td>...</td>\n",
              "      <td>...</td>\n",
              "      <td>...</td>\n",
              "      <td>...</td>\n",
              "      <td>...</td>\n",
              "      <td>...</td>\n",
              "    </tr>\n",
              "    <tr>\n",
              "      <th>1262</th>\n",
              "      <td>half-true</td>\n",
              "      <td>Says his budget provides the highest state fun...</td>\n",
              "      <td>education</td>\n",
              "      <td>rick-scott</td>\n",
              "      <td>Governor</td>\n",
              "      <td>Florida</td>\n",
              "      <td>republican</td>\n",
              "      <td>28.0</td>\n",
              "      <td>23.0</td>\n",
              "      <td>38.0</td>\n",
              "      <td>34.0</td>\n",
              "      <td>7.0</td>\n",
              "      <td>a news conference</td>\n",
              "      <td>say budget provid highest state fund level his...</td>\n",
              "      <td>[education]</td>\n",
              "      <td>[training, teaching, educational_activity, ped...</td>\n",
              "    </tr>\n",
              "    <tr>\n",
              "      <th>1263</th>\n",
              "      <td>barely-true</td>\n",
              "      <td>Ive been here almost every day.</td>\n",
              "      <td>civil-rights,crime,criminal-justice</td>\n",
              "      <td>jay-nixon</td>\n",
              "      <td>Governor</td>\n",
              "      <td>Missouri</td>\n",
              "      <td>democrat</td>\n",
              "      <td>2.0</td>\n",
              "      <td>0.0</td>\n",
              "      <td>0.0</td>\n",
              "      <td>1.0</td>\n",
              "      <td>0.0</td>\n",
              "      <td>on ABC's \"This Week\"</td>\n",
              "      <td>ive almost everi day</td>\n",
              "      <td>[civil, rights,crime,criminal, justice]</td>\n",
              "      <td>[Justice, Department_of_Justice, civic, civil,...</td>\n",
              "    </tr>\n",
              "    <tr>\n",
              "      <th>1264</th>\n",
              "      <td>barely-true</td>\n",
              "      <td>In the early 1980s, Sen. Edward Kennedy secret...</td>\n",
              "      <td>bipartisanship,congress,foreign-policy,history</td>\n",
              "      <td>mackubin-thomas-owens</td>\n",
              "      <td>senior fellow, Foreign Policy Research Institute</td>\n",
              "      <td>Rhode Island</td>\n",
              "      <td>columnist</td>\n",
              "      <td>1.0</td>\n",
              "      <td>0.0</td>\n",
              "      <td>0.0</td>\n",
              "      <td>0.0</td>\n",
              "      <td>0.0</td>\n",
              "      <td>a commentary in The Providence Journal</td>\n",
              "      <td>earli 1980 sen edward kennedi secretli offer h...</td>\n",
              "      <td>[bipartisanship,congress,foreign, policy,history]</td>\n",
              "      <td>[]</td>\n",
              "    </tr>\n",
              "    <tr>\n",
              "      <th>1265</th>\n",
              "      <td>barely-true</td>\n",
              "      <td>Says an EPA permit languished under Strickland...</td>\n",
              "      <td>environment,government-efficiency</td>\n",
              "      <td>john-kasich</td>\n",
              "      <td>Governor of Ohio as of Jan. 10, 2011</td>\n",
              "      <td>Ohio</td>\n",
              "      <td>republican</td>\n",
              "      <td>9.0</td>\n",
              "      <td>8.0</td>\n",
              "      <td>10.0</td>\n",
              "      <td>18.0</td>\n",
              "      <td>3.0</td>\n",
              "      <td>a news conference</td>\n",
              "      <td>say epa permit languish strickland new epa dir...</td>\n",
              "      <td>[environment,government, efficiency]</td>\n",
              "      <td>[efficiency]</td>\n",
              "    </tr>\n",
              "    <tr>\n",
              "      <th>1266</th>\n",
              "      <td>false</td>\n",
              "      <td>Says the governor is going around the state ta...</td>\n",
              "      <td>state-budget,state-finances,taxes</td>\n",
              "      <td>john-burzichelli</td>\n",
              "      <td>NaN</td>\n",
              "      <td>NaN</td>\n",
              "      <td>democrat</td>\n",
              "      <td>1.0</td>\n",
              "      <td>1.0</td>\n",
              "      <td>0.0</td>\n",
              "      <td>0.0</td>\n",
              "      <td>0.0</td>\n",
              "      <td>an interview with NJToday</td>\n",
              "      <td>say governor go around state talk fund incom t...</td>\n",
              "      <td>[state, budget,state, finances,taxes]</td>\n",
              "      <td>[submit, posit, province, land, DoS, put_forwa...</td>\n",
              "    </tr>\n",
              "  </tbody>\n",
              "</table>\n",
              "<p>11507 rows × 16 columns</p>\n",
              "</div>"
            ],
            "text/plain": [
              "            label  ...                                    subjectSynonyms\n",
              "0           false  ...                            [abortion, miscarriage]\n",
              "1       half-true  ...  [acquisition, achievement, accomplishment, att...\n",
              "2     mostly-true  ...  [extraneous, insurance, alien, policy, foreign...\n",
              "3           false  ...  [attention, wellness, wish, concern, deal, car...\n",
              "4       half-true  ...                                                 []\n",
              "...           ...  ...                                                ...\n",
              "1262    half-true  ...  [training, teaching, educational_activity, ped...\n",
              "1263  barely-true  ...  [Justice, Department_of_Justice, civic, civil,...\n",
              "1264  barely-true  ...                                                 []\n",
              "1265  barely-true  ...                                       [efficiency]\n",
              "1266        false  ...  [submit, posit, province, land, DoS, put_forwa...\n",
              "\n",
              "[11507 rows x 16 columns]"
            ]
          },
          "metadata": {
            "tags": []
          },
          "execution_count": 17
        }
      ]
    },
    {
      "cell_type": "code",
      "metadata": {
        "id": "A3aMM_irA5EK",
        "colab_type": "code",
        "colab": {}
      },
      "source": [
        "def combineSynonyms(data):\n",
        "    return ' '.join(data)"
      ],
      "execution_count": 0,
      "outputs": []
    },
    {
      "cell_type": "code",
      "metadata": {
        "id": "Uqm4ZMpjBAvs",
        "colab_type": "code",
        "colab": {}
      },
      "source": [
        "df_mod['subjectSynonyms'] = df_mod['subjectSynonyms'].apply(lambda x: combineSynonyms(x))"
      ],
      "execution_count": 0,
      "outputs": []
    },
    {
      "cell_type": "code",
      "metadata": {
        "id": "P1m9F6d4BE1j",
        "colab_type": "code",
        "outputId": "f74a15b8-2267-4fe6-8845-cf6f6516f995",
        "colab": {
          "base_uri": "https://localhost:8080/",
          "height": 1000
        }
      },
      "source": [
        "df_mod"
      ],
      "execution_count": 0,
      "outputs": [
        {
          "output_type": "execute_result",
          "data": {
            "text/html": [
              "<div>\n",
              "<style scoped>\n",
              "    .dataframe tbody tr th:only-of-type {\n",
              "        vertical-align: middle;\n",
              "    }\n",
              "\n",
              "    .dataframe tbody tr th {\n",
              "        vertical-align: top;\n",
              "    }\n",
              "\n",
              "    .dataframe thead th {\n",
              "        text-align: right;\n",
              "    }\n",
              "</style>\n",
              "<table border=\"1\" class=\"dataframe\">\n",
              "  <thead>\n",
              "    <tr style=\"text-align: right;\">\n",
              "      <th></th>\n",
              "      <th>label</th>\n",
              "      <th>statement</th>\n",
              "      <th>subject</th>\n",
              "      <th>speaker</th>\n",
              "      <th>speaker_job_title</th>\n",
              "      <th>state info</th>\n",
              "      <th>party affiliation</th>\n",
              "      <th>barely_true_counts</th>\n",
              "      <th>false_counts</th>\n",
              "      <th>half_true_counts</th>\n",
              "      <th>mostly_true_counts</th>\n",
              "      <th>pants_on_fire_counts</th>\n",
              "      <th>context</th>\n",
              "      <th>finalStatement</th>\n",
              "      <th>finalSubject</th>\n",
              "      <th>subjectSynonyms</th>\n",
              "    </tr>\n",
              "  </thead>\n",
              "  <tbody>\n",
              "    <tr>\n",
              "      <th>0</th>\n",
              "      <td>false</td>\n",
              "      <td>Says the Annies List political group supports ...</td>\n",
              "      <td>abortion</td>\n",
              "      <td>dwayne-bohac</td>\n",
              "      <td>State representative</td>\n",
              "      <td>Texas</td>\n",
              "      <td>republican</td>\n",
              "      <td>0.0</td>\n",
              "      <td>1.0</td>\n",
              "      <td>0.0</td>\n",
              "      <td>0.0</td>\n",
              "      <td>0.0</td>\n",
              "      <td>a mailer</td>\n",
              "      <td>say anni list polit group support thirdtrimest...</td>\n",
              "      <td>[abortion]</td>\n",
              "      <td>abortion miscarriage</td>\n",
              "    </tr>\n",
              "    <tr>\n",
              "      <th>1</th>\n",
              "      <td>half-true</td>\n",
              "      <td>When did the decline of coal start? It started...</td>\n",
              "      <td>energy,history,job-accomplishments</td>\n",
              "      <td>scott-surovell</td>\n",
              "      <td>State delegate</td>\n",
              "      <td>Virginia</td>\n",
              "      <td>democrat</td>\n",
              "      <td>0.0</td>\n",
              "      <td>0.0</td>\n",
              "      <td>1.0</td>\n",
              "      <td>1.0</td>\n",
              "      <td>0.0</td>\n",
              "      <td>a floor speech.</td>\n",
              "      <td>declin coal start start natur ga took start be...</td>\n",
              "      <td>[energy,history,job, accomplishments]</td>\n",
              "      <td>acquisition achievement accomplishment attainm...</td>\n",
              "    </tr>\n",
              "    <tr>\n",
              "      <th>2</th>\n",
              "      <td>mostly-true</td>\n",
              "      <td>Hillary Clinton agrees with John McCain \"by vo...</td>\n",
              "      <td>foreign-policy</td>\n",
              "      <td>barack-obama</td>\n",
              "      <td>President</td>\n",
              "      <td>Illinois</td>\n",
              "      <td>democrat</td>\n",
              "      <td>70.0</td>\n",
              "      <td>71.0</td>\n",
              "      <td>160.0</td>\n",
              "      <td>163.0</td>\n",
              "      <td>9.0</td>\n",
              "      <td>Denver</td>\n",
              "      <td>hillari clinton agre john mccain vote give geo...</td>\n",
              "      <td>[foreign, policy]</td>\n",
              "      <td>extraneous insurance alien policy foreign stra...</td>\n",
              "    </tr>\n",
              "    <tr>\n",
              "      <th>3</th>\n",
              "      <td>false</td>\n",
              "      <td>Health care reform legislation is likely to ma...</td>\n",
              "      <td>health-care</td>\n",
              "      <td>blog-posting</td>\n",
              "      <td>NaN</td>\n",
              "      <td>NaN</td>\n",
              "      <td>none</td>\n",
              "      <td>7.0</td>\n",
              "      <td>19.0</td>\n",
              "      <td>3.0</td>\n",
              "      <td>5.0</td>\n",
              "      <td>44.0</td>\n",
              "      <td>a news release</td>\n",
              "      <td>health care reform legisl like mandat free sex...</td>\n",
              "      <td>[health, care]</td>\n",
              "      <td>attention wellness wish concern deal care hand...</td>\n",
              "    </tr>\n",
              "    <tr>\n",
              "      <th>4</th>\n",
              "      <td>half-true</td>\n",
              "      <td>The economic turnaround started at the end of ...</td>\n",
              "      <td>economy,jobs</td>\n",
              "      <td>charlie-crist</td>\n",
              "      <td>NaN</td>\n",
              "      <td>Florida</td>\n",
              "      <td>democrat</td>\n",
              "      <td>15.0</td>\n",
              "      <td>9.0</td>\n",
              "      <td>20.0</td>\n",
              "      <td>19.0</td>\n",
              "      <td>2.0</td>\n",
              "      <td>an interview on CNN</td>\n",
              "      <td>econom turnaround start end term</td>\n",
              "      <td>[economy,jobs]</td>\n",
              "      <td></td>\n",
              "    </tr>\n",
              "    <tr>\n",
              "      <th>...</th>\n",
              "      <td>...</td>\n",
              "      <td>...</td>\n",
              "      <td>...</td>\n",
              "      <td>...</td>\n",
              "      <td>...</td>\n",
              "      <td>...</td>\n",
              "      <td>...</td>\n",
              "      <td>...</td>\n",
              "      <td>...</td>\n",
              "      <td>...</td>\n",
              "      <td>...</td>\n",
              "      <td>...</td>\n",
              "      <td>...</td>\n",
              "      <td>...</td>\n",
              "      <td>...</td>\n",
              "      <td>...</td>\n",
              "    </tr>\n",
              "    <tr>\n",
              "      <th>1262</th>\n",
              "      <td>half-true</td>\n",
              "      <td>Says his budget provides the highest state fun...</td>\n",
              "      <td>education</td>\n",
              "      <td>rick-scott</td>\n",
              "      <td>Governor</td>\n",
              "      <td>Florida</td>\n",
              "      <td>republican</td>\n",
              "      <td>28.0</td>\n",
              "      <td>23.0</td>\n",
              "      <td>38.0</td>\n",
              "      <td>34.0</td>\n",
              "      <td>7.0</td>\n",
              "      <td>a news conference</td>\n",
              "      <td>say budget provid highest state fund level his...</td>\n",
              "      <td>[education]</td>\n",
              "      <td>training teaching educational_activity pedagog...</td>\n",
              "    </tr>\n",
              "    <tr>\n",
              "      <th>1263</th>\n",
              "      <td>barely-true</td>\n",
              "      <td>Ive been here almost every day.</td>\n",
              "      <td>civil-rights,crime,criminal-justice</td>\n",
              "      <td>jay-nixon</td>\n",
              "      <td>Governor</td>\n",
              "      <td>Missouri</td>\n",
              "      <td>democrat</td>\n",
              "      <td>2.0</td>\n",
              "      <td>0.0</td>\n",
              "      <td>0.0</td>\n",
              "      <td>1.0</td>\n",
              "      <td>0.0</td>\n",
              "      <td>on ABC's \"This Week\"</td>\n",
              "      <td>ive almost everi day</td>\n",
              "      <td>[civil, rights,crime,criminal, justice]</td>\n",
              "      <td>Justice Department_of_Justice civic civil just...</td>\n",
              "    </tr>\n",
              "    <tr>\n",
              "      <th>1264</th>\n",
              "      <td>barely-true</td>\n",
              "      <td>In the early 1980s, Sen. Edward Kennedy secret...</td>\n",
              "      <td>bipartisanship,congress,foreign-policy,history</td>\n",
              "      <td>mackubin-thomas-owens</td>\n",
              "      <td>senior fellow, Foreign Policy Research Institute</td>\n",
              "      <td>Rhode Island</td>\n",
              "      <td>columnist</td>\n",
              "      <td>1.0</td>\n",
              "      <td>0.0</td>\n",
              "      <td>0.0</td>\n",
              "      <td>0.0</td>\n",
              "      <td>0.0</td>\n",
              "      <td>a commentary in The Providence Journal</td>\n",
              "      <td>earli 1980 sen edward kennedi secretli offer h...</td>\n",
              "      <td>[bipartisanship,congress,foreign, policy,history]</td>\n",
              "      <td></td>\n",
              "    </tr>\n",
              "    <tr>\n",
              "      <th>1265</th>\n",
              "      <td>barely-true</td>\n",
              "      <td>Says an EPA permit languished under Strickland...</td>\n",
              "      <td>environment,government-efficiency</td>\n",
              "      <td>john-kasich</td>\n",
              "      <td>Governor of Ohio as of Jan. 10, 2011</td>\n",
              "      <td>Ohio</td>\n",
              "      <td>republican</td>\n",
              "      <td>9.0</td>\n",
              "      <td>8.0</td>\n",
              "      <td>10.0</td>\n",
              "      <td>18.0</td>\n",
              "      <td>3.0</td>\n",
              "      <td>a news conference</td>\n",
              "      <td>say epa permit languish strickland new epa dir...</td>\n",
              "      <td>[environment,government, efficiency]</td>\n",
              "      <td>efficiency</td>\n",
              "    </tr>\n",
              "    <tr>\n",
              "      <th>1266</th>\n",
              "      <td>false</td>\n",
              "      <td>Says the governor is going around the state ta...</td>\n",
              "      <td>state-budget,state-finances,taxes</td>\n",
              "      <td>john-burzichelli</td>\n",
              "      <td>NaN</td>\n",
              "      <td>NaN</td>\n",
              "      <td>democrat</td>\n",
              "      <td>1.0</td>\n",
              "      <td>1.0</td>\n",
              "      <td>0.0</td>\n",
              "      <td>0.0</td>\n",
              "      <td>0.0</td>\n",
              "      <td>an interview with NJToday</td>\n",
              "      <td>say governor go around state talk fund incom t...</td>\n",
              "      <td>[state, budget,state, finances,taxes]</td>\n",
              "      <td>submit posit province land DoS put_forward say...</td>\n",
              "    </tr>\n",
              "  </tbody>\n",
              "</table>\n",
              "<p>11507 rows × 16 columns</p>\n",
              "</div>"
            ],
            "text/plain": [
              "            label  ...                                    subjectSynonyms\n",
              "0           false  ...                               abortion miscarriage\n",
              "1       half-true  ...  acquisition achievement accomplishment attainm...\n",
              "2     mostly-true  ...  extraneous insurance alien policy foreign stra...\n",
              "3           false  ...  attention wellness wish concern deal care hand...\n",
              "4       half-true  ...                                                   \n",
              "...           ...  ...                                                ...\n",
              "1262    half-true  ...  training teaching educational_activity pedagog...\n",
              "1263  barely-true  ...  Justice Department_of_Justice civic civil just...\n",
              "1264  barely-true  ...                                                   \n",
              "1265  barely-true  ...                                         efficiency\n",
              "1266        false  ...  submit posit province land DoS put_forward say...\n",
              "\n",
              "[11507 rows x 16 columns]"
            ]
          },
          "metadata": {
            "tags": []
          },
          "execution_count": 20
        }
      ]
    },
    {
      "cell_type": "markdown",
      "metadata": {
        "id": "3jgp4k3s-94Y",
        "colab_type": "text"
      },
      "source": [
        "# Bert Word Embeddings"
      ]
    },
    {
      "cell_type": "code",
      "metadata": {
        "id": "9q7NQQHn_WtI",
        "colab_type": "code",
        "outputId": "7ddd89b0-3687-4a9a-8a8c-07e18a55d104",
        "colab": {
          "base_uri": "https://localhost:8080/",
          "height": 330
        }
      },
      "source": [
        "!pip3 install -U bert-serving-server bert-serving-client"
      ],
      "execution_count": 0,
      "outputs": [
        {
          "output_type": "stream",
          "text": [
            "Collecting bert-serving-server\n",
            "\u001b[?25l  Downloading https://files.pythonhosted.org/packages/b0/bd/cab677bbd0c5fb08b72e468371d2bca6ed9507785739b4656b0b5470d90b/bert_serving_server-1.10.0-py3-none-any.whl (61kB)\n",
            "\r\u001b[K     |█████▎                          | 10kB 15.0MB/s eta 0:00:01\r\u001b[K     |██████████▋                     | 20kB 3.2MB/s eta 0:00:01\r\u001b[K     |████████████████                | 30kB 3.5MB/s eta 0:00:01\r\u001b[K     |█████████████████████▎          | 40kB 1.4MB/s eta 0:00:01\r\u001b[K     |██████████████████████████▋     | 51kB 1.7MB/s eta 0:00:01\r\u001b[K     |███████████████████████████████▉| 61kB 2.0MB/s eta 0:00:01\r\u001b[K     |████████████████████████████████| 71kB 1.9MB/s \n",
            "\u001b[?25hCollecting bert-serving-client\n",
            "  Downloading https://files.pythonhosted.org/packages/1f/09/aae1405378a848b2e87769ad89a43d6d71978c4e15534ca48e82e723a72f/bert_serving_client-1.10.0-py2.py3-none-any.whl\n",
            "Requirement already satisfied, skipping upgrade: six in /usr/local/lib/python3.6/dist-packages (from bert-serving-server) (1.12.0)\n",
            "Collecting GPUtil>=1.3.0\n",
            "  Downloading https://files.pythonhosted.org/packages/ed/0e/5c61eedde9f6c87713e89d794f01e378cfd9565847d4576fa627d758c554/GPUtil-1.4.0.tar.gz\n",
            "Requirement already satisfied, skipping upgrade: numpy in /usr/local/lib/python3.6/dist-packages (from bert-serving-server) (1.18.4)\n",
            "Requirement already satisfied, skipping upgrade: termcolor>=1.1 in /usr/local/lib/python3.6/dist-packages (from bert-serving-server) (1.1.0)\n",
            "Requirement already satisfied, skipping upgrade: pyzmq>=17.1.0 in /usr/local/lib/python3.6/dist-packages (from bert-serving-server) (19.0.1)\n",
            "Building wheels for collected packages: GPUtil\n",
            "  Building wheel for GPUtil (setup.py) ... \u001b[?25l\u001b[?25hdone\n",
            "  Created wheel for GPUtil: filename=GPUtil-1.4.0-cp36-none-any.whl size=7413 sha256=c09766cc1b466b5decbdddabc2fd12a368850b8be23e45028993545adefe0522\n",
            "  Stored in directory: /root/.cache/pip/wheels/3d/77/07/80562de4bb0786e5ea186911a2c831fdd0018bda69beab71fd\n",
            "Successfully built GPUtil\n",
            "Installing collected packages: GPUtil, bert-serving-server, bert-serving-client\n",
            "Successfully installed GPUtil-1.4.0 bert-serving-client-1.10.0 bert-serving-server-1.10.0\n"
          ],
          "name": "stdout"
        }
      ]
    },
    {
      "cell_type": "code",
      "metadata": {
        "id": "fGy_dh5C_Iaz",
        "colab_type": "code",
        "colab": {}
      },
      "source": [
        ""
      ],
      "execution_count": 0,
      "outputs": []
    },
    {
      "cell_type": "code",
      "metadata": {
        "id": "xXSv6TxyBFxn",
        "colab_type": "code",
        "colab": {}
      },
      "source": [
        "df_mod['test_string']= df_mod['finalStatement'] +'@@'+df_mod['subjectSynonyms']"
      ],
      "execution_count": 0,
      "outputs": []
    },
    {
      "cell_type": "code",
      "metadata": {
        "id": "SXzUdlgrBRa1",
        "colab_type": "code",
        "colab": {}
      },
      "source": [
        "df_mod['cosineSim']=df_mod['test_string'].apply(lambda x: cosine_sim(x))"
      ],
      "execution_count": 0,
      "outputs": []
    },
    {
      "cell_type": "code",
      "metadata": {
        "id": "Qb5-L2u8BUOE",
        "colab_type": "code",
        "outputId": "bae1fd57-a44c-4c58-a4d4-58caf274f451",
        "colab": {
          "base_uri": "https://localhost:8080/",
          "height": 1000
        }
      },
      "source": [
        "df_mod"
      ],
      "execution_count": 0,
      "outputs": [
        {
          "output_type": "execute_result",
          "data": {
            "text/html": [
              "<div>\n",
              "<style scoped>\n",
              "    .dataframe tbody tr th:only-of-type {\n",
              "        vertical-align: middle;\n",
              "    }\n",
              "\n",
              "    .dataframe tbody tr th {\n",
              "        vertical-align: top;\n",
              "    }\n",
              "\n",
              "    .dataframe thead th {\n",
              "        text-align: right;\n",
              "    }\n",
              "</style>\n",
              "<table border=\"1\" class=\"dataframe\">\n",
              "  <thead>\n",
              "    <tr style=\"text-align: right;\">\n",
              "      <th></th>\n",
              "      <th>label</th>\n",
              "      <th>statement</th>\n",
              "      <th>subject</th>\n",
              "      <th>speaker</th>\n",
              "      <th>speaker_job_title</th>\n",
              "      <th>state info</th>\n",
              "      <th>party affiliation</th>\n",
              "      <th>barely_true_counts</th>\n",
              "      <th>false_counts</th>\n",
              "      <th>half_true_counts</th>\n",
              "      <th>mostly_true_counts</th>\n",
              "      <th>pants_on_fire_counts</th>\n",
              "      <th>context</th>\n",
              "      <th>finalStatement</th>\n",
              "      <th>finalSubject</th>\n",
              "      <th>subjectSynonyms</th>\n",
              "      <th>test_string</th>\n",
              "      <th>cosineSim</th>\n",
              "    </tr>\n",
              "  </thead>\n",
              "  <tbody>\n",
              "    <tr>\n",
              "      <th>0</th>\n",
              "      <td>false</td>\n",
              "      <td>Says the Annies List political group supports ...</td>\n",
              "      <td>abortion</td>\n",
              "      <td>dwayne-bohac</td>\n",
              "      <td>State representative</td>\n",
              "      <td>Texas</td>\n",
              "      <td>republican</td>\n",
              "      <td>0.0</td>\n",
              "      <td>1.0</td>\n",
              "      <td>0.0</td>\n",
              "      <td>0.0</td>\n",
              "      <td>0.0</td>\n",
              "      <td>a mailer</td>\n",
              "      <td>say anni list polit group support thirdtrimest...</td>\n",
              "      <td>[abortion]</td>\n",
              "      <td>abortion miscarriage</td>\n",
              "      <td>say anni list polit group support thirdtrimest...</td>\n",
              "      <td>0.000000</td>\n",
              "    </tr>\n",
              "    <tr>\n",
              "      <th>1</th>\n",
              "      <td>half-true</td>\n",
              "      <td>When did the decline of coal start? It started...</td>\n",
              "      <td>energy,history,job-accomplishments</td>\n",
              "      <td>scott-surovell</td>\n",
              "      <td>State delegate</td>\n",
              "      <td>Virginia</td>\n",
              "      <td>democrat</td>\n",
              "      <td>0.0</td>\n",
              "      <td>0.0</td>\n",
              "      <td>1.0</td>\n",
              "      <td>1.0</td>\n",
              "      <td>0.0</td>\n",
              "      <td>a floor speech.</td>\n",
              "      <td>declin coal start start natur ga took start be...</td>\n",
              "      <td>[energy,history,job, accomplishments]</td>\n",
              "      <td>accomplishment acquirement skill achievement a...</td>\n",
              "      <td>declin coal start start natur ga took start be...</td>\n",
              "      <td>0.000000</td>\n",
              "    </tr>\n",
              "    <tr>\n",
              "      <th>2</th>\n",
              "      <td>mostly-true</td>\n",
              "      <td>Hillary Clinton agrees with John McCain \"by vo...</td>\n",
              "      <td>foreign-policy</td>\n",
              "      <td>barack-obama</td>\n",
              "      <td>President</td>\n",
              "      <td>Illinois</td>\n",
              "      <td>democrat</td>\n",
              "      <td>70.0</td>\n",
              "      <td>71.0</td>\n",
              "      <td>160.0</td>\n",
              "      <td>163.0</td>\n",
              "      <td>9.0</td>\n",
              "      <td>Denver</td>\n",
              "      <td>hillari clinton agre john mccain vote give geo...</td>\n",
              "      <td>[foreign, policy]</td>\n",
              "      <td>insurance_policy foreign strange extraneous po...</td>\n",
              "      <td>hillari clinton agre john mccain vote give geo...</td>\n",
              "      <td>0.000000</td>\n",
              "    </tr>\n",
              "    <tr>\n",
              "      <th>3</th>\n",
              "      <td>false</td>\n",
              "      <td>Health care reform legislation is likely to ma...</td>\n",
              "      <td>health-care</td>\n",
              "      <td>blog-posting</td>\n",
              "      <td>NaN</td>\n",
              "      <td>NaN</td>\n",
              "      <td>none</td>\n",
              "      <td>7.0</td>\n",
              "      <td>19.0</td>\n",
              "      <td>3.0</td>\n",
              "      <td>5.0</td>\n",
              "      <td>44.0</td>\n",
              "      <td>a news release</td>\n",
              "      <td>health care reform legisl like mandat free sex...</td>\n",
              "      <td>[health, care]</td>\n",
              "      <td>worry wellness care fear manage health wish de...</td>\n",
              "      <td>health care reform legisl like mandat free sex...</td>\n",
              "      <td>0.112172</td>\n",
              "    </tr>\n",
              "    <tr>\n",
              "      <th>4</th>\n",
              "      <td>half-true</td>\n",
              "      <td>The economic turnaround started at the end of ...</td>\n",
              "      <td>economy,jobs</td>\n",
              "      <td>charlie-crist</td>\n",
              "      <td>NaN</td>\n",
              "      <td>Florida</td>\n",
              "      <td>democrat</td>\n",
              "      <td>15.0</td>\n",
              "      <td>9.0</td>\n",
              "      <td>20.0</td>\n",
              "      <td>19.0</td>\n",
              "      <td>2.0</td>\n",
              "      <td>an interview on CNN</td>\n",
              "      <td>econom turnaround start end term</td>\n",
              "      <td>[economy,jobs]</td>\n",
              "      <td></td>\n",
              "      <td>econom turnaround start end term@@</td>\n",
              "      <td>0.000000</td>\n",
              "    </tr>\n",
              "    <tr>\n",
              "      <th>...</th>\n",
              "      <td>...</td>\n",
              "      <td>...</td>\n",
              "      <td>...</td>\n",
              "      <td>...</td>\n",
              "      <td>...</td>\n",
              "      <td>...</td>\n",
              "      <td>...</td>\n",
              "      <td>...</td>\n",
              "      <td>...</td>\n",
              "      <td>...</td>\n",
              "      <td>...</td>\n",
              "      <td>...</td>\n",
              "      <td>...</td>\n",
              "      <td>...</td>\n",
              "      <td>...</td>\n",
              "      <td>...</td>\n",
              "      <td>...</td>\n",
              "      <td>...</td>\n",
              "    </tr>\n",
              "    <tr>\n",
              "      <th>1262</th>\n",
              "      <td>half-true</td>\n",
              "      <td>Says his budget provides the highest state fun...</td>\n",
              "      <td>education</td>\n",
              "      <td>rick-scott</td>\n",
              "      <td>Governor</td>\n",
              "      <td>Florida</td>\n",
              "      <td>republican</td>\n",
              "      <td>28.0</td>\n",
              "      <td>23.0</td>\n",
              "      <td>38.0</td>\n",
              "      <td>34.0</td>\n",
              "      <td>7.0</td>\n",
              "      <td>a news conference</td>\n",
              "      <td>say budget provid highest state fund level his...</td>\n",
              "      <td>[education]</td>\n",
              "      <td>training didactics Education education Departm...</td>\n",
              "      <td>say budget provid highest state fund level his...</td>\n",
              "      <td>0.000000</td>\n",
              "    </tr>\n",
              "    <tr>\n",
              "      <th>1263</th>\n",
              "      <td>barely-true</td>\n",
              "      <td>Ive been here almost every day.</td>\n",
              "      <td>civil-rights,crime,criminal-justice</td>\n",
              "      <td>jay-nixon</td>\n",
              "      <td>Governor</td>\n",
              "      <td>Missouri</td>\n",
              "      <td>democrat</td>\n",
              "      <td>2.0</td>\n",
              "      <td>0.0</td>\n",
              "      <td>0.0</td>\n",
              "      <td>1.0</td>\n",
              "      <td>0.0</td>\n",
              "      <td>on ABC's \"This Week\"</td>\n",
              "      <td>ive almost everi day</td>\n",
              "      <td>[civil, rights,crime,criminal, justice]</td>\n",
              "      <td>jurist Justice_Department Justice justice Depa...</td>\n",
              "      <td>ive almost everi day@@jurist Justice_Departmen...</td>\n",
              "      <td>0.000000</td>\n",
              "    </tr>\n",
              "    <tr>\n",
              "      <th>1264</th>\n",
              "      <td>barely-true</td>\n",
              "      <td>In the early 1980s, Sen. Edward Kennedy secret...</td>\n",
              "      <td>bipartisanship,congress,foreign-policy,history</td>\n",
              "      <td>mackubin-thomas-owens</td>\n",
              "      <td>senior fellow, Foreign Policy Research Institute</td>\n",
              "      <td>Rhode Island</td>\n",
              "      <td>columnist</td>\n",
              "      <td>1.0</td>\n",
              "      <td>0.0</td>\n",
              "      <td>0.0</td>\n",
              "      <td>0.0</td>\n",
              "      <td>0.0</td>\n",
              "      <td>a commentary in The Providence Journal</td>\n",
              "      <td>earli 1980 sen edward kennedi secretli offer h...</td>\n",
              "      <td>[bipartisanship,congress,foreign, policy,history]</td>\n",
              "      <td></td>\n",
              "      <td>earli 1980 sen edward kennedi secretli offer h...</td>\n",
              "      <td>0.000000</td>\n",
              "    </tr>\n",
              "    <tr>\n",
              "      <th>1265</th>\n",
              "      <td>barely-true</td>\n",
              "      <td>Says an EPA permit languished under Strickland...</td>\n",
              "      <td>environment,government-efficiency</td>\n",
              "      <td>john-kasich</td>\n",
              "      <td>Governor of Ohio as of Jan. 10, 2011</td>\n",
              "      <td>Ohio</td>\n",
              "      <td>republican</td>\n",
              "      <td>9.0</td>\n",
              "      <td>8.0</td>\n",
              "      <td>10.0</td>\n",
              "      <td>18.0</td>\n",
              "      <td>3.0</td>\n",
              "      <td>a news conference</td>\n",
              "      <td>say epa permit languish strickland new epa dir...</td>\n",
              "      <td>[environment,government, efficiency]</td>\n",
              "      <td>efficiency</td>\n",
              "      <td>say epa permit languish strickland new epa dir...</td>\n",
              "      <td>0.000000</td>\n",
              "    </tr>\n",
              "    <tr>\n",
              "      <th>1266</th>\n",
              "      <td>false</td>\n",
              "      <td>Says the governor is going around the state ta...</td>\n",
              "      <td>state-budget,state-finances,taxes</td>\n",
              "      <td>john-burzichelli</td>\n",
              "      <td>NaN</td>\n",
              "      <td>NaN</td>\n",
              "      <td>democrat</td>\n",
              "      <td>1.0</td>\n",
              "      <td>1.0</td>\n",
              "      <td>0.0</td>\n",
              "      <td>0.0</td>\n",
              "      <td>0.0</td>\n",
              "      <td>an interview with NJToday</td>\n",
              "      <td>say governor go around state talk fund incom t...</td>\n",
              "      <td>[state, budget,state, finances,taxes]</td>\n",
              "      <td>express country res_publica state_of_matter Do...</td>\n",
              "      <td>say governor go around state talk fund incom t...</td>\n",
              "      <td>0.073246</td>\n",
              "    </tr>\n",
              "  </tbody>\n",
              "</table>\n",
              "<p>11507 rows × 18 columns</p>\n",
              "</div>"
            ],
            "text/plain": [
              "            label  ... cosineSim\n",
              "0           false  ...  0.000000\n",
              "1       half-true  ...  0.000000\n",
              "2     mostly-true  ...  0.000000\n",
              "3           false  ...  0.112172\n",
              "4       half-true  ...  0.000000\n",
              "...           ...  ...       ...\n",
              "1262    half-true  ...  0.000000\n",
              "1263  barely-true  ...  0.000000\n",
              "1264  barely-true  ...  0.000000\n",
              "1265  barely-true  ...  0.000000\n",
              "1266        false  ...  0.073246\n",
              "\n",
              "[11507 rows x 18 columns]"
            ]
          },
          "metadata": {
            "tags": []
          },
          "execution_count": 22
        }
      ]
    },
    {
      "cell_type": "code",
      "metadata": {
        "id": "iBzwWSX-DHZx",
        "colab_type": "code",
        "colab": {}
      },
      "source": [
        ""
      ],
      "execution_count": 0,
      "outputs": []
    },
    {
      "cell_type": "markdown",
      "metadata": {
        "id": "aejirkJeJPah",
        "colab_type": "text"
      },
      "source": [
        "# Named Entity Recognition"
      ]
    },
    {
      "cell_type": "code",
      "metadata": {
        "id": "_ZFd9425JTTV",
        "colab_type": "code",
        "colab": {}
      },
      "source": [
        "import spacy\n",
        "# Load English tokenizer, tagger, parser, NER and word vectors\n",
        "nlp = spacy.load(\"en_core_web_sm\")\n",
        "def generate_ner(text):\n",
        "  doc = nlp(text)\n",
        "  return [str(chunk) for chunk in doc.noun_chunks] + [str(token) for token in doc if token.pos_ == \"VERB\"]\n",
        "\n",
        "def generate_ner_verb(text):\n",
        "  doc = nlp(text)\n",
        "  return [str(token) for token in doc if token.pos_ == \"VERB\"]\n",
        "\n",
        "def spacy_similarity(t1,t2):\n",
        "  doc1 = nlp(t1)\n",
        "  doc2 = nlp(t2)\n",
        "  return doc1.similarity(doc2)"
      ],
      "execution_count": 0,
      "outputs": []
    },
    {
      "cell_type": "code",
      "metadata": {
        "id": "PLV08dtdNkVR",
        "colab_type": "code",
        "outputId": "dbea92cf-b90f-42b8-8d4d-3a2ad7cec36e",
        "colab": {
          "base_uri": "https://localhost:8080/",
          "height": 33
        }
      },
      "source": [
        "' '.join(generate_ner('this car is running'))"
      ],
      "execution_count": 0,
      "outputs": [
        {
          "output_type": "execute_result",
          "data": {
            "text/plain": [
              "'this car running'"
            ]
          },
          "metadata": {
            "tags": []
          },
          "execution_count": 24
        }
      ]
    },
    {
      "cell_type": "code",
      "metadata": {
        "id": "FiQcGihPJTPF",
        "colab_type": "code",
        "colab": {}
      },
      "source": [
        "# spacy_similarity('hii how are you','hehy there')"
      ],
      "execution_count": 0,
      "outputs": []
    },
    {
      "cell_type": "code",
      "metadata": {
        "id": "GO8DguEHJTKm",
        "colab_type": "code",
        "colab": {}
      },
      "source": [
        "df_mod['noVeStatement']=df_mod['finalStatement'].apply(lambda x: ' '.join(generate_ner(x)))"
      ],
      "execution_count": 0,
      "outputs": []
    },
    {
      "cell_type": "code",
      "metadata": {
        "id": "VApqEVAkJTBa",
        "colab_type": "code",
        "colab": {}
      },
      "source": [
        "df_mod['noVeSubject']=df_mod['subjectSynonyms'].apply(lambda x: ' '.join(generate_ner(x)))"
      ],
      "execution_count": 0,
      "outputs": []
    },
    {
      "cell_type": "code",
      "metadata": {
        "id": "-8dOJzDxOpFa",
        "colab_type": "code",
        "colab": {}
      },
      "source": [
        "df_mod['nerScore']=df_mod.apply(lambda x: (spacy_similarity(x.noVeSubject,x.noVeStatement)),axis=1)"
      ],
      "execution_count": 0,
      "outputs": []
    },
    {
      "cell_type": "code",
      "metadata": {
        "id": "w0jdiIdGQSyr",
        "colab_type": "code",
        "outputId": "54423681-afe4-45c2-82d9-63e3d87e7a11",
        "colab": {
          "base_uri": "https://localhost:8080/",
          "height": 158
        }
      },
      "source": [
        "df_mod"
      ],
      "execution_count": 0,
      "outputs": [
        {
          "output_type": "error",
          "ename": "NameError",
          "evalue": "ignored",
          "traceback": [
            "\u001b[0;31m---------------------------------------------------------------------------\u001b[0m",
            "\u001b[0;31mNameError\u001b[0m                                 Traceback (most recent call last)",
            "\u001b[0;32m<ipython-input-1-a70214810ba0>\u001b[0m in \u001b[0;36m<module>\u001b[0;34m()\u001b[0m\n\u001b[0;32m----> 1\u001b[0;31m \u001b[0mdf_mod\u001b[0m\u001b[0;34m\u001b[0m\u001b[0;34m\u001b[0m\u001b[0m\n\u001b[0m",
            "\u001b[0;31mNameError\u001b[0m: name 'df_mod' is not defined"
          ]
        }
      ]
    },
    {
      "cell_type": "code",
      "metadata": {
        "id": "tzbu_9LY9vcW",
        "colab_type": "code",
        "colab": {}
      },
      "source": [
        ""
      ],
      "execution_count": 0,
      "outputs": []
    },
    {
      "cell_type": "code",
      "metadata": {
        "id": "hMy_cGAO9vJd",
        "colab_type": "code",
        "colab": {}
      },
      "source": [
        ""
      ],
      "execution_count": 0,
      "outputs": []
    },
    {
      "cell_type": "markdown",
      "metadata": {
        "id": "jZgNhl5kDT6x",
        "colab_type": "text"
      },
      "source": [
        "# Sentiment scores for each statement"
      ]
    },
    {
      "cell_type": "code",
      "metadata": {
        "id": "OR7a5rCYDHQ_",
        "colab_type": "code",
        "colab": {}
      },
      "source": [
        "pip install vaderSentiment"
      ],
      "execution_count": 0,
      "outputs": []
    },
    {
      "cell_type": "code",
      "metadata": {
        "id": "kPoaIWDuDjKD",
        "colab_type": "code",
        "colab": {}
      },
      "source": [
        "from vaderSentiment.vaderSentiment import SentimentIntensityAnalyzer\n",
        "analyser = SentimentIntensityAnalyzer()"
      ],
      "execution_count": 0,
      "outputs": []
    },
    {
      "cell_type": "code",
      "metadata": {
        "id": "w5YvAh3xDjAP",
        "colab_type": "code",
        "colab": {}
      },
      "source": [
        "def sentiment_analyzer_scores(sentence):\n",
        "    score = analyser.polarity_scores(sentence)\n",
        "    return score"
      ],
      "execution_count": 0,
      "outputs": []
    },
    {
      "cell_type": "code",
      "metadata": {
        "id": "0bwGHanGDi28",
        "colab_type": "code",
        "outputId": "bf859c50-8c63-43b9-9baf-49a1f56ceddf",
        "colab": {
          "base_uri": "https://localhost:8080/",
          "height": 33
        }
      },
      "source": [
        "sentiment_analyzer_scores('hi you are bad')['neu']"
      ],
      "execution_count": 0,
      "outputs": [
        {
          "output_type": "execute_result",
          "data": {
            "text/plain": [
              "0.462"
            ]
          },
          "metadata": {
            "tags": []
          },
          "execution_count": 58
        }
      ]
    },
    {
      "cell_type": "code",
      "metadata": {
        "id": "zMkr80yiDiq4",
        "colab_type": "code",
        "colab": {}
      },
      "source": [
        "df_mod['positiveScore']=df_mod['test_string'].apply(lambda x: sentiment_analyzer_scores(x)['pos'])\n",
        "df_mod['negativeScore']=df_mod['test_string'].apply(lambda x: sentiment_analyzer_scores(x)['neg'])\n",
        "df_mod['neutralScore']=df_mod['test_string'].apply(lambda x: sentiment_analyzer_scores(x)['neu'])"
      ],
      "execution_count": 0,
      "outputs": []
    },
    {
      "cell_type": "code",
      "metadata": {
        "id": "rtg1c0xODHFt",
        "colab_type": "code",
        "outputId": "34a06226-1f72-4166-99f8-b9c091f74b21",
        "colab": {
          "base_uri": "https://localhost:8080/",
          "height": 1000
        }
      },
      "source": [
        "df_mod"
      ],
      "execution_count": 0,
      "outputs": [
        {
          "output_type": "execute_result",
          "data": {
            "text/html": [
              "<div>\n",
              "<style scoped>\n",
              "    .dataframe tbody tr th:only-of-type {\n",
              "        vertical-align: middle;\n",
              "    }\n",
              "\n",
              "    .dataframe tbody tr th {\n",
              "        vertical-align: top;\n",
              "    }\n",
              "\n",
              "    .dataframe thead th {\n",
              "        text-align: right;\n",
              "    }\n",
              "</style>\n",
              "<table border=\"1\" class=\"dataframe\">\n",
              "  <thead>\n",
              "    <tr style=\"text-align: right;\">\n",
              "      <th></th>\n",
              "      <th>label</th>\n",
              "      <th>statement</th>\n",
              "      <th>subject</th>\n",
              "      <th>speaker</th>\n",
              "      <th>speaker_job_title</th>\n",
              "      <th>state info</th>\n",
              "      <th>party affiliation</th>\n",
              "      <th>barely_true_counts</th>\n",
              "      <th>false_counts</th>\n",
              "      <th>half_true_counts</th>\n",
              "      <th>mostly_true_counts</th>\n",
              "      <th>pants_on_fire_counts</th>\n",
              "      <th>context</th>\n",
              "      <th>finalStatement</th>\n",
              "      <th>finalSubject</th>\n",
              "      <th>subjectSynonyms</th>\n",
              "      <th>test_string</th>\n",
              "      <th>cosineSim</th>\n",
              "      <th>positiveScore</th>\n",
              "      <th>negativeScore</th>\n",
              "      <th>neutralScore</th>\n",
              "    </tr>\n",
              "  </thead>\n",
              "  <tbody>\n",
              "    <tr>\n",
              "      <th>0</th>\n",
              "      <td>1</td>\n",
              "      <td>Says the Annies List political group supports ...</td>\n",
              "      <td>abortion</td>\n",
              "      <td>dwayne-bohac</td>\n",
              "      <td>State representative</td>\n",
              "      <td>Texas</td>\n",
              "      <td>21</td>\n",
              "      <td>0.0</td>\n",
              "      <td>1.0</td>\n",
              "      <td>0.0</td>\n",
              "      <td>0.0</td>\n",
              "      <td>0.0</td>\n",
              "      <td>a mailer</td>\n",
              "      <td>say anni list polit group support thirdtrimest...</td>\n",
              "      <td>[abortion]</td>\n",
              "      <td>abortion miscarriage</td>\n",
              "      <td>say anni list polit group support thirdtrimest...</td>\n",
              "      <td>0.000000</td>\n",
              "      <td>0.231</td>\n",
              "      <td>0.000</td>\n",
              "      <td>0.769</td>\n",
              "    </tr>\n",
              "    <tr>\n",
              "      <th>1</th>\n",
              "      <td>2</td>\n",
              "      <td>When did the decline of coal start? It started...</td>\n",
              "      <td>energy,history,job-accomplishments</td>\n",
              "      <td>scott-surovell</td>\n",
              "      <td>State delegate</td>\n",
              "      <td>Virginia</td>\n",
              "      <td>6</td>\n",
              "      <td>0.0</td>\n",
              "      <td>0.0</td>\n",
              "      <td>1.0</td>\n",
              "      <td>1.0</td>\n",
              "      <td>0.0</td>\n",
              "      <td>a floor speech.</td>\n",
              "      <td>declin coal start start natur ga took start be...</td>\n",
              "      <td>[energy,history,job, accomplishments]</td>\n",
              "      <td>achievement attainment accomplishment acquisit...</td>\n",
              "      <td>declin coal start start natur ga took start be...</td>\n",
              "      <td>0.000000</td>\n",
              "      <td>0.000</td>\n",
              "      <td>0.000</td>\n",
              "      <td>1.000</td>\n",
              "    </tr>\n",
              "    <tr>\n",
              "      <th>2</th>\n",
              "      <td>3</td>\n",
              "      <td>Hillary Clinton agrees with John McCain \"by vo...</td>\n",
              "      <td>foreign-policy</td>\n",
              "      <td>barack-obama</td>\n",
              "      <td>President</td>\n",
              "      <td>Illinois</td>\n",
              "      <td>6</td>\n",
              "      <td>70.0</td>\n",
              "      <td>71.0</td>\n",
              "      <td>160.0</td>\n",
              "      <td>163.0</td>\n",
              "      <td>9.0</td>\n",
              "      <td>Denver</td>\n",
              "      <td>hillari clinton agre john mccain vote give geo...</td>\n",
              "      <td>[foreign, policy]</td>\n",
              "      <td>insurance extraneous foreign policy alien stra...</td>\n",
              "      <td>hillari clinton agre john mccain vote give geo...</td>\n",
              "      <td>0.000000</td>\n",
              "      <td>0.135</td>\n",
              "      <td>0.193</td>\n",
              "      <td>0.673</td>\n",
              "    </tr>\n",
              "    <tr>\n",
              "      <th>3</th>\n",
              "      <td>1</td>\n",
              "      <td>Health care reform legislation is likely to ma...</td>\n",
              "      <td>health-care</td>\n",
              "      <td>blog-posting</td>\n",
              "      <td>NaN</td>\n",
              "      <td>NaN</td>\n",
              "      <td>18</td>\n",
              "      <td>7.0</td>\n",
              "      <td>19.0</td>\n",
              "      <td>3.0</td>\n",
              "      <td>5.0</td>\n",
              "      <td>44.0</td>\n",
              "      <td>a news release</td>\n",
              "      <td>health care reform legisl like mandat free sex...</td>\n",
              "      <td>[health, care]</td>\n",
              "      <td>precaution aid caution wish charge fear attent...</td>\n",
              "      <td>health care reform legisl like mandat free sex...</td>\n",
              "      <td>0.112172</td>\n",
              "      <td>0.411</td>\n",
              "      <td>0.123</td>\n",
              "      <td>0.466</td>\n",
              "    </tr>\n",
              "    <tr>\n",
              "      <th>4</th>\n",
              "      <td>2</td>\n",
              "      <td>The economic turnaround started at the end of ...</td>\n",
              "      <td>economy,jobs</td>\n",
              "      <td>charlie-crist</td>\n",
              "      <td>NaN</td>\n",
              "      <td>Florida</td>\n",
              "      <td>6</td>\n",
              "      <td>15.0</td>\n",
              "      <td>9.0</td>\n",
              "      <td>20.0</td>\n",
              "      <td>19.0</td>\n",
              "      <td>2.0</td>\n",
              "      <td>an interview on CNN</td>\n",
              "      <td>econom turnaround start end term</td>\n",
              "      <td>[economy,jobs]</td>\n",
              "      <td></td>\n",
              "      <td>econom turnaround start end term@@</td>\n",
              "      <td>0.000000</td>\n",
              "      <td>0.000</td>\n",
              "      <td>0.000</td>\n",
              "      <td>1.000</td>\n",
              "    </tr>\n",
              "    <tr>\n",
              "      <th>...</th>\n",
              "      <td>...</td>\n",
              "      <td>...</td>\n",
              "      <td>...</td>\n",
              "      <td>...</td>\n",
              "      <td>...</td>\n",
              "      <td>...</td>\n",
              "      <td>...</td>\n",
              "      <td>...</td>\n",
              "      <td>...</td>\n",
              "      <td>...</td>\n",
              "      <td>...</td>\n",
              "      <td>...</td>\n",
              "      <td>...</td>\n",
              "      <td>...</td>\n",
              "      <td>...</td>\n",
              "      <td>...</td>\n",
              "      <td>...</td>\n",
              "      <td>...</td>\n",
              "      <td>...</td>\n",
              "      <td>...</td>\n",
              "      <td>...</td>\n",
              "    </tr>\n",
              "    <tr>\n",
              "      <th>1262</th>\n",
              "      <td>2</td>\n",
              "      <td>Says his budget provides the highest state fun...</td>\n",
              "      <td>education</td>\n",
              "      <td>rick-scott</td>\n",
              "      <td>Governor</td>\n",
              "      <td>Florida</td>\n",
              "      <td>21</td>\n",
              "      <td>28.0</td>\n",
              "      <td>23.0</td>\n",
              "      <td>38.0</td>\n",
              "      <td>34.0</td>\n",
              "      <td>7.0</td>\n",
              "      <td>a news conference</td>\n",
              "      <td>say budget provid highest state fund level his...</td>\n",
              "      <td>[education]</td>\n",
              "      <td>breeding training Department_of_Education educ...</td>\n",
              "      <td>say budget provid highest state fund level his...</td>\n",
              "      <td>0.000000</td>\n",
              "      <td>0.000</td>\n",
              "      <td>0.000</td>\n",
              "      <td>1.000</td>\n",
              "    </tr>\n",
              "    <tr>\n",
              "      <th>1263</th>\n",
              "      <td>0</td>\n",
              "      <td>Ive been here almost every day.</td>\n",
              "      <td>civil-rights,crime,criminal-justice</td>\n",
              "      <td>jay-nixon</td>\n",
              "      <td>Governor</td>\n",
              "      <td>Missouri</td>\n",
              "      <td>6</td>\n",
              "      <td>2.0</td>\n",
              "      <td>0.0</td>\n",
              "      <td>0.0</td>\n",
              "      <td>1.0</td>\n",
              "      <td>0.0</td>\n",
              "      <td>on ABC's \"This Week\"</td>\n",
              "      <td>ive almost everi day</td>\n",
              "      <td>[civil, rights,crime,criminal, justice]</td>\n",
              "      <td>polite jurist civic civil Justice_Department D...</td>\n",
              "      <td>ive almost everi day@@polite jurist civic civi...</td>\n",
              "      <td>0.000000</td>\n",
              "      <td>0.362</td>\n",
              "      <td>0.000</td>\n",
              "      <td>0.638</td>\n",
              "    </tr>\n",
              "    <tr>\n",
              "      <th>1264</th>\n",
              "      <td>0</td>\n",
              "      <td>In the early 1980s, Sen. Edward Kennedy secret...</td>\n",
              "      <td>bipartisanship,congress,foreign-policy,history</td>\n",
              "      <td>mackubin-thomas-owens</td>\n",
              "      <td>senior fellow, Foreign Policy Research Institute</td>\n",
              "      <td>Rhode Island</td>\n",
              "      <td>3</td>\n",
              "      <td>1.0</td>\n",
              "      <td>0.0</td>\n",
              "      <td>0.0</td>\n",
              "      <td>0.0</td>\n",
              "      <td>0.0</td>\n",
              "      <td>a commentary in The Providence Journal</td>\n",
              "      <td>earli 1980 sen edward kennedi secretli offer h...</td>\n",
              "      <td>[bipartisanship,congress,foreign, policy,history]</td>\n",
              "      <td></td>\n",
              "      <td>earli 1980 sen edward kennedi secretli offer h...</td>\n",
              "      <td>0.000000</td>\n",
              "      <td>0.153</td>\n",
              "      <td>0.000</td>\n",
              "      <td>0.847</td>\n",
              "    </tr>\n",
              "    <tr>\n",
              "      <th>1265</th>\n",
              "      <td>0</td>\n",
              "      <td>Says an EPA permit languished under Strickland...</td>\n",
              "      <td>environment,government-efficiency</td>\n",
              "      <td>john-kasich</td>\n",
              "      <td>Governor of Ohio as of Jan. 10, 2011</td>\n",
              "      <td>Ohio</td>\n",
              "      <td>21</td>\n",
              "      <td>9.0</td>\n",
              "      <td>8.0</td>\n",
              "      <td>10.0</td>\n",
              "      <td>18.0</td>\n",
              "      <td>3.0</td>\n",
              "      <td>a news conference</td>\n",
              "      <td>say epa permit languish strickland new epa dir...</td>\n",
              "      <td>[environment,government, efficiency]</td>\n",
              "      <td>efficiency</td>\n",
              "      <td>say epa permit languish strickland new epa dir...</td>\n",
              "      <td>0.000000</td>\n",
              "      <td>0.000</td>\n",
              "      <td>0.000</td>\n",
              "      <td>1.000</td>\n",
              "    </tr>\n",
              "    <tr>\n",
              "      <th>1266</th>\n",
              "      <td>1</td>\n",
              "      <td>Says the governor is going around the state ta...</td>\n",
              "      <td>state-budget,state-finances,taxes</td>\n",
              "      <td>john-burzichelli</td>\n",
              "      <td>NaN</td>\n",
              "      <td>NaN</td>\n",
              "      <td>6</td>\n",
              "      <td>1.0</td>\n",
              "      <td>1.0</td>\n",
              "      <td>0.0</td>\n",
              "      <td>0.0</td>\n",
              "      <td>0.0</td>\n",
              "      <td>an interview with NJToday</td>\n",
              "      <td>say governor go around state talk fund incom t...</td>\n",
              "      <td>[state, budget,state, finances,taxes]</td>\n",
              "      <td>land express say province commonwealth Departm...</td>\n",
              "      <td>say governor go around state talk fund incom t...</td>\n",
              "      <td>0.073246</td>\n",
              "      <td>0.074</td>\n",
              "      <td>0.107</td>\n",
              "      <td>0.819</td>\n",
              "    </tr>\n",
              "  </tbody>\n",
              "</table>\n",
              "<p>11507 rows × 21 columns</p>\n",
              "</div>"
            ],
            "text/plain": [
              "      label  ... neutralScore\n",
              "0         1  ...        0.769\n",
              "1         2  ...        1.000\n",
              "2         3  ...        0.673\n",
              "3         1  ...        0.466\n",
              "4         2  ...        1.000\n",
              "...     ...  ...          ...\n",
              "1262      2  ...        1.000\n",
              "1263      0  ...        0.638\n",
              "1264      0  ...        0.847\n",
              "1265      0  ...        1.000\n",
              "1266      1  ...        0.819\n",
              "\n",
              "[11507 rows x 21 columns]"
            ]
          },
          "metadata": {
            "tags": []
          },
          "execution_count": 62
        }
      ]
    },
    {
      "cell_type": "markdown",
      "metadata": {
        "id": "-RwQTtAAsTuf",
        "colab_type": "text"
      },
      "source": [
        "# Label Encoding for Party and label"
      ]
    },
    {
      "cell_type": "code",
      "metadata": {
        "id": "k-Bg4ZmkCM29",
        "colab_type": "code",
        "colab": {}
      },
      "source": [
        "from sklearn.preprocessing import LabelEncoder\n",
        "import joblib"
      ],
      "execution_count": 0,
      "outputs": []
    },
    {
      "cell_type": "code",
      "metadata": {
        "id": "yNkVRWH3Bbza",
        "colab_type": "code",
        "colab": {}
      },
      "source": [
        "# le=LabelEncoder()"
      ],
      "execution_count": 0,
      "outputs": []
    },
    {
      "cell_type": "code",
      "metadata": {
        "id": "od3bogIgCquB",
        "colab_type": "code",
        "colab": {}
      },
      "source": [
        "party=LabelEncoder()"
      ],
      "execution_count": 0,
      "outputs": []
    },
    {
      "cell_type": "code",
      "metadata": {
        "id": "nZmaVY1-CRiE",
        "colab_type": "code",
        "outputId": "f4e542d1-1a50-46c8-e2b4-f31f82a6eb2f",
        "colab": {
          "base_uri": "https://localhost:8080/",
          "height": 33
        }
      },
      "source": [
        "party.fit(df_mod['party affiliation'].astype(str))"
      ],
      "execution_count": 0,
      "outputs": [
        {
          "output_type": "execute_result",
          "data": {
            "text/plain": [
              "LabelEncoder()"
            ]
          },
          "metadata": {
            "tags": []
          },
          "execution_count": 66
        }
      ]
    },
    {
      "cell_type": "code",
      "metadata": {
        "id": "5y65PCSzC2ad",
        "colab_type": "code",
        "colab": {}
      },
      "source": [
        "label = LabelEncoder()"
      ],
      "execution_count": 0,
      "outputs": []
    },
    {
      "cell_type": "code",
      "metadata": {
        "id": "jvZMB7EaC9SM",
        "colab_type": "code",
        "outputId": "acc18ea4-c2cf-4c5d-dc00-a96668f20dff",
        "colab": {
          "base_uri": "https://localhost:8080/",
          "height": 33
        }
      },
      "source": [
        "label.fit(df_mod['label'].astype(str))"
      ],
      "execution_count": 0,
      "outputs": [
        {
          "output_type": "execute_result",
          "data": {
            "text/plain": [
              "LabelEncoder()"
            ]
          },
          "metadata": {
            "tags": []
          },
          "execution_count": 68
        }
      ]
    },
    {
      "cell_type": "markdown",
      "metadata": {
        "id": "hzcwabFts0gZ",
        "colab_type": "text"
      },
      "source": [
        "# Saving the pickled files"
      ]
    },
    {
      "cell_type": "code",
      "metadata": {
        "id": "hvMXXRD8DDdn",
        "colab_type": "code",
        "outputId": "93be71cb-4e1a-4aa8-a2a1-b81c298bf098",
        "colab": {
          "base_uri": "https://localhost:8080/",
          "height": 33
        }
      },
      "source": [
        "joblib.dump(party, 'party.pkl')\n",
        "joblib.dump(label, 'label.pkl')"
      ],
      "execution_count": 0,
      "outputs": [
        {
          "output_type": "execute_result",
          "data": {
            "text/plain": [
              "['label.pkl']"
            ]
          },
          "metadata": {
            "tags": []
          },
          "execution_count": 134
        }
      ]
    },
    {
      "cell_type": "code",
      "metadata": {
        "id": "Uv-llfHaDhEO",
        "colab_type": "code",
        "colab": {}
      },
      "source": [
        "df_mod['label']=label.fit_transform(df_mod['label'].astype(str))\n",
        "df_mod['party affiliation']=party.fit_transform(df_mod['party affiliation'].astype(str))"
      ],
      "execution_count": 0,
      "outputs": []
    },
    {
      "cell_type": "code",
      "metadata": {
        "id": "O5IMoVr2DyTQ",
        "colab_type": "code",
        "outputId": "1eb1d6a5-a249-4eab-846c-95fc33e7926e",
        "colab": {
          "base_uri": "https://localhost:8080/",
          "height": 1000
        }
      },
      "source": [
        "df_mod"
      ],
      "execution_count": 0,
      "outputs": [
        {
          "output_type": "execute_result",
          "data": {
            "text/html": [
              "<div>\n",
              "<style scoped>\n",
              "    .dataframe tbody tr th:only-of-type {\n",
              "        vertical-align: middle;\n",
              "    }\n",
              "\n",
              "    .dataframe tbody tr th {\n",
              "        vertical-align: top;\n",
              "    }\n",
              "\n",
              "    .dataframe thead th {\n",
              "        text-align: right;\n",
              "    }\n",
              "</style>\n",
              "<table border=\"1\" class=\"dataframe\">\n",
              "  <thead>\n",
              "    <tr style=\"text-align: right;\">\n",
              "      <th></th>\n",
              "      <th>label</th>\n",
              "      <th>statement</th>\n",
              "      <th>subject</th>\n",
              "      <th>speaker</th>\n",
              "      <th>speaker_job_title</th>\n",
              "      <th>state info</th>\n",
              "      <th>party affiliation</th>\n",
              "      <th>barely_true_counts</th>\n",
              "      <th>false_counts</th>\n",
              "      <th>half_true_counts</th>\n",
              "      <th>mostly_true_counts</th>\n",
              "      <th>pants_on_fire_counts</th>\n",
              "      <th>context</th>\n",
              "      <th>finalStatement</th>\n",
              "      <th>finalSubject</th>\n",
              "      <th>subjectSynonyms</th>\n",
              "      <th>test_string</th>\n",
              "      <th>cosineSim</th>\n",
              "      <th>positiveScore</th>\n",
              "      <th>negativeScore</th>\n",
              "      <th>neutralScore</th>\n",
              "      <th>nouns</th>\n",
              "      <th>noVeStatement</th>\n",
              "      <th>noVeSubject</th>\n",
              "      <th>nerScore</th>\n",
              "    </tr>\n",
              "  </thead>\n",
              "  <tbody>\n",
              "    <tr>\n",
              "      <th>0</th>\n",
              "      <td>1</td>\n",
              "      <td>Says the Annies List political group supports ...</td>\n",
              "      <td>abortion</td>\n",
              "      <td>dwayne-bohac</td>\n",
              "      <td>State representative</td>\n",
              "      <td>Texas</td>\n",
              "      <td>14</td>\n",
              "      <td>0.0</td>\n",
              "      <td>1.0</td>\n",
              "      <td>0.0</td>\n",
              "      <td>0.0</td>\n",
              "      <td>0.0</td>\n",
              "      <td>a mailer</td>\n",
              "      <td>say anni list polit group support thirdtrimest...</td>\n",
              "      <td>[abortion]</td>\n",
              "      <td>abortion miscarriage</td>\n",
              "      <td>say anni list polit group support thirdtrimest...</td>\n",
              "      <td>0.000000</td>\n",
              "      <td>0.231</td>\n",
              "      <td>0.000</td>\n",
              "      <td>0.769</td>\n",
              "      <td>[(anni, list), (group), (thirdtrimest, abort, ...</td>\n",
              "      <td>anni list group thirdtrimest abort demand say</td>\n",
              "      <td>abortion miscarriage</td>\n",
              "      <td>0.653579</td>\n",
              "    </tr>\n",
              "    <tr>\n",
              "      <th>1</th>\n",
              "      <td>2</td>\n",
              "      <td>When did the decline of coal start? It started...</td>\n",
              "      <td>energy,history,job-accomplishments</td>\n",
              "      <td>scott-surovell</td>\n",
              "      <td>State delegate</td>\n",
              "      <td>Virginia</td>\n",
              "      <td>21</td>\n",
              "      <td>0.0</td>\n",
              "      <td>0.0</td>\n",
              "      <td>1.0</td>\n",
              "      <td>1.0</td>\n",
              "      <td>0.0</td>\n",
              "      <td>a floor speech.</td>\n",
              "      <td>declin coal start start natur ga took start be...</td>\n",
              "      <td>[energy,history,job, accomplishments]</td>\n",
              "      <td>achievement attainment accomplishment acquisit...</td>\n",
              "      <td>declin coal start start natur ga took start be...</td>\n",
              "      <td>0.000000</td>\n",
              "      <td>0.000</td>\n",
              "      <td>0.000</td>\n",
              "      <td>1.000</td>\n",
              "      <td>[(declin, coal), (natur, ga), (start), (georg,...</td>\n",
              "      <td>declin coal natur ga start georg w bush admini...</td>\n",
              "      <td>achievement attainment accomplishment acquisit...</td>\n",
              "      <td>0.664535</td>\n",
              "    </tr>\n",
              "    <tr>\n",
              "      <th>2</th>\n",
              "      <td>3</td>\n",
              "      <td>Hillary Clinton agrees with John McCain \"by vo...</td>\n",
              "      <td>foreign-policy</td>\n",
              "      <td>barack-obama</td>\n",
              "      <td>President</td>\n",
              "      <td>Illinois</td>\n",
              "      <td>21</td>\n",
              "      <td>70.0</td>\n",
              "      <td>71.0</td>\n",
              "      <td>160.0</td>\n",
              "      <td>163.0</td>\n",
              "      <td>9.0</td>\n",
              "      <td>Denver</td>\n",
              "      <td>hillari clinton agre john mccain vote give geo...</td>\n",
              "      <td>[foreign, policy]</td>\n",
              "      <td>insurance extraneous foreign policy alien stra...</td>\n",
              "      <td>hillari clinton agre john mccain vote give geo...</td>\n",
              "      <td>0.000000</td>\n",
              "      <td>0.135</td>\n",
              "      <td>0.193</td>\n",
              "      <td>0.673</td>\n",
              "      <td>[(hillari, clinton, agre, john, mccain, vote),...</td>\n",
              "      <td>hillari clinton agre john mccain vote georg bu...</td>\n",
              "      <td>insurance extraneous foreign policy</td>\n",
              "      <td>0.506427</td>\n",
              "    </tr>\n",
              "    <tr>\n",
              "      <th>3</th>\n",
              "      <td>1</td>\n",
              "      <td>Health care reform legislation is likely to ma...</td>\n",
              "      <td>health-care</td>\n",
              "      <td>blog-posting</td>\n",
              "      <td>NaN</td>\n",
              "      <td>NaN</td>\n",
              "      <td>10</td>\n",
              "      <td>7.0</td>\n",
              "      <td>19.0</td>\n",
              "      <td>3.0</td>\n",
              "      <td>5.0</td>\n",
              "      <td>44.0</td>\n",
              "      <td>a news release</td>\n",
              "      <td>health care reform legisl like mandat free sex...</td>\n",
              "      <td>[health, care]</td>\n",
              "      <td>precaution aid caution wish charge fear attent...</td>\n",
              "      <td>health care reform legisl like mandat free sex...</td>\n",
              "      <td>0.112172</td>\n",
              "      <td>0.411</td>\n",
              "      <td>0.123</td>\n",
              "      <td>0.466</td>\n",
              "      <td>[(health, care, reform, legisl), (mandat, free...</td>\n",
              "      <td>health care reform legisl mandat free sex chan...</td>\n",
              "      <td>precaution aid caution charge fear attention h...</td>\n",
              "      <td>0.732572</td>\n",
              "    </tr>\n",
              "    <tr>\n",
              "      <th>4</th>\n",
              "      <td>2</td>\n",
              "      <td>The economic turnaround started at the end of ...</td>\n",
              "      <td>economy,jobs</td>\n",
              "      <td>charlie-crist</td>\n",
              "      <td>NaN</td>\n",
              "      <td>Florida</td>\n",
              "      <td>21</td>\n",
              "      <td>15.0</td>\n",
              "      <td>9.0</td>\n",
              "      <td>20.0</td>\n",
              "      <td>19.0</td>\n",
              "      <td>2.0</td>\n",
              "      <td>an interview on CNN</td>\n",
              "      <td>econom turnaround start end term</td>\n",
              "      <td>[economy,jobs]</td>\n",
              "      <td></td>\n",
              "      <td>econom turnaround start end term@@</td>\n",
              "      <td>0.000000</td>\n",
              "      <td>0.000</td>\n",
              "      <td>0.000</td>\n",
              "      <td>1.000</td>\n",
              "      <td>[(econom), (turnaround, start, end, term)]</td>\n",
              "      <td>econom turnaround start end term</td>\n",
              "      <td></td>\n",
              "      <td>0.000000</td>\n",
              "    </tr>\n",
              "    <tr>\n",
              "      <th>...</th>\n",
              "      <td>...</td>\n",
              "      <td>...</td>\n",
              "      <td>...</td>\n",
              "      <td>...</td>\n",
              "      <td>...</td>\n",
              "      <td>...</td>\n",
              "      <td>...</td>\n",
              "      <td>...</td>\n",
              "      <td>...</td>\n",
              "      <td>...</td>\n",
              "      <td>...</td>\n",
              "      <td>...</td>\n",
              "      <td>...</td>\n",
              "      <td>...</td>\n",
              "      <td>...</td>\n",
              "      <td>...</td>\n",
              "      <td>...</td>\n",
              "      <td>...</td>\n",
              "      <td>...</td>\n",
              "      <td>...</td>\n",
              "      <td>...</td>\n",
              "      <td>...</td>\n",
              "      <td>...</td>\n",
              "      <td>...</td>\n",
              "      <td>...</td>\n",
              "    </tr>\n",
              "    <tr>\n",
              "      <th>1262</th>\n",
              "      <td>2</td>\n",
              "      <td>Says his budget provides the highest state fun...</td>\n",
              "      <td>education</td>\n",
              "      <td>rick-scott</td>\n",
              "      <td>Governor</td>\n",
              "      <td>Florida</td>\n",
              "      <td>14</td>\n",
              "      <td>28.0</td>\n",
              "      <td>23.0</td>\n",
              "      <td>38.0</td>\n",
              "      <td>34.0</td>\n",
              "      <td>7.0</td>\n",
              "      <td>a news conference</td>\n",
              "      <td>say budget provid highest state fund level his...</td>\n",
              "      <td>[education]</td>\n",
              "      <td>breeding training Department_of_Education educ...</td>\n",
              "      <td>say budget provid highest state fund level his...</td>\n",
              "      <td>0.000000</td>\n",
              "      <td>0.000</td>\n",
              "      <td>0.000</td>\n",
              "      <td>1.000</td>\n",
              "      <td>[]</td>\n",
              "      <td>say</td>\n",
              "      <td>training Department_of_Education education Edu...</td>\n",
              "      <td>0.065230</td>\n",
              "    </tr>\n",
              "    <tr>\n",
              "      <th>1263</th>\n",
              "      <td>0</td>\n",
              "      <td>Ive been here almost every day.</td>\n",
              "      <td>civil-rights,crime,criminal-justice</td>\n",
              "      <td>jay-nixon</td>\n",
              "      <td>Governor</td>\n",
              "      <td>Missouri</td>\n",
              "      <td>21</td>\n",
              "      <td>2.0</td>\n",
              "      <td>0.0</td>\n",
              "      <td>0.0</td>\n",
              "      <td>1.0</td>\n",
              "      <td>0.0</td>\n",
              "      <td>on ABC's \"This Week\"</td>\n",
              "      <td>ive almost everi day</td>\n",
              "      <td>[civil, rights,crime,criminal, justice]</td>\n",
              "      <td>polite jurist civic civil Justice_Department D...</td>\n",
              "      <td>ive almost everi day@@polite jurist civic civi...</td>\n",
              "      <td>0.000000</td>\n",
              "      <td>0.362</td>\n",
              "      <td>0.000</td>\n",
              "      <td>0.638</td>\n",
              "      <td>[(i), (everi, day)]</td>\n",
              "      <td>i everi day ve</td>\n",
              "      <td>polite jurist civic civil Justice_Department D...</td>\n",
              "      <td>0.567153</td>\n",
              "    </tr>\n",
              "    <tr>\n",
              "      <th>1264</th>\n",
              "      <td>0</td>\n",
              "      <td>In the early 1980s, Sen. Edward Kennedy secret...</td>\n",
              "      <td>bipartisanship,congress,foreign-policy,history</td>\n",
              "      <td>mackubin-thomas-owens</td>\n",
              "      <td>senior fellow, Foreign Policy Research Institute</td>\n",
              "      <td>Rhode Island</td>\n",
              "      <td>18</td>\n",
              "      <td>1.0</td>\n",
              "      <td>0.0</td>\n",
              "      <td>0.0</td>\n",
              "      <td>0.0</td>\n",
              "      <td>0.0</td>\n",
              "      <td>a commentary in The Providence Journal</td>\n",
              "      <td>earli 1980 sen edward kennedi secretli offer h...</td>\n",
              "      <td>[bipartisanship,congress,foreign, policy,history]</td>\n",
              "      <td></td>\n",
              "      <td>earli 1980 sen edward kennedi secretli offer h...</td>\n",
              "      <td>0.000000</td>\n",
              "      <td>0.153</td>\n",
              "      <td>0.000</td>\n",
              "      <td>0.847</td>\n",
              "      <td>[(earli), (sen, edward, kennedi, secretli, off...</td>\n",
              "      <td>earli sen edward kennedi secretli offer soviet...</td>\n",
              "      <td></td>\n",
              "      <td>0.000000</td>\n",
              "    </tr>\n",
              "    <tr>\n",
              "      <th>1265</th>\n",
              "      <td>0</td>\n",
              "      <td>Says an EPA permit languished under Strickland...</td>\n",
              "      <td>environment,government-efficiency</td>\n",
              "      <td>john-kasich</td>\n",
              "      <td>Governor of Ohio as of Jan. 10, 2011</td>\n",
              "      <td>Ohio</td>\n",
              "      <td>14</td>\n",
              "      <td>9.0</td>\n",
              "      <td>8.0</td>\n",
              "      <td>10.0</td>\n",
              "      <td>18.0</td>\n",
              "      <td>3.0</td>\n",
              "      <td>a news conference</td>\n",
              "      <td>say epa permit languish strickland new epa dir...</td>\n",
              "      <td>[environment,government, efficiency]</td>\n",
              "      <td>efficiency</td>\n",
              "      <td>say epa permit languish strickland new epa dir...</td>\n",
              "      <td>0.000000</td>\n",
              "      <td>0.000</td>\n",
              "      <td>0.000</td>\n",
              "      <td>1.000</td>\n",
              "      <td>[(epa), (strickland, new, epa, director)]</td>\n",
              "      <td>epa strickland new epa director say got done</td>\n",
              "      <td>efficiency</td>\n",
              "      <td>0.463865</td>\n",
              "    </tr>\n",
              "    <tr>\n",
              "      <th>1266</th>\n",
              "      <td>1</td>\n",
              "      <td>Says the governor is going around the state ta...</td>\n",
              "      <td>state-budget,state-finances,taxes</td>\n",
              "      <td>john-burzichelli</td>\n",
              "      <td>NaN</td>\n",
              "      <td>NaN</td>\n",
              "      <td>21</td>\n",
              "      <td>1.0</td>\n",
              "      <td>1.0</td>\n",
              "      <td>0.0</td>\n",
              "      <td>0.0</td>\n",
              "      <td>0.0</td>\n",
              "      <td>an interview with NJToday</td>\n",
              "      <td>say governor go around state talk fund incom t...</td>\n",
              "      <td>[state, budget,state, finances,taxes]</td>\n",
              "      <td>land express say province commonwealth Departm...</td>\n",
              "      <td>say governor go around state talk fund incom t...</td>\n",
              "      <td>0.073246</td>\n",
              "      <td>0.074</td>\n",
              "      <td>0.107</td>\n",
              "      <td>0.819</td>\n",
              "      <td>[(governor), (state, talk, fund, incom, tax, c...</td>\n",
              "      <td>governor state talk fund incom tax cut higher ...</td>\n",
              "      <td>land express province commonwealth Department_...</td>\n",
              "      <td>0.809430</td>\n",
              "    </tr>\n",
              "  </tbody>\n",
              "</table>\n",
              "<p>11507 rows × 25 columns</p>\n",
              "</div>"
            ],
            "text/plain": [
              "      label  ...  nerScore\n",
              "0         1  ...  0.653579\n",
              "1         2  ...  0.664535\n",
              "2         3  ...  0.506427\n",
              "3         1  ...  0.732572\n",
              "4         2  ...  0.000000\n",
              "...     ...  ...       ...\n",
              "1262      2  ...  0.065230\n",
              "1263      0  ...  0.567153\n",
              "1264      0  ...  0.000000\n",
              "1265      0  ...  0.463865\n",
              "1266      1  ...  0.809430\n",
              "\n",
              "[11507 rows x 25 columns]"
            ]
          },
          "metadata": {
            "tags": []
          },
          "execution_count": 108
        }
      ]
    },
    {
      "cell_type": "code",
      "metadata": {
        "id": "hD0upvPiDzXE",
        "colab_type": "code",
        "colab": {}
      },
      "source": [
        "liar_clean=df_mod[['barely_true_counts', 'false_counts', 'half_true_counts','mostly_true_counts', 'pants_on_fire_counts','party affiliation','positiveScore','neutralScore','negativeScore','cosineSim','nerScore', 'label']]"
      ],
      "execution_count": 0,
      "outputs": []
    },
    {
      "cell_type": "code",
      "metadata": {
        "id": "kx30xeQn7RYj",
        "colab_type": "code",
        "colab": {}
      },
      "source": [
        "# liar_clean=df_mod[['party affiliation','cosineSim', 'label']]"
      ],
      "execution_count": 0,
      "outputs": []
    },
    {
      "cell_type": "code",
      "metadata": {
        "id": "V2jCzPBsEK3Q",
        "colab_type": "code",
        "outputId": "6ad0e032-d7dc-48a6-f8bb-21c6d4caeba8",
        "colab": {
          "base_uri": "https://localhost:8080/",
          "height": 427
        }
      },
      "source": [
        "liar_clean"
      ],
      "execution_count": 0,
      "outputs": [
        {
          "output_type": "execute_result",
          "data": {
            "text/html": [
              "<div>\n",
              "<style scoped>\n",
              "    .dataframe tbody tr th:only-of-type {\n",
              "        vertical-align: middle;\n",
              "    }\n",
              "\n",
              "    .dataframe tbody tr th {\n",
              "        vertical-align: top;\n",
              "    }\n",
              "\n",
              "    .dataframe thead th {\n",
              "        text-align: right;\n",
              "    }\n",
              "</style>\n",
              "<table border=\"1\" class=\"dataframe\">\n",
              "  <thead>\n",
              "    <tr style=\"text-align: right;\">\n",
              "      <th></th>\n",
              "      <th>barely_true_counts</th>\n",
              "      <th>false_counts</th>\n",
              "      <th>half_true_counts</th>\n",
              "      <th>mostly_true_counts</th>\n",
              "      <th>pants_on_fire_counts</th>\n",
              "      <th>party affiliation</th>\n",
              "      <th>positiveScore</th>\n",
              "      <th>neutralScore</th>\n",
              "      <th>negativeScore</th>\n",
              "      <th>cosineSim</th>\n",
              "      <th>nerScore</th>\n",
              "      <th>label</th>\n",
              "    </tr>\n",
              "  </thead>\n",
              "  <tbody>\n",
              "    <tr>\n",
              "      <th>0</th>\n",
              "      <td>0.0</td>\n",
              "      <td>1.0</td>\n",
              "      <td>0.0</td>\n",
              "      <td>0.0</td>\n",
              "      <td>0.0</td>\n",
              "      <td>14</td>\n",
              "      <td>0.231</td>\n",
              "      <td>0.769</td>\n",
              "      <td>0.000</td>\n",
              "      <td>0.000000</td>\n",
              "      <td>0.653579</td>\n",
              "      <td>1</td>\n",
              "    </tr>\n",
              "    <tr>\n",
              "      <th>1</th>\n",
              "      <td>0.0</td>\n",
              "      <td>0.0</td>\n",
              "      <td>1.0</td>\n",
              "      <td>1.0</td>\n",
              "      <td>0.0</td>\n",
              "      <td>21</td>\n",
              "      <td>0.000</td>\n",
              "      <td>1.000</td>\n",
              "      <td>0.000</td>\n",
              "      <td>0.000000</td>\n",
              "      <td>0.664535</td>\n",
              "      <td>2</td>\n",
              "    </tr>\n",
              "    <tr>\n",
              "      <th>2</th>\n",
              "      <td>70.0</td>\n",
              "      <td>71.0</td>\n",
              "      <td>160.0</td>\n",
              "      <td>163.0</td>\n",
              "      <td>9.0</td>\n",
              "      <td>21</td>\n",
              "      <td>0.135</td>\n",
              "      <td>0.673</td>\n",
              "      <td>0.193</td>\n",
              "      <td>0.000000</td>\n",
              "      <td>0.506427</td>\n",
              "      <td>3</td>\n",
              "    </tr>\n",
              "    <tr>\n",
              "      <th>3</th>\n",
              "      <td>7.0</td>\n",
              "      <td>19.0</td>\n",
              "      <td>3.0</td>\n",
              "      <td>5.0</td>\n",
              "      <td>44.0</td>\n",
              "      <td>10</td>\n",
              "      <td>0.411</td>\n",
              "      <td>0.466</td>\n",
              "      <td>0.123</td>\n",
              "      <td>0.112172</td>\n",
              "      <td>0.732572</td>\n",
              "      <td>1</td>\n",
              "    </tr>\n",
              "    <tr>\n",
              "      <th>4</th>\n",
              "      <td>15.0</td>\n",
              "      <td>9.0</td>\n",
              "      <td>20.0</td>\n",
              "      <td>19.0</td>\n",
              "      <td>2.0</td>\n",
              "      <td>21</td>\n",
              "      <td>0.000</td>\n",
              "      <td>1.000</td>\n",
              "      <td>0.000</td>\n",
              "      <td>0.000000</td>\n",
              "      <td>0.000000</td>\n",
              "      <td>2</td>\n",
              "    </tr>\n",
              "    <tr>\n",
              "      <th>...</th>\n",
              "      <td>...</td>\n",
              "      <td>...</td>\n",
              "      <td>...</td>\n",
              "      <td>...</td>\n",
              "      <td>...</td>\n",
              "      <td>...</td>\n",
              "      <td>...</td>\n",
              "      <td>...</td>\n",
              "      <td>...</td>\n",
              "      <td>...</td>\n",
              "      <td>...</td>\n",
              "      <td>...</td>\n",
              "    </tr>\n",
              "    <tr>\n",
              "      <th>1262</th>\n",
              "      <td>28.0</td>\n",
              "      <td>23.0</td>\n",
              "      <td>38.0</td>\n",
              "      <td>34.0</td>\n",
              "      <td>7.0</td>\n",
              "      <td>14</td>\n",
              "      <td>0.000</td>\n",
              "      <td>1.000</td>\n",
              "      <td>0.000</td>\n",
              "      <td>0.000000</td>\n",
              "      <td>0.065230</td>\n",
              "      <td>2</td>\n",
              "    </tr>\n",
              "    <tr>\n",
              "      <th>1263</th>\n",
              "      <td>2.0</td>\n",
              "      <td>0.0</td>\n",
              "      <td>0.0</td>\n",
              "      <td>1.0</td>\n",
              "      <td>0.0</td>\n",
              "      <td>21</td>\n",
              "      <td>0.362</td>\n",
              "      <td>0.638</td>\n",
              "      <td>0.000</td>\n",
              "      <td>0.000000</td>\n",
              "      <td>0.567153</td>\n",
              "      <td>0</td>\n",
              "    </tr>\n",
              "    <tr>\n",
              "      <th>1264</th>\n",
              "      <td>1.0</td>\n",
              "      <td>0.0</td>\n",
              "      <td>0.0</td>\n",
              "      <td>0.0</td>\n",
              "      <td>0.0</td>\n",
              "      <td>18</td>\n",
              "      <td>0.153</td>\n",
              "      <td>0.847</td>\n",
              "      <td>0.000</td>\n",
              "      <td>0.000000</td>\n",
              "      <td>0.000000</td>\n",
              "      <td>0</td>\n",
              "    </tr>\n",
              "    <tr>\n",
              "      <th>1265</th>\n",
              "      <td>9.0</td>\n",
              "      <td>8.0</td>\n",
              "      <td>10.0</td>\n",
              "      <td>18.0</td>\n",
              "      <td>3.0</td>\n",
              "      <td>14</td>\n",
              "      <td>0.000</td>\n",
              "      <td>1.000</td>\n",
              "      <td>0.000</td>\n",
              "      <td>0.000000</td>\n",
              "      <td>0.463865</td>\n",
              "      <td>0</td>\n",
              "    </tr>\n",
              "    <tr>\n",
              "      <th>1266</th>\n",
              "      <td>1.0</td>\n",
              "      <td>1.0</td>\n",
              "      <td>0.0</td>\n",
              "      <td>0.0</td>\n",
              "      <td>0.0</td>\n",
              "      <td>21</td>\n",
              "      <td>0.074</td>\n",
              "      <td>0.819</td>\n",
              "      <td>0.107</td>\n",
              "      <td>0.073246</td>\n",
              "      <td>0.809430</td>\n",
              "      <td>1</td>\n",
              "    </tr>\n",
              "  </tbody>\n",
              "</table>\n",
              "<p>11507 rows × 12 columns</p>\n",
              "</div>"
            ],
            "text/plain": [
              "      barely_true_counts  false_counts  ...  nerScore  label\n",
              "0                    0.0           1.0  ...  0.653579      1\n",
              "1                    0.0           0.0  ...  0.664535      2\n",
              "2                   70.0          71.0  ...  0.506427      3\n",
              "3                    7.0          19.0  ...  0.732572      1\n",
              "4                   15.0           9.0  ...  0.000000      2\n",
              "...                  ...           ...  ...       ...    ...\n",
              "1262                28.0          23.0  ...  0.065230      2\n",
              "1263                 2.0           0.0  ...  0.567153      0\n",
              "1264                 1.0           0.0  ...  0.000000      0\n",
              "1265                 9.0           8.0  ...  0.463865      0\n",
              "1266                 1.0           1.0  ...  0.809430      1\n",
              "\n",
              "[11507 rows x 12 columns]"
            ]
          },
          "metadata": {
            "tags": []
          },
          "execution_count": 111
        }
      ]
    },
    {
      "cell_type": "markdown",
      "metadata": {
        "id": "DaTmzS5HthQc",
        "colab_type": "text"
      },
      "source": [
        "# Function for running all the models"
      ]
    },
    {
      "cell_type": "code",
      "metadata": {
        "id": "GFCYoxzwERyL",
        "colab_type": "code",
        "colab": {}
      },
      "source": [
        "from sklearn.metrics import plot_confusion_matrix\n",
        "def fitModelsAndPredict(models_dict,X_train,y_train,X_test,y_test):\n",
        "  accuracy={}\n",
        "  specificity={}\n",
        "  sensitivity={}\n",
        "  model_save=None\n",
        "  i=0\n",
        "  #models_dict holds name and its function , like {'LR':LogsticRegression()}\n",
        "  for name,model in models_dict.items():\n",
        "      #fitting model on the train data\n",
        "      model.fit(X_train,y_train)\n",
        "      joblib.dump(model, name+'.pkl')\n",
        "      #predicting model on X_test \n",
        "      model_save=model\n",
        "      y_pred=model.predict(X_test)\n",
        "      print('*'*100)\n",
        "      print('Model:',name)\n",
        "      #printing Confusion matrix an dAccuracy of each model\n",
        "      print(\"Confusion Matrix: \")\n",
        "      print(confusion_matrix(y_test, y_pred))\n",
        "      print(\"Accuracy : \",accuracy_score(y_test,y_pred)*100)\n",
        "\n",
        "      #mainitaing a dictionary of results of accuracy of each model to use it to plot in one systyem\n",
        "      accuracy[name]=accuracy_score(y_test,y_pred)*100\n",
        "      cm=confusion_matrix(y_test, y_pred)\n",
        "      sensitivity[name] = (cm[0,0]/(cm[0,0]+cm[0,1]))*100\n",
        "      specificity[name] = (cm[1,1]/(cm[1,0]+cm[1,1]))*100\n",
        "      print(\"Classificarion Report : \")\n",
        "      print(classification_report(y_test, y_pred))\n",
        "      \n",
        "  \n",
        "  #converting dictionaries to dataframes to have them handy\n",
        "  accuracy=pd.DataFrame.from_dict(accuracy,orient='index').reset_index()\n",
        "  sensitivity=pd.DataFrame.from_dict(sensitivity,orient='index').reset_index()\n",
        "  specificity=pd.DataFrame.from_dict(specificity,orient='index').reset_index()\n",
        "  # print(accuracy)\n",
        "  accuracy.columns=['model_name','accuracy']\n",
        "  sensitivity.columns=['model_name','sensitivity']\n",
        "  specificity.columns=['model_name','specificity']\n",
        "  \n",
        "  #plotting accuracy,sensitivity,specificity of each model\n",
        "  plt.figure(i+1,figsize=(16, 6))\n",
        "  ax = sns.lineplot(data=accuracy, x='model_name', y='accuracy',legend='full')\n",
        "  ax = sns.lineplot(data=sensitivity, x='model_name', y='sensitivity',legend='full')\n",
        "  ax = sns.lineplot(data=specificity, x='model_name', y='specificity',legend='full')\n",
        "  ax = sns.barplot(data=accuracy, x='model_name', y='accuracy')\n",
        "  plt.title('Blue :Accuracy,Orange: Senstivity,Green : Specicificity ')\n",
        "  return model_save"
      ],
      "execution_count": 0,
      "outputs": []
    },
    {
      "cell_type": "code",
      "metadata": {
        "id": "aVmnKNp7EkTW",
        "colab_type": "code",
        "colab": {}
      },
      "source": [
        "from sklearn.model_selection import train_test_split"
      ],
      "execution_count": 0,
      "outputs": []
    },
    {
      "cell_type": "code",
      "metadata": {
        "id": "MSqd5zSpEruo",
        "colab_type": "code",
        "colab": {}
      },
      "source": [
        "\n",
        "import joblib\n",
        "from sklearn.ensemble import RandomForestClassifier\n",
        "from sklearn.linear_model import LogisticRegression,LinearRegression\n",
        "from sklearn.tree import DecisionTreeClassifier\n",
        "from sklearn.neighbors import KNeighborsClassifier\n",
        "from sklearn.discriminant_analysis import LinearDiscriminantAnalysis\n",
        "from sklearn.naive_bayes import GaussianNB\n",
        "from sklearn.svm import SVC\n",
        "from xgboost import XGBClassifier\n",
        "from sklearn.cluster import KMeans\n",
        "from yellowbrick.cluster import KElbowVisualizer\n",
        "from sklearn.mixture import GaussianMixture as GMM\n",
        "from sklearn.decomposition import PCA\n",
        "from sklearn.metrics import accuracy_score, confusion_matrix, classification_report, fbeta_score\n",
        "import matplotlib.pyplot as plt\n",
        "import seaborn as sns"
      ],
      "execution_count": 0,
      "outputs": []
    },
    {
      "cell_type": "markdown",
      "metadata": {
        "id": "qQkj5ExwtruW",
        "colab_type": "text"
      },
      "source": [
        "# Splitting the dataframe"
      ]
    },
    {
      "cell_type": "code",
      "metadata": {
        "id": "DBnhazyCEcEN",
        "colab_type": "code",
        "colab": {}
      },
      "source": [
        "liar_clean=liar_clean.fillna(0)\n",
        "X=liar_clean.loc[:,liar_clean.columns!='label']\n",
        "Y=liar_clean.loc[:,liar_clean.columns=='label']\n",
        "X_train, X_test, y_train, y_test = train_test_split(X, Y, test_size=0.3, random_state=1)"
      ],
      "execution_count": 0,
      "outputs": []
    },
    {
      "cell_type": "code",
      "metadata": {
        "id": "-xZn6HXXEjXI",
        "colab_type": "code",
        "colab": {}
      },
      "source": [
        "models_dict={}\n",
        "# models_dict['LinearRegression']       = LinearRegression()\n",
        "models_dict['LogisticRegression']     = LogisticRegression()\n",
        "models_dict['Dtree']                  = DecisionTreeClassifier()\n",
        "models_dict['NB']                     = GaussianNB()\n",
        "models_dict['XGB']                    = XGBClassifier()\n",
        "models_dict['RForest']                = RandomForestClassifier()\n",
        "models_dict['SVM']                    = SVC(gamma='auto')\n",
        "models_dict['KNN']                    = KNeighborsClassifier()"
      ],
      "execution_count": 0,
      "outputs": []
    },
    {
      "cell_type": "code",
      "metadata": {
        "id": "umMtjmKXExCT",
        "colab_type": "code",
        "outputId": "47aadcf0-1233-4678-8890-9e6af25fff55",
        "colab": {
          "base_uri": "https://localhost:8080/",
          "height": 1000
        }
      },
      "source": [
        "fitModelsAndPredict(models_dict,X_train,y_train,X_test,y_test)"
      ],
      "execution_count": 0,
      "outputs": [
        {
          "output_type": "stream",
          "text": [
            "/usr/local/lib/python3.6/dist-packages/sklearn/utils/validation.py:760: DataConversionWarning: A column-vector y was passed when a 1d array was expected. Please change the shape of y to (n_samples, ), for example using ravel().\n",
            "  y = column_or_1d(y, warn=True)\n",
            "/usr/local/lib/python3.6/dist-packages/sklearn/linear_model/_logistic.py:940: ConvergenceWarning: lbfgs failed to converge (status=1):\n",
            "STOP: TOTAL NO. of ITERATIONS REACHED LIMIT.\n",
            "\n",
            "Increase the number of iterations (max_iter) or scale the data as shown in:\n",
            "    https://scikit-learn.org/stable/modules/preprocessing.html\n",
            "Please also refer to the documentation for alternative solver options:\n",
            "    https://scikit-learn.org/stable/modules/linear_model.html#logistic-regression\n",
            "  extra_warning_msg=_LOGISTIC_SOLVER_CONVERGENCE_MSG)\n",
            "/usr/local/lib/python3.6/dist-packages/sklearn/metrics/_classification.py:1272: UndefinedMetricWarning: Precision and F-score are ill-defined and being set to 0.0 in labels with no predicted samples. Use `zero_division` parameter to control this behavior.\n",
            "  _warn_prf(average, modifier, msg_start, len(result))\n",
            "/usr/local/lib/python3.6/dist-packages/sklearn/naive_bayes.py:206: DataConversionWarning: A column-vector y was passed when a 1d array was expected. Please change the shape of y to (n_samples, ), for example using ravel().\n",
            "  y = column_or_1d(y, warn=True)\n",
            "/usr/local/lib/python3.6/dist-packages/sklearn/preprocessing/_label.py:235: DataConversionWarning: A column-vector y was passed when a 1d array was expected. Please change the shape of y to (n_samples, ), for example using ravel().\n",
            "  y = column_or_1d(y, warn=True)\n",
            "/usr/local/lib/python3.6/dist-packages/sklearn/preprocessing/_label.py:268: DataConversionWarning: A column-vector y was passed when a 1d array was expected. Please change the shape of y to (n_samples, ), for example using ravel().\n",
            "  y = column_or_1d(y, warn=True)\n"
          ],
          "name": "stderr"
        },
        {
          "output_type": "stream",
          "text": [
            "****************************************************************************************************\n",
            "Model: LogisticRegression\n",
            "Confusion Matrix: \n",
            "[[ 72  62 294  97  11   0]\n",
            " [ 53 198 298 114  25   0]\n",
            " [ 72  89 454 106   6   0]\n",
            " [ 50  91 198 303   5   0]\n",
            " [ 22  72 109  44  43   0]\n",
            " [ 35  90 289 148   3   0]]\n",
            "Accuracy :  30.987547060527078\n",
            "Classificarion Report : \n",
            "              precision    recall  f1-score   support\n",
            "\n",
            "           0       0.24      0.13      0.17       536\n",
            "           1       0.33      0.29      0.31       688\n",
            "           2       0.28      0.62      0.38       727\n",
            "           3       0.37      0.47      0.42       647\n",
            "           4       0.46      0.15      0.22       290\n",
            "           5       0.00      0.00      0.00       565\n",
            "\n",
            "    accuracy                           0.31      3453\n",
            "   macro avg       0.28      0.28      0.25      3453\n",
            "weighted avg       0.27      0.31      0.27      3453\n",
            "\n",
            "****************************************************************************************************\n",
            "Model: Dtree\n",
            "Confusion Matrix: \n",
            "[[191  78  89  77  30  71]\n",
            " [ 89 270 106  80  43 100]\n",
            " [ 97 108 265 104  29 124]\n",
            " [ 87  98  92 241  27 102]\n",
            " [ 43  56  36  39  92  24]\n",
            " [ 77  77  99  97  17 198]]\n",
            "Accuracy :  36.40312771503041\n",
            "Classificarion Report : \n",
            "              precision    recall  f1-score   support\n",
            "\n",
            "           0       0.33      0.36      0.34       536\n",
            "           1       0.39      0.39      0.39       688\n",
            "           2       0.39      0.36      0.37       727\n",
            "           3       0.38      0.37      0.38       647\n",
            "           4       0.39      0.32      0.35       290\n",
            "           5       0.32      0.35      0.33       565\n",
            "\n",
            "    accuracy                           0.36      3453\n",
            "   macro avg       0.36      0.36      0.36      3453\n",
            "weighted avg       0.37      0.36      0.36      3453\n",
            "\n",
            "****************************************************************************************************\n",
            "Model: NB\n",
            "Confusion Matrix: \n",
            "[[263  36  29  56  39 113]\n",
            " [330  47  41  67  68 135]\n",
            " [318  53  48  90  49 169]\n",
            " [232  30  32 142  42 169]\n",
            " [122  33  11  13  69  42]\n",
            " [223  23  46  93  26 154]]\n",
            "Accuracy :  20.938314509122502\n",
            "Classificarion Report : \n",
            "              precision    recall  f1-score   support\n",
            "\n",
            "           0       0.18      0.49      0.26       536\n",
            "           1       0.21      0.07      0.10       688\n",
            "           2       0.23      0.07      0.10       727\n",
            "           3       0.31      0.22      0.26       647\n",
            "           4       0.24      0.24      0.24       290\n",
            "           5       0.20      0.27      0.23       565\n",
            "\n",
            "    accuracy                           0.21      3453\n",
            "   macro avg       0.23      0.23      0.20      3453\n",
            "weighted avg       0.23      0.21      0.19      3453\n",
            "\n",
            "****************************************************************************************************\n",
            "Model: XGB\n",
            "Confusion Matrix: \n",
            "[[184 129 113  90  14   6]\n",
            " [ 54 356 127 102  39  10]\n",
            " [ 60 126 360 156  14  11]\n",
            " [ 30  82 151 355  11  18]\n",
            " [ 24  79  52  17 115   3]\n",
            " [ 41 104 131 155  12 122]]\n",
            "Accuracy :  43.20880393860411\n",
            "Classificarion Report : \n",
            "              precision    recall  f1-score   support\n",
            "\n",
            "           0       0.47      0.34      0.40       536\n",
            "           1       0.41      0.52      0.46       688\n",
            "           2       0.39      0.50      0.43       727\n",
            "           3       0.41      0.55      0.47       647\n",
            "           4       0.56      0.40      0.46       290\n",
            "           5       0.72      0.22      0.33       565\n",
            "\n",
            "    accuracy                           0.43      3453\n",
            "   macro avg       0.49      0.42      0.42      3453\n",
            "weighted avg       0.48      0.43      0.42      3453\n",
            "\n"
          ],
          "name": "stdout"
        },
        {
          "output_type": "stream",
          "text": [
            "/usr/local/lib/python3.6/dist-packages/ipykernel_launcher.py:11: DataConversionWarning: A column-vector y was passed when a 1d array was expected. Please change the shape of y to (n_samples,), for example using ravel().\n",
            "  # This is added back by InteractiveShellApp.init_path()\n"
          ],
          "name": "stderr"
        },
        {
          "output_type": "stream",
          "text": [
            "****************************************************************************************************\n",
            "Model: RForest\n",
            "Confusion Matrix: \n",
            "[[203  91  87  92  26  37]\n",
            " [ 95 286 110  91  44  62]\n",
            " [100 104 306 115  19  83]\n",
            " [ 89  99 100 259  18  82]\n",
            " [ 44  51  43  32 104  16]\n",
            " [ 67  76 113 112  13 184]]\n",
            "Accuracy :  38.86475528525919\n",
            "Classificarion Report : \n",
            "              precision    recall  f1-score   support\n",
            "\n",
            "           0       0.34      0.38      0.36       536\n",
            "           1       0.40      0.42      0.41       688\n",
            "           2       0.40      0.42      0.41       727\n",
            "           3       0.37      0.40      0.38       647\n",
            "           4       0.46      0.36      0.40       290\n",
            "           5       0.40      0.33      0.36       565\n",
            "\n",
            "    accuracy                           0.39      3453\n",
            "   macro avg       0.40      0.38      0.39      3453\n",
            "weighted avg       0.39      0.39      0.39      3453\n",
            "\n"
          ],
          "name": "stdout"
        },
        {
          "output_type": "stream",
          "text": [
            "/usr/local/lib/python3.6/dist-packages/sklearn/utils/validation.py:760: DataConversionWarning: A column-vector y was passed when a 1d array was expected. Please change the shape of y to (n_samples, ), for example using ravel().\n",
            "  y = column_or_1d(y, warn=True)\n"
          ],
          "name": "stderr"
        },
        {
          "output_type": "stream",
          "text": [
            "****************************************************************************************************\n",
            "Model: SVM\n",
            "Confusion Matrix: \n",
            "[[223 111  83  86  14  19]\n",
            " [ 85 333  91 103  47  29]\n",
            " [ 77 125 310 161  16  38]\n",
            " [ 56  89  97 346  11  48]\n",
            " [ 37  65  35  25 121   7]\n",
            " [ 63  93 106 143  14 146]]\n",
            "Accuracy :  42.83231972198089\n",
            "Classificarion Report : \n",
            "              precision    recall  f1-score   support\n",
            "\n",
            "           0       0.41      0.42      0.41       536\n",
            "           1       0.41      0.48      0.44       688\n",
            "           2       0.43      0.43      0.43       727\n",
            "           3       0.40      0.53      0.46       647\n",
            "           4       0.54      0.42      0.47       290\n",
            "           5       0.51      0.26      0.34       565\n",
            "\n",
            "    accuracy                           0.43      3453\n",
            "   macro avg       0.45      0.42      0.43      3453\n",
            "weighted avg       0.44      0.43      0.42      3453\n",
            "\n",
            "****************************************************************************************************\n",
            "Model: KNN\n",
            "Confusion Matrix: \n",
            "[[226 107  83  70  22  28]\n",
            " [130 290 100  87  39  42]\n",
            " [141 125 276 100  20  65]\n",
            " [112 118 110 237  14  56]\n",
            " [ 51  62  42  21 102  12]\n",
            " [100  94 106  95  13 157]]\n",
            "Accuracy :  37.30089777005502\n",
            "Classificarion Report : \n",
            "              precision    recall  f1-score   support\n",
            "\n",
            "           0       0.30      0.42      0.35       536\n",
            "           1       0.36      0.42      0.39       688\n",
            "           2       0.38      0.38      0.38       727\n",
            "           3       0.39      0.37      0.38       647\n",
            "           4       0.49      0.35      0.41       290\n",
            "           5       0.44      0.28      0.34       565\n",
            "\n",
            "    accuracy                           0.37      3453\n",
            "   macro avg       0.39      0.37      0.37      3453\n",
            "weighted avg       0.38      0.37      0.37      3453\n",
            "\n"
          ],
          "name": "stdout"
        },
        {
          "output_type": "stream",
          "text": [
            "/usr/local/lib/python3.6/dist-packages/ipykernel_launcher.py:11: DataConversionWarning: A column-vector y was passed when a 1d array was expected. Please change the shape of y to (n_samples, ), for example using ravel().\n",
            "  # This is added back by InteractiveShellApp.init_path()\n"
          ],
          "name": "stderr"
        },
        {
          "output_type": "execute_result",
          "data": {
            "text/plain": [
              "KNeighborsClassifier(algorithm='auto', leaf_size=30, metric='minkowski',\n",
              "                     metric_params=None, n_jobs=None, n_neighbors=5, p=2,\n",
              "                     weights='uniform')"
            ]
          },
          "metadata": {
            "tags": []
          },
          "execution_count": 114
        },
        {
          "output_type": "display_data",
          "data": {
            "image/png": "[encoded data removed]",
            "text/plain": [
              "<Figure size 1152x432 with 1 Axes>"
            ]
          },
          "metadata": {
            "tags": []
          }
        }
      ]
    },
    {
      "cell_type": "markdown",
      "metadata": {
        "id": "7-yXmWwuvVU6",
        "colab_type": "text"
      },
      "source": [
        "As you can see, Xgb model gave the highest accuracy"
      ]
    },
    {
      "cell_type": "markdown",
      "metadata": {
        "id": "lCcjDgkZv25m",
        "colab_type": "text"
      },
      "source": [
        "# Code for group colab"
      ]
    },
    {
      "cell_type": "code",
      "metadata": {
        "id": "fj0wbOqGQGT0",
        "colab_type": "code",
        "colab": {}
      },
      "source": [
        "# link = 'https://drive.google.com/open?id=1r2LPuNUKy_qMlLzfDnIVdeVZfZrpOngF'\n",
        "# fluff, id = link.split('=')\n",
        "\n",
        "# #downloading the doc2vec model\n",
        "# downloaded = drive.CreateFile({'id':id}) \n",
        "# downloaded.GetContentFile('lokiXgb.pkl')\n",
        "# xgbLoki = joblib.load(open('lokiXgb.pkl', 'rb'))"
      ],
      "execution_count": 0,
      "outputs": []
    },
    {
      "cell_type": "code",
      "metadata": {
        "id": "BETFauIxQGQ4",
        "colab_type": "code",
        "colab": {}
      },
      "source": [
        "# link = 'https://drive.google.com/open?id=1qoqFk7BU_OCMroq_vvcdWDGzm8w-VDmk'\n",
        "# fluff, id = link.split('=')\n",
        "\n",
        "# #downloading the doc2vec model\n",
        "# downloaded = drive.CreateFile({'id':id}) \n",
        "# downloaded.GetContentFile('party.pkl')\n",
        "# party = joblib.load(open('party.pkl', 'rb'))"
      ],
      "execution_count": 0,
      "outputs": []
    },
    {
      "cell_type": "code",
      "metadata": {
        "id": "VSO-QTOOQKSX",
        "colab_type": "code",
        "colab": {}
      },
      "source": [
        "def predict_tVsBScore(title,body):\n",
        "    # import string\n",
        "    # from nltk.stem import WordNetLemmatizer\n",
        "    # from nltk.tokenize import RegexpTokenizer\n",
        "    # from nltk.corpus import stopwords\n",
        "    # nltk.download('stopwords')\n",
        "    # from nltk.stem.porter import PorterStemmer\n",
        "\n",
        "\n",
        "    stemming = PorterStemmer()\n",
        "    lemma = WordNetLemmatizer()\n",
        "    def cleanUp(data):\n",
        "        data = \"\".join([i for i in str(data) if i not in string.punctuation])\n",
        "        tokenizer = RegexpTokenizer(r'\\w+')\n",
        "        data = tokenizer.tokenize(data.lower())\n",
        "        data = [i for i in data if i not in stopwords.words('english')]\n",
        "        data = [lemma.lemmatize(i) for i in data]\n",
        "        data = \" \".join([stemming.stem(i) for i in data])\n",
        "        # print(data)\n",
        "        return data\n",
        "\n",
        "    # import re\n",
        "    def break_subject(text):\n",
        "        if type(text) is float:\n",
        "          return []\n",
        "        import re\n",
        "        a = re.split('; |, |-',text)\n",
        "        # print(a)\n",
        "        return re.split('; |, |-',text)\n",
        "\n",
        "    cleanedBody = cleanUp(body)\n",
        "    subject = break_subject(title)\n",
        "\n",
        "    from nltk.corpus import wordnet \n",
        "    def generate_Synonyms(wordlist):\n",
        "        synonyms = set()\n",
        "        for i in wordlist:\n",
        "          if type(i) is not str:\n",
        "            continue\n",
        "          for syn in wordnet.synsets(i): \n",
        "              for l in syn.lemmas(): \n",
        "                  synonyms.add(l.name())\n",
        "        # print(list(synonyms))\n",
        "        return list(synonyms)\n",
        "    def combineSynonyms(data):\n",
        "        return ' '.join(data)\n",
        "    \n",
        "\n",
        "    finalSubject = generate_Synonyms(subject)\n",
        "    # print(finalSubject)\n",
        "    finalSubject1 = combineSynonyms(finalSubject)\n",
        "    # print(finalSubject1)\n",
        "\n",
        "    s = cleanedBody + '@@' + finalSubject1\n",
        "    # print(s)\n",
        "\n",
        "    from sklearn.feature_extraction.text import TfidfVectorizer\n",
        "    # create the transform\n",
        "    def cosine_sim(statement):\n",
        "        statement=statement.split('@@')\n",
        "        # print(statement)\n",
        "        text1,text2=statement[0],statement[1]\n",
        "        vectorizer = TfidfVectorizer(stop_words='english')\n",
        "        tfidf = vectorizer.fit_transform([text1, text2])\n",
        "        sim_score=((tfidf * tfidf.T).A)[0,1]\n",
        "        pred_label = 0\n",
        "        if sim_score*100>20:\n",
        "          pred_label = 1\n",
        "          \n",
        "        # if sim_score*100>0:\n",
        "        #   return 1\n",
        "        return sim_score , pred_label\n",
        "\n",
        "    import spacy\n",
        "    \n",
        "    # Load English tokenizer, tagger, parser, NER and word vectors\n",
        "    nlp = spacy.load('en')\n",
        "    def spacy_similarity(t1,t2):\n",
        "        doc1 = nlp(t1)\n",
        "        doc2 = nlp(t2)\n",
        "        return doc1.similarity(doc2)\n",
        "\n",
        "    \n",
        "    simScore , label = cosine_sim(s)\n",
        "    simScore2 = spacy_similarity(cleanedBody,finalSubject1)\n",
        "    \n",
        "    return label,simScore2"
      ],
      "execution_count": 0,
      "outputs": []
    },
    {
      "cell_type": "code",
      "metadata": {
        "id": "EgaF9agpQPtC",
        "colab_type": "code",
        "colab": {}
      },
      "source": [
        "def FourReal_TitleVsBody(title,statement,barely_true_counts,false_counts,half_true_counts,mostly_true_counts, pants_on_fire_counts,party_affiliation):\n",
        "  # cosineSim = predict_tVsBScore(title,statement)\n",
        "  party_affiliation_transform = party.transform([party_affiliation])\n",
        "  \n",
        "  df=pd.DataFrame([barely_true_counts])\n",
        "  df.columns=['barely_true_counts']\n",
        "  df['false_counts']=false_counts\n",
        "  df['half_true_counts']=half_true_counts\n",
        "  df['mostly_true_counts']=mostly_true_counts\n",
        "  df['pants_on_fire_counts']=pants_on_fire_counts\n",
        "  df['party affiliation']=party_affiliation_transform\n",
        "  a,df['cosineSim']=predict_tVsBScore(title,statement)\n",
        "  \n",
        "  # barely_true_counts\tfalse_counts\thalf_true_counts\tmostly_true_counts\tpants_on_fire_counts\tparty affiliation\tcosineSim\tlabel\n",
        "  \n",
        "  prediction = xgbLoki.predict(df)\n",
        "  prediction_probability = xgbLoki.predict_proba(df)\n",
        "  return prediction_probability"
      ],
      "execution_count": 0,
      "outputs": []
    },
    {
      "cell_type": "code",
      "metadata": {
        "id": "yOqCQ-dJQUM-",
        "colab_type": "code",
        "colab": {}
      },
      "source": [
        "# a = FourReal_TitleVsBody(subject,statement,barely_true_counts,false_counts,half_true_counts,mostly_true_counts, pants_on_fire_counts,party_affiliation)"
      ],
      "execution_count": 0,
      "outputs": []
    }
  ]
}