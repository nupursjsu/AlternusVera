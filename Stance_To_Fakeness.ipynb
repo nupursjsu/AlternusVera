{
  "nbformat": 4,
  "nbformat_minor": 0,
  "metadata": {
    "colab": {
      "name": "Stance To Fakeness.ipynb",
      "provenance": [],
      "collapsed_sections": []
    },
    "kernelspec": {
      "name": "python3",
      "display_name": "Python 3"
    }
  },
  "cells": [
    {
      "cell_type": "code",
      "metadata": {
        "id": "akl95MNaqmPF",
        "colab_type": "code",
        "outputId": "4ea3bede-c1c5-4396-fda0-172adbb7031a",
        "colab": {
          "base_uri": "https://localhost:8080/",
          "height": 522
        }
      },
      "source": [
        "import pandas as pd\n",
        "import re\n",
        "\n",
        "import random\n",
        "random.seed(1)\n",
        "\n",
        "!pip install nltk\n",
        "!pip install gensim\n",
        "import nltk\n",
        "\n",
        "\n",
        "nltk.download('vader_lexicon')\n",
        "nltk.download('punkt')\n",
        "nltk.download('wordnet')\n",
        "nltk.download('stopwords')\n",
        "\n",
        "from sklearn.model_selection import train_test_split\n",
        "from sklearn.feature_extraction.text import TfidfVectorizer\n",
        "from nltk import tokenize\n",
        "from nltk.sentiment.vader import SentimentIntensityAnalyzer\n",
        "\n",
        "\n",
        "from nltk.tokenize import word_tokenize\n",
        "from nltk.corpus import stopwords\n",
        "import operator"
      ],
      "execution_count": 0,
      "outputs": [
        {
          "output_type": "stream",
          "text": [
            "Requirement already satisfied: nltk in /usr/local/lib/python3.6/dist-packages (3.2.5)\n",
            "Requirement already satisfied: six in /usr/local/lib/python3.6/dist-packages (from nltk) (1.12.0)\n",
            "Requirement already satisfied: gensim in /usr/local/lib/python3.6/dist-packages (3.6.0)\n",
            "Requirement already satisfied: numpy>=1.11.3 in /usr/local/lib/python3.6/dist-packages (from gensim) (1.18.3)\n",
            "Requirement already satisfied: smart-open>=1.2.1 in /usr/local/lib/python3.6/dist-packages (from gensim) (2.0.0)\n",
            "Requirement already satisfied: six>=1.5.0 in /usr/local/lib/python3.6/dist-packages (from gensim) (1.12.0)\n",
            "Requirement already satisfied: scipy>=0.18.1 in /usr/local/lib/python3.6/dist-packages (from gensim) (1.4.1)\n",
            "Requirement already satisfied: boto3 in /usr/local/lib/python3.6/dist-packages (from smart-open>=1.2.1->gensim) (1.13.1)\n",
            "Requirement already satisfied: boto in /usr/local/lib/python3.6/dist-packages (from smart-open>=1.2.1->gensim) (2.49.0)\n",
            "Requirement already satisfied: requests in /usr/local/lib/python3.6/dist-packages (from smart-open>=1.2.1->gensim) (2.23.0)\n",
            "Requirement already satisfied: botocore<1.17.0,>=1.16.1 in /usr/local/lib/python3.6/dist-packages (from boto3->smart-open>=1.2.1->gensim) (1.16.1)\n",
            "Requirement already satisfied: jmespath<1.0.0,>=0.7.1 in /usr/local/lib/python3.6/dist-packages (from boto3->smart-open>=1.2.1->gensim) (0.9.5)\n",
            "Requirement already satisfied: s3transfer<0.4.0,>=0.3.0 in /usr/local/lib/python3.6/dist-packages (from boto3->smart-open>=1.2.1->gensim) (0.3.3)\n",
            "Requirement already satisfied: urllib3!=1.25.0,!=1.25.1,<1.26,>=1.21.1 in /usr/local/lib/python3.6/dist-packages (from requests->smart-open>=1.2.1->gensim) (1.24.3)\n",
            "Requirement already satisfied: certifi>=2017.4.17 in /usr/local/lib/python3.6/dist-packages (from requests->smart-open>=1.2.1->gensim) (2020.4.5.1)\n",
            "Requirement already satisfied: chardet<4,>=3.0.2 in /usr/local/lib/python3.6/dist-packages (from requests->smart-open>=1.2.1->gensim) (3.0.4)\n",
            "Requirement already satisfied: idna<3,>=2.5 in /usr/local/lib/python3.6/dist-packages (from requests->smart-open>=1.2.1->gensim) (2.9)\n",
            "Requirement already satisfied: python-dateutil<3.0.0,>=2.1 in /usr/local/lib/python3.6/dist-packages (from botocore<1.17.0,>=1.16.1->boto3->smart-open>=1.2.1->gensim) (2.8.1)\n",
            "Requirement already satisfied: docutils<0.16,>=0.10 in /usr/local/lib/python3.6/dist-packages (from botocore<1.17.0,>=1.16.1->boto3->smart-open>=1.2.1->gensim) (0.15.2)\n",
            "[nltk_data] Downloading package vader_lexicon to /root/nltk_data...\n",
            "[nltk_data] Downloading package punkt to /root/nltk_data...\n",
            "[nltk_data]   Unzipping tokenizers/punkt.zip.\n",
            "[nltk_data] Downloading package wordnet to /root/nltk_data...\n",
            "[nltk_data]   Unzipping corpora/wordnet.zip.\n",
            "[nltk_data] Downloading package stopwords to /root/nltk_data...\n",
            "[nltk_data]   Unzipping corpora/stopwords.zip.\n"
          ],
          "name": "stdout"
        },
        {
          "output_type": "stream",
          "text": [
            "/usr/local/lib/python3.6/dist-packages/nltk/twitter/__init__.py:20: UserWarning: The twython library has not been installed. Some functionality from the twitter package will not be available.\n",
            "  warnings.warn(\"The twython library has not been installed. \"\n"
          ],
          "name": "stderr"
        }
      ]
    },
    {
      "cell_type": "code",
      "metadata": {
        "id": "lZiLZVIzxFF9",
        "colab_type": "code",
        "colab": {}
      },
      "source": [
        "from sklearn.preprocessing import LabelEncoder\n",
        "import joblib"
      ],
      "execution_count": 0,
      "outputs": []
    },
    {
      "cell_type": "code",
      "metadata": {
        "id": "vQ8Rk3VgqywW",
        "colab_type": "code",
        "colab": {}
      },
      "source": [
        "liar=pd.read_csv('liar_with_stance.csv')\n",
        "stop_words = set(stopwords.words('english')) "
      ],
      "execution_count": 0,
      "outputs": []
    },
    {
      "cell_type": "code",
      "metadata": {
        "id": "7UMjwouQlqTN",
        "colab_type": "code",
        "colab": {}
      },
      "source": [
        "sid = SentimentIntensityAnalyzer()"
      ],
      "execution_count": 0,
      "outputs": []
    },
    {
      "cell_type": "code",
      "metadata": {
        "id": "8QB5THLfWlbl",
        "colab_type": "code",
        "colab": {}
      },
      "source": [
        "def get_sentiment(sentence):\n",
        "  stats = sid.polarity_scores(sentence)\n",
        "  return max(stats.items(), key=operator.itemgetter(1))[0]"
      ],
      "execution_count": 0,
      "outputs": []
    },
    {
      "cell_type": "code",
      "metadata": {
        "id": "dqWLN1O_Y5fW",
        "colab_type": "code",
        "colab": {}
      },
      "source": [
        "def get_sentiment_score(sentence):\n",
        "  stats = sid.polarity_scores(sentence)\n",
        "  return stats[max(stats.items(), key=operator.itemgetter(1))[0]]"
      ],
      "execution_count": 0,
      "outputs": []
    },
    {
      "cell_type": "code",
      "metadata": {
        "id": "NaAva_5Oq4P1",
        "colab_type": "code",
        "colab": {}
      },
      "source": [
        "vectorizer = TfidfVectorizer(stop_words='english')\n",
        "liar['cleanedStatement'] = liar['statement'].map(lambda x: re.sub(r\"\\W\", \" \",str(x)))\n",
        "liar['cleanedStatement'] = liar['cleanedStatement'].map(lambda x: re.sub(r'[,\\.!?]', \" \",str(x)))\n",
        "liar['cleanedStatement'] = liar['cleanedStatement'].map(lambda x: re.sub(r\" \\d+\", \" \",str(x)))\n",
        "liar['cleanedStatement'] = liar['cleanedStatement'].map(lambda x: word_tokenize(x.lower()))\n",
        "liar['cleanedStatement'] = liar['cleanedStatement'].map(lambda x: ' '.join(x))\n",
        "liar['cleanedStatement'] = liar['cleanedStatement'].apply(lambda x: ' '.join([word for word in x.split() if word not in stop_words]))\n",
        "liar['sentiment']        = liar['cleanedStatement'].apply(lambda x: get_sentiment(x))\n",
        "liar['sentiment_score']  = liar['cleanedStatement'].apply(lambda x: get_sentiment_score(x))\n",
        "# liar['cleanedStatement'] = list(vectorizer.fit_transform(liar['cleanedStatement']).toarray())"
      ],
      "execution_count": 0,
      "outputs": []
    },
    {
      "cell_type": "code",
      "metadata": {
        "id": "t7M-K7IjZ8G7",
        "colab_type": "code",
        "outputId": "5983f342-94b2-4b5f-e5a7-7958061ec4eb",
        "colab": {
          "base_uri": "https://localhost:8080/",
          "height": 34
        }
      },
      "source": [
        "get_sentiment('I am not flying to England.')"
      ],
      "execution_count": 0,
      "outputs": [
        {
          "output_type": "execute_result",
          "data": {
            "text/plain": [
              "'neu'"
            ]
          },
          "metadata": {
            "tags": []
          },
          "execution_count": 11
        }
      ]
    },
    {
      "cell_type": "code",
      "metadata": {
        "id": "BXfK1ax9ZKtP",
        "colab_type": "code",
        "outputId": "01b1059c-2f48-4780-c24c-205a59a030ae",
        "colab": {
          "base_uri": "https://localhost:8080/",
          "height": 1000
        }
      },
      "source": [
        "liar"
      ],
      "execution_count": 0,
      "outputs": [
        {
          "output_type": "execute_result",
          "data": {
            "text/html": [
              "<div>\n",
              "<style scoped>\n",
              "    .dataframe tbody tr th:only-of-type {\n",
              "        vertical-align: middle;\n",
              "    }\n",
              "\n",
              "    .dataframe tbody tr th {\n",
              "        vertical-align: top;\n",
              "    }\n",
              "\n",
              "    .dataframe thead th {\n",
              "        text-align: right;\n",
              "    }\n",
              "</style>\n",
              "<table border=\"1\" class=\"dataframe\">\n",
              "  <thead>\n",
              "    <tr style=\"text-align: right;\">\n",
              "      <th></th>\n",
              "      <th>Unnamed: 0</th>\n",
              "      <th>label</th>\n",
              "      <th>statement</th>\n",
              "      <th>subject</th>\n",
              "      <th>speaker</th>\n",
              "      <th>speaker_job_title</th>\n",
              "      <th>state info</th>\n",
              "      <th>party affiliation</th>\n",
              "      <th>barely_true_counts</th>\n",
              "      <th>false_counts</th>\n",
              "      <th>half_true_counts</th>\n",
              "      <th>mostly_true_counts</th>\n",
              "      <th>pants_on_fire_counts</th>\n",
              "      <th>context</th>\n",
              "      <th>similar_doc</th>\n",
              "      <th>Stance</th>\n",
              "      <th>cleanedStatement</th>\n",
              "      <th>sentiment</th>\n",
              "      <th>sentiment_score</th>\n",
              "    </tr>\n",
              "  </thead>\n",
              "  <tbody>\n",
              "    <tr>\n",
              "      <th>0</th>\n",
              "      <td>0</td>\n",
              "      <td>false</td>\n",
              "      <td>Says the Annies List political group supports ...</td>\n",
              "      <td>abortion</td>\n",
              "      <td>dwayne-bohac</td>\n",
              "      <td>State representative</td>\n",
              "      <td>Texas</td>\n",
              "      <td>republican</td>\n",
              "      <td>0.0</td>\n",
              "      <td>1.0</td>\n",
              "      <td>0.0</td>\n",
              "      <td>0.0</td>\n",
              "      <td>0.0</td>\n",
              "      <td>a mailer</td>\n",
              "      <td>4438</td>\n",
              "      <td>0</td>\n",
              "      <td>says annies list political group supports thir...</td>\n",
              "      <td>neu</td>\n",
              "      <td>0.6670</td>\n",
              "    </tr>\n",
              "    <tr>\n",
              "      <th>1</th>\n",
              "      <td>1</td>\n",
              "      <td>half-true</td>\n",
              "      <td>When did the decline of coal start? It started...</td>\n",
              "      <td>energy,history,job-accomplishments</td>\n",
              "      <td>scott-surovell</td>\n",
              "      <td>State delegate</td>\n",
              "      <td>Virginia</td>\n",
              "      <td>democrat</td>\n",
              "      <td>0.0</td>\n",
              "      <td>0.0</td>\n",
              "      <td>1.0</td>\n",
              "      <td>1.0</td>\n",
              "      <td>0.0</td>\n",
              "      <td>a floor speech.</td>\n",
              "      <td>1928</td>\n",
              "      <td>1</td>\n",
              "      <td>decline coal start started natural gas took st...</td>\n",
              "      <td>neu</td>\n",
              "      <td>0.8280</td>\n",
              "    </tr>\n",
              "    <tr>\n",
              "      <th>2</th>\n",
              "      <td>2</td>\n",
              "      <td>mostly-true</td>\n",
              "      <td>Hillary Clinton agrees with John McCain \"by vo...</td>\n",
              "      <td>foreign-policy</td>\n",
              "      <td>barack-obama</td>\n",
              "      <td>President</td>\n",
              "      <td>Illinois</td>\n",
              "      <td>democrat</td>\n",
              "      <td>70.0</td>\n",
              "      <td>71.0</td>\n",
              "      <td>160.0</td>\n",
              "      <td>163.0</td>\n",
              "      <td>9.0</td>\n",
              "      <td>Denver</td>\n",
              "      <td>4477</td>\n",
              "      <td>0</td>\n",
              "      <td>hillary clinton agrees john mccain voting give...</td>\n",
              "      <td>neu</td>\n",
              "      <td>0.5520</td>\n",
              "    </tr>\n",
              "    <tr>\n",
              "      <th>3</th>\n",
              "      <td>3</td>\n",
              "      <td>false</td>\n",
              "      <td>Health care reform legislation is likely to ma...</td>\n",
              "      <td>health-care</td>\n",
              "      <td>blog-posting</td>\n",
              "      <td>NaN</td>\n",
              "      <td>NaN</td>\n",
              "      <td>none</td>\n",
              "      <td>7.0</td>\n",
              "      <td>19.0</td>\n",
              "      <td>3.0</td>\n",
              "      <td>5.0</td>\n",
              "      <td>44.0</td>\n",
              "      <td>a news release</td>\n",
              "      <td>4051</td>\n",
              "      <td>1</td>\n",
              "      <td>health care reform legislation likely mandate ...</td>\n",
              "      <td>compound</td>\n",
              "      <td>0.7579</td>\n",
              "    </tr>\n",
              "    <tr>\n",
              "      <th>4</th>\n",
              "      <td>4</td>\n",
              "      <td>half-true</td>\n",
              "      <td>The economic turnaround started at the end of ...</td>\n",
              "      <td>economy,jobs</td>\n",
              "      <td>charlie-crist</td>\n",
              "      <td>NaN</td>\n",
              "      <td>Florida</td>\n",
              "      <td>democrat</td>\n",
              "      <td>15.0</td>\n",
              "      <td>9.0</td>\n",
              "      <td>20.0</td>\n",
              "      <td>19.0</td>\n",
              "      <td>2.0</td>\n",
              "      <td>an interview on CNN</td>\n",
              "      <td>4299</td>\n",
              "      <td>1</td>\n",
              "      <td>economic turnaround started end term</td>\n",
              "      <td>neu</td>\n",
              "      <td>1.0000</td>\n",
              "    </tr>\n",
              "    <tr>\n",
              "      <th>...</th>\n",
              "      <td>...</td>\n",
              "      <td>...</td>\n",
              "      <td>...</td>\n",
              "      <td>...</td>\n",
              "      <td>...</td>\n",
              "      <td>...</td>\n",
              "      <td>...</td>\n",
              "      <td>...</td>\n",
              "      <td>...</td>\n",
              "      <td>...</td>\n",
              "      <td>...</td>\n",
              "      <td>...</td>\n",
              "      <td>...</td>\n",
              "      <td>...</td>\n",
              "      <td>...</td>\n",
              "      <td>...</td>\n",
              "      <td>...</td>\n",
              "      <td>...</td>\n",
              "      <td>...</td>\n",
              "    </tr>\n",
              "    <tr>\n",
              "      <th>10235</th>\n",
              "      <td>10235</td>\n",
              "      <td>mostly-true</td>\n",
              "      <td>There are a larger number of shark attacks in ...</td>\n",
              "      <td>animals,elections</td>\n",
              "      <td>aclu-florida</td>\n",
              "      <td>NaN</td>\n",
              "      <td>Florida</td>\n",
              "      <td>none</td>\n",
              "      <td>0.0</td>\n",
              "      <td>1.0</td>\n",
              "      <td>1.0</td>\n",
              "      <td>1.0</td>\n",
              "      <td>0.0</td>\n",
              "      <td>interview on \"The Colbert Report\"</td>\n",
              "      <td>4179</td>\n",
              "      <td>3</td>\n",
              "      <td>larger number shark attacks florida cases vote...</td>\n",
              "      <td>neg</td>\n",
              "      <td>0.5150</td>\n",
              "    </tr>\n",
              "    <tr>\n",
              "      <th>10236</th>\n",
              "      <td>10236</td>\n",
              "      <td>mostly-true</td>\n",
              "      <td>Democrats have now become the party of the [At...</td>\n",
              "      <td>elections</td>\n",
              "      <td>alan-powell</td>\n",
              "      <td>NaN</td>\n",
              "      <td>Georgia</td>\n",
              "      <td>republican</td>\n",
              "      <td>0.0</td>\n",
              "      <td>0.0</td>\n",
              "      <td>0.0</td>\n",
              "      <td>1.0</td>\n",
              "      <td>0.0</td>\n",
              "      <td>an interview</td>\n",
              "      <td>1782</td>\n",
              "      <td>1</td>\n",
              "      <td>democrats become party atlanta metro area blacks</td>\n",
              "      <td>neu</td>\n",
              "      <td>0.6900</td>\n",
              "    </tr>\n",
              "    <tr>\n",
              "      <th>10237</th>\n",
              "      <td>10237</td>\n",
              "      <td>half-true</td>\n",
              "      <td>Says an alternative to Social Security that op...</td>\n",
              "      <td>retirement,social-security</td>\n",
              "      <td>herman-cain</td>\n",
              "      <td>NaN</td>\n",
              "      <td>Georgia</td>\n",
              "      <td>republican</td>\n",
              "      <td>4.0</td>\n",
              "      <td>11.0</td>\n",
              "      <td>5.0</td>\n",
              "      <td>3.0</td>\n",
              "      <td>3.0</td>\n",
              "      <td>a Republican presidential debate</td>\n",
              "      <td>1084</td>\n",
              "      <td>1</td>\n",
              "      <td>says alternative social security operates galv...</td>\n",
              "      <td>neu</td>\n",
              "      <td>0.7450</td>\n",
              "    </tr>\n",
              "    <tr>\n",
              "      <th>10238</th>\n",
              "      <td>10238</td>\n",
              "      <td>false</td>\n",
              "      <td>On lifting the U.S. Cuban embargo and allowing...</td>\n",
              "      <td>florida,foreign-policy</td>\n",
              "      <td>jeff-greene</td>\n",
              "      <td>NaN</td>\n",
              "      <td>Florida</td>\n",
              "      <td>democrat</td>\n",
              "      <td>3.0</td>\n",
              "      <td>1.0</td>\n",
              "      <td>3.0</td>\n",
              "      <td>0.0</td>\n",
              "      <td>0.0</td>\n",
              "      <td>a televised debate on Miami's WPLG-10 against ...</td>\n",
              "      <td>3647</td>\n",
              "      <td>1</td>\n",
              "      <td>lifting u cuban embargo allowing travel cuba</td>\n",
              "      <td>neu</td>\n",
              "      <td>1.0000</td>\n",
              "    </tr>\n",
              "    <tr>\n",
              "      <th>10239</th>\n",
              "      <td>10239</td>\n",
              "      <td>pants-fire</td>\n",
              "      <td>The Department of Veterans Affairs has a manua...</td>\n",
              "      <td>health-care,veterans</td>\n",
              "      <td>michael-steele</td>\n",
              "      <td>chairman of the Republican National Committee</td>\n",
              "      <td>Maryland</td>\n",
              "      <td>republican</td>\n",
              "      <td>0.0</td>\n",
              "      <td>1.0</td>\n",
              "      <td>1.0</td>\n",
              "      <td>0.0</td>\n",
              "      <td>2.0</td>\n",
              "      <td>a Fox News interview</td>\n",
              "      <td>5527</td>\n",
              "      <td>3</td>\n",
              "      <td>department veterans affairs manual telling vet...</td>\n",
              "      <td>compound</td>\n",
              "      <td>0.6478</td>\n",
              "    </tr>\n",
              "  </tbody>\n",
              "</table>\n",
              "<p>10240 rows × 19 columns</p>\n",
              "</div>"
            ],
            "text/plain": [
              "       Unnamed: 0        label  ... sentiment sentiment_score\n",
              "0               0        false  ...       neu          0.6670\n",
              "1               1    half-true  ...       neu          0.8280\n",
              "2               2  mostly-true  ...       neu          0.5520\n",
              "3               3        false  ...  compound          0.7579\n",
              "4               4    half-true  ...       neu          1.0000\n",
              "...           ...          ...  ...       ...             ...\n",
              "10235       10235  mostly-true  ...       neg          0.5150\n",
              "10236       10236  mostly-true  ...       neu          0.6900\n",
              "10237       10237    half-true  ...       neu          0.7450\n",
              "10238       10238        false  ...       neu          1.0000\n",
              "10239       10239   pants-fire  ...  compound          0.6478\n",
              "\n",
              "[10240 rows x 19 columns]"
            ]
          },
          "metadata": {
            "tags": []
          },
          "execution_count": 12
        }
      ]
    },
    {
      "cell_type": "code",
      "metadata": {
        "id": "eDFy5NY4q4vE",
        "colab_type": "code",
        "colab": {}
      },
      "source": [
        "le=LabelEncoder()\n",
        "\n",
        "# def tfidf(statement):\n",
        "#   vectorizer = TfidfVectorizer(stop_words='english')\n",
        "#   return vectorizer.fit_transform([statement]).to_array()\n"
      ],
      "execution_count": 0,
      "outputs": []
    },
    {
      "cell_type": "code",
      "metadata": {
        "id": "Qi1ebxOFz-LM",
        "colab_type": "code",
        "outputId": "50b821c6-6e1f-4eea-cc62-2f749786e734",
        "colab": {
          "base_uri": "https://localhost:8080/",
          "height": 1000
        }
      },
      "source": [
        "liar"
      ],
      "execution_count": 0,
      "outputs": [
        {
          "output_type": "execute_result",
          "data": {
            "text/html": [
              "<div>\n",
              "<style scoped>\n",
              "    .dataframe tbody tr th:only-of-type {\n",
              "        vertical-align: middle;\n",
              "    }\n",
              "\n",
              "    .dataframe tbody tr th {\n",
              "        vertical-align: top;\n",
              "    }\n",
              "\n",
              "    .dataframe thead th {\n",
              "        text-align: right;\n",
              "    }\n",
              "</style>\n",
              "<table border=\"1\" class=\"dataframe\">\n",
              "  <thead>\n",
              "    <tr style=\"text-align: right;\">\n",
              "      <th></th>\n",
              "      <th>Unnamed: 0</th>\n",
              "      <th>label</th>\n",
              "      <th>statement</th>\n",
              "      <th>subject</th>\n",
              "      <th>speaker</th>\n",
              "      <th>speaker_job_title</th>\n",
              "      <th>state info</th>\n",
              "      <th>party affiliation</th>\n",
              "      <th>barely_true_counts</th>\n",
              "      <th>false_counts</th>\n",
              "      <th>half_true_counts</th>\n",
              "      <th>mostly_true_counts</th>\n",
              "      <th>pants_on_fire_counts</th>\n",
              "      <th>context</th>\n",
              "      <th>similar_doc</th>\n",
              "      <th>Stance</th>\n",
              "      <th>cleanedStatement</th>\n",
              "      <th>sentiment</th>\n",
              "      <th>sentiment_score</th>\n",
              "    </tr>\n",
              "  </thead>\n",
              "  <tbody>\n",
              "    <tr>\n",
              "      <th>0</th>\n",
              "      <td>0</td>\n",
              "      <td>false</td>\n",
              "      <td>Says the Annies List political group supports ...</td>\n",
              "      <td>abortion</td>\n",
              "      <td>dwayne-bohac</td>\n",
              "      <td>State representative</td>\n",
              "      <td>Texas</td>\n",
              "      <td>republican</td>\n",
              "      <td>0.0</td>\n",
              "      <td>1.0</td>\n",
              "      <td>0.0</td>\n",
              "      <td>0.0</td>\n",
              "      <td>0.0</td>\n",
              "      <td>a mailer</td>\n",
              "      <td>4438</td>\n",
              "      <td>0</td>\n",
              "      <td>says annies list political group supports thir...</td>\n",
              "      <td>neu</td>\n",
              "      <td>0.6670</td>\n",
              "    </tr>\n",
              "    <tr>\n",
              "      <th>1</th>\n",
              "      <td>1</td>\n",
              "      <td>half-true</td>\n",
              "      <td>When did the decline of coal start? It started...</td>\n",
              "      <td>energy,history,job-accomplishments</td>\n",
              "      <td>scott-surovell</td>\n",
              "      <td>State delegate</td>\n",
              "      <td>Virginia</td>\n",
              "      <td>democrat</td>\n",
              "      <td>0.0</td>\n",
              "      <td>0.0</td>\n",
              "      <td>1.0</td>\n",
              "      <td>1.0</td>\n",
              "      <td>0.0</td>\n",
              "      <td>a floor speech.</td>\n",
              "      <td>1928</td>\n",
              "      <td>1</td>\n",
              "      <td>decline coal start started natural gas took st...</td>\n",
              "      <td>neu</td>\n",
              "      <td>0.8280</td>\n",
              "    </tr>\n",
              "    <tr>\n",
              "      <th>2</th>\n",
              "      <td>2</td>\n",
              "      <td>mostly-true</td>\n",
              "      <td>Hillary Clinton agrees with John McCain \"by vo...</td>\n",
              "      <td>foreign-policy</td>\n",
              "      <td>barack-obama</td>\n",
              "      <td>President</td>\n",
              "      <td>Illinois</td>\n",
              "      <td>democrat</td>\n",
              "      <td>70.0</td>\n",
              "      <td>71.0</td>\n",
              "      <td>160.0</td>\n",
              "      <td>163.0</td>\n",
              "      <td>9.0</td>\n",
              "      <td>Denver</td>\n",
              "      <td>4477</td>\n",
              "      <td>0</td>\n",
              "      <td>hillary clinton agrees john mccain voting give...</td>\n",
              "      <td>neu</td>\n",
              "      <td>0.5520</td>\n",
              "    </tr>\n",
              "    <tr>\n",
              "      <th>3</th>\n",
              "      <td>3</td>\n",
              "      <td>false</td>\n",
              "      <td>Health care reform legislation is likely to ma...</td>\n",
              "      <td>health-care</td>\n",
              "      <td>blog-posting</td>\n",
              "      <td>NaN</td>\n",
              "      <td>NaN</td>\n",
              "      <td>none</td>\n",
              "      <td>7.0</td>\n",
              "      <td>19.0</td>\n",
              "      <td>3.0</td>\n",
              "      <td>5.0</td>\n",
              "      <td>44.0</td>\n",
              "      <td>a news release</td>\n",
              "      <td>4051</td>\n",
              "      <td>1</td>\n",
              "      <td>health care reform legislation likely mandate ...</td>\n",
              "      <td>compound</td>\n",
              "      <td>0.7579</td>\n",
              "    </tr>\n",
              "    <tr>\n",
              "      <th>4</th>\n",
              "      <td>4</td>\n",
              "      <td>half-true</td>\n",
              "      <td>The economic turnaround started at the end of ...</td>\n",
              "      <td>economy,jobs</td>\n",
              "      <td>charlie-crist</td>\n",
              "      <td>NaN</td>\n",
              "      <td>Florida</td>\n",
              "      <td>democrat</td>\n",
              "      <td>15.0</td>\n",
              "      <td>9.0</td>\n",
              "      <td>20.0</td>\n",
              "      <td>19.0</td>\n",
              "      <td>2.0</td>\n",
              "      <td>an interview on CNN</td>\n",
              "      <td>4299</td>\n",
              "      <td>1</td>\n",
              "      <td>economic turnaround started end term</td>\n",
              "      <td>neu</td>\n",
              "      <td>1.0000</td>\n",
              "    </tr>\n",
              "    <tr>\n",
              "      <th>...</th>\n",
              "      <td>...</td>\n",
              "      <td>...</td>\n",
              "      <td>...</td>\n",
              "      <td>...</td>\n",
              "      <td>...</td>\n",
              "      <td>...</td>\n",
              "      <td>...</td>\n",
              "      <td>...</td>\n",
              "      <td>...</td>\n",
              "      <td>...</td>\n",
              "      <td>...</td>\n",
              "      <td>...</td>\n",
              "      <td>...</td>\n",
              "      <td>...</td>\n",
              "      <td>...</td>\n",
              "      <td>...</td>\n",
              "      <td>...</td>\n",
              "      <td>...</td>\n",
              "      <td>...</td>\n",
              "    </tr>\n",
              "    <tr>\n",
              "      <th>10235</th>\n",
              "      <td>10235</td>\n",
              "      <td>mostly-true</td>\n",
              "      <td>There are a larger number of shark attacks in ...</td>\n",
              "      <td>animals,elections</td>\n",
              "      <td>aclu-florida</td>\n",
              "      <td>NaN</td>\n",
              "      <td>Florida</td>\n",
              "      <td>none</td>\n",
              "      <td>0.0</td>\n",
              "      <td>1.0</td>\n",
              "      <td>1.0</td>\n",
              "      <td>1.0</td>\n",
              "      <td>0.0</td>\n",
              "      <td>interview on \"The Colbert Report\"</td>\n",
              "      <td>4179</td>\n",
              "      <td>3</td>\n",
              "      <td>larger number shark attacks florida cases vote...</td>\n",
              "      <td>neg</td>\n",
              "      <td>0.5150</td>\n",
              "    </tr>\n",
              "    <tr>\n",
              "      <th>10236</th>\n",
              "      <td>10236</td>\n",
              "      <td>mostly-true</td>\n",
              "      <td>Democrats have now become the party of the [At...</td>\n",
              "      <td>elections</td>\n",
              "      <td>alan-powell</td>\n",
              "      <td>NaN</td>\n",
              "      <td>Georgia</td>\n",
              "      <td>republican</td>\n",
              "      <td>0.0</td>\n",
              "      <td>0.0</td>\n",
              "      <td>0.0</td>\n",
              "      <td>1.0</td>\n",
              "      <td>0.0</td>\n",
              "      <td>an interview</td>\n",
              "      <td>1782</td>\n",
              "      <td>1</td>\n",
              "      <td>democrats become party atlanta metro area blacks</td>\n",
              "      <td>neu</td>\n",
              "      <td>0.6900</td>\n",
              "    </tr>\n",
              "    <tr>\n",
              "      <th>10237</th>\n",
              "      <td>10237</td>\n",
              "      <td>half-true</td>\n",
              "      <td>Says an alternative to Social Security that op...</td>\n",
              "      <td>retirement,social-security</td>\n",
              "      <td>herman-cain</td>\n",
              "      <td>NaN</td>\n",
              "      <td>Georgia</td>\n",
              "      <td>republican</td>\n",
              "      <td>4.0</td>\n",
              "      <td>11.0</td>\n",
              "      <td>5.0</td>\n",
              "      <td>3.0</td>\n",
              "      <td>3.0</td>\n",
              "      <td>a Republican presidential debate</td>\n",
              "      <td>1084</td>\n",
              "      <td>1</td>\n",
              "      <td>says alternative social security operates galv...</td>\n",
              "      <td>neu</td>\n",
              "      <td>0.7450</td>\n",
              "    </tr>\n",
              "    <tr>\n",
              "      <th>10238</th>\n",
              "      <td>10238</td>\n",
              "      <td>false</td>\n",
              "      <td>On lifting the U.S. Cuban embargo and allowing...</td>\n",
              "      <td>florida,foreign-policy</td>\n",
              "      <td>jeff-greene</td>\n",
              "      <td>NaN</td>\n",
              "      <td>Florida</td>\n",
              "      <td>democrat</td>\n",
              "      <td>3.0</td>\n",
              "      <td>1.0</td>\n",
              "      <td>3.0</td>\n",
              "      <td>0.0</td>\n",
              "      <td>0.0</td>\n",
              "      <td>a televised debate on Miami's WPLG-10 against ...</td>\n",
              "      <td>3647</td>\n",
              "      <td>1</td>\n",
              "      <td>lifting u cuban embargo allowing travel cuba</td>\n",
              "      <td>neu</td>\n",
              "      <td>1.0000</td>\n",
              "    </tr>\n",
              "    <tr>\n",
              "      <th>10239</th>\n",
              "      <td>10239</td>\n",
              "      <td>pants-fire</td>\n",
              "      <td>The Department of Veterans Affairs has a manua...</td>\n",
              "      <td>health-care,veterans</td>\n",
              "      <td>michael-steele</td>\n",
              "      <td>chairman of the Republican National Committee</td>\n",
              "      <td>Maryland</td>\n",
              "      <td>republican</td>\n",
              "      <td>0.0</td>\n",
              "      <td>1.0</td>\n",
              "      <td>1.0</td>\n",
              "      <td>0.0</td>\n",
              "      <td>2.0</td>\n",
              "      <td>a Fox News interview</td>\n",
              "      <td>5527</td>\n",
              "      <td>3</td>\n",
              "      <td>department veterans affairs manual telling vet...</td>\n",
              "      <td>compound</td>\n",
              "      <td>0.6478</td>\n",
              "    </tr>\n",
              "  </tbody>\n",
              "</table>\n",
              "<p>10240 rows × 19 columns</p>\n",
              "</div>"
            ],
            "text/plain": [
              "       Unnamed: 0        label  ... sentiment sentiment_score\n",
              "0               0        false  ...       neu          0.6670\n",
              "1               1    half-true  ...       neu          0.8280\n",
              "2               2  mostly-true  ...       neu          0.5520\n",
              "3               3        false  ...  compound          0.7579\n",
              "4               4    half-true  ...       neu          1.0000\n",
              "...           ...          ...  ...       ...             ...\n",
              "10235       10235  mostly-true  ...       neg          0.5150\n",
              "10236       10236  mostly-true  ...       neu          0.6900\n",
              "10237       10237    half-true  ...       neu          0.7450\n",
              "10238       10238        false  ...       neu          1.0000\n",
              "10239       10239   pants-fire  ...  compound          0.6478\n",
              "\n",
              "[10240 rows x 19 columns]"
            ]
          },
          "metadata": {
            "tags": []
          },
          "execution_count": 14
        }
      ]
    },
    {
      "cell_type": "code",
      "metadata": {
        "id": "dJgw_vPDPvvq",
        "colab_type": "code",
        "colab": {}
      },
      "source": [
        "def define_fake(item):\n",
        "  false=['false','barely-true','pants-fire']\n",
        "  if item in false:\n",
        "    return 0\n",
        "  return 1"
      ],
      "execution_count": 0,
      "outputs": []
    },
    {
      "cell_type": "code",
      "metadata": {
        "id": "QPw405kQrt7q",
        "colab_type": "code",
        "colab": {}
      },
      "source": [
        "le_speaker=LabelEncoder()\n",
        "le_speaker_job_title_code=LabelEncoder()\n",
        "le_state_info_code=LabelEncoder()\n",
        "le_speaker_job_title=LabelEncoder()\n",
        "\n",
        "\n",
        "le_speaker.fit(liar['speaker'].astype(str))\n",
        "le_speaker_job_title_code.fit(liar['speaker_job_title'].astype(str))\n",
        "le_state_info_code.fit(liar['state info'].astype(str))\n",
        "le_speaker_job_title.fit(liar['speaker_job_title'].astype(str))\n",
        "\n",
        "joblib.dump(le_speaker, 'le_speaker.pkl')\n",
        "joblib.dump(le_speaker_job_title_code, 'le_speaker_job_title_code.pkl')\n",
        "joblib.dump(le_state_info_code, 'le_state_info_code.pkl')\n",
        "\n",
        "\n",
        "\n",
        "\n",
        "\n",
        "liar['speaker_code']=le.fit_transform(liar['speaker'].astype(str))\n",
        "liar['speaker_job_title_code']=le.fit_transform(liar['speaker_job_title'].astype(str))\n",
        "liar['state info_code']=le.fit_transform(liar['state info'].astype(str))\n",
        "liar['sentiment_code']=le.fit_transform(liar['sentiment'].astype(str))\n",
        "liar['label_code']=le.fit_transform(liar['label'].astype(str))"
      ],
      "execution_count": 0,
      "outputs": []
    },
    {
      "cell_type": "code",
      "metadata": {
        "id": "8g-papz2UXH9",
        "colab_type": "code",
        "outputId": "ea45dee3-d7c2-4222-c1ef-8742295940be",
        "colab": {
          "base_uri": "https://localhost:8080/",
          "height": 34
        }
      },
      "source": [
        "le_speaker_job_title.transform(['State representative'])"
      ],
      "execution_count": 0,
      "outputs": [
        {
          "output_type": "execute_result",
          "data": {
            "text/plain": [
              "array([869])"
            ]
          },
          "metadata": {
            "tags": []
          },
          "execution_count": 19
        }
      ]
    },
    {
      "cell_type": "code",
      "metadata": {
        "id": "_p9toKUSxhw_",
        "colab_type": "code",
        "colab": {}
      },
      "source": [
        "liar_clean=liar[['barely_true_counts', 'false_counts', 'half_true_counts','mostly_true_counts', 'pants_on_fire_counts','Stance', 'speaker_code', 'state info_code','speaker_job_title_code','label_code']]"
      ],
      "execution_count": 0,
      "outputs": []
    },
    {
      "cell_type": "code",
      "metadata": {
        "id": "VgE5zHwsxiW6",
        "colab_type": "code",
        "outputId": "905da4fb-192d-4c4c-eddf-87e4a76e2c60",
        "colab": {
          "base_uri": "https://localhost:8080/",
          "height": 416
        }
      },
      "source": [
        "liar_clean"
      ],
      "execution_count": 0,
      "outputs": [
        {
          "output_type": "execute_result",
          "data": {
            "text/html": [
              "<div>\n",
              "<style scoped>\n",
              "    .dataframe tbody tr th:only-of-type {\n",
              "        vertical-align: middle;\n",
              "    }\n",
              "\n",
              "    .dataframe tbody tr th {\n",
              "        vertical-align: top;\n",
              "    }\n",
              "\n",
              "    .dataframe thead th {\n",
              "        text-align: right;\n",
              "    }\n",
              "</style>\n",
              "<table border=\"1\" class=\"dataframe\">\n",
              "  <thead>\n",
              "    <tr style=\"text-align: right;\">\n",
              "      <th></th>\n",
              "      <th>barely_true_counts</th>\n",
              "      <th>false_counts</th>\n",
              "      <th>half_true_counts</th>\n",
              "      <th>mostly_true_counts</th>\n",
              "      <th>pants_on_fire_counts</th>\n",
              "      <th>Stance</th>\n",
              "      <th>speaker_code</th>\n",
              "      <th>state info_code</th>\n",
              "      <th>speaker_job_title_code</th>\n",
              "      <th>label_code</th>\n",
              "    </tr>\n",
              "  </thead>\n",
              "  <tbody>\n",
              "    <tr>\n",
              "      <th>0</th>\n",
              "      <td>0.0</td>\n",
              "      <td>1.0</td>\n",
              "      <td>0.0</td>\n",
              "      <td>0.0</td>\n",
              "      <td>0.0</td>\n",
              "      <td>0</td>\n",
              "      <td>814</td>\n",
              "      <td>62</td>\n",
              "      <td>869</td>\n",
              "      <td>1</td>\n",
              "    </tr>\n",
              "    <tr>\n",
              "      <th>1</th>\n",
              "      <td>0.0</td>\n",
              "      <td>0.0</td>\n",
              "      <td>1.0</td>\n",
              "      <td>1.0</td>\n",
              "      <td>0.0</td>\n",
              "      <td>1</td>\n",
              "      <td>2492</td>\n",
              "      <td>69</td>\n",
              "      <td>867</td>\n",
              "      <td>2</td>\n",
              "    </tr>\n",
              "    <tr>\n",
              "      <th>2</th>\n",
              "      <td>70.0</td>\n",
              "      <td>71.0</td>\n",
              "      <td>160.0</td>\n",
              "      <td>163.0</td>\n",
              "      <td>9.0</td>\n",
              "      <td>0</td>\n",
              "      <td>182</td>\n",
              "      <td>19</td>\n",
              "      <td>642</td>\n",
              "      <td>3</td>\n",
              "    </tr>\n",
              "    <tr>\n",
              "      <th>3</th>\n",
              "      <td>7.0</td>\n",
              "      <td>19.0</td>\n",
              "      <td>3.0</td>\n",
              "      <td>5.0</td>\n",
              "      <td>44.0</td>\n",
              "      <td>1</td>\n",
              "      <td>272</td>\n",
              "      <td>82</td>\n",
              "      <td>1098</td>\n",
              "      <td>1</td>\n",
              "    </tr>\n",
              "    <tr>\n",
              "      <th>4</th>\n",
              "      <td>15.0</td>\n",
              "      <td>9.0</td>\n",
              "      <td>20.0</td>\n",
              "      <td>19.0</td>\n",
              "      <td>2.0</td>\n",
              "      <td>1</td>\n",
              "      <td>428</td>\n",
              "      <td>13</td>\n",
              "      <td>1098</td>\n",
              "      <td>2</td>\n",
              "    </tr>\n",
              "    <tr>\n",
              "      <th>...</th>\n",
              "      <td>...</td>\n",
              "      <td>...</td>\n",
              "      <td>...</td>\n",
              "      <td>...</td>\n",
              "      <td>...</td>\n",
              "      <td>...</td>\n",
              "      <td>...</td>\n",
              "      <td>...</td>\n",
              "      <td>...</td>\n",
              "      <td>...</td>\n",
              "    </tr>\n",
              "    <tr>\n",
              "      <th>10235</th>\n",
              "      <td>0.0</td>\n",
              "      <td>1.0</td>\n",
              "      <td>1.0</td>\n",
              "      <td>1.0</td>\n",
              "      <td>0.0</td>\n",
              "      <td>3</td>\n",
              "      <td>12</td>\n",
              "      <td>13</td>\n",
              "      <td>1098</td>\n",
              "      <td>3</td>\n",
              "    </tr>\n",
              "    <tr>\n",
              "      <th>10236</th>\n",
              "      <td>0.0</td>\n",
              "      <td>0.0</td>\n",
              "      <td>0.0</td>\n",
              "      <td>1.0</td>\n",
              "      <td>0.0</td>\n",
              "      <td>1</td>\n",
              "      <td>36</td>\n",
              "      <td>15</td>\n",
              "      <td>1098</td>\n",
              "      <td>3</td>\n",
              "    </tr>\n",
              "    <tr>\n",
              "      <th>10237</th>\n",
              "      <td>4.0</td>\n",
              "      <td>11.0</td>\n",
              "      <td>5.0</td>\n",
              "      <td>3.0</td>\n",
              "      <td>3.0</td>\n",
              "      <td>1</td>\n",
              "      <td>1108</td>\n",
              "      <td>15</td>\n",
              "      <td>1098</td>\n",
              "      <td>2</td>\n",
              "    </tr>\n",
              "    <tr>\n",
              "      <th>10238</th>\n",
              "      <td>3.0</td>\n",
              "      <td>1.0</td>\n",
              "      <td>3.0</td>\n",
              "      <td>0.0</td>\n",
              "      <td>0.0</td>\n",
              "      <td>1</td>\n",
              "      <td>1243</td>\n",
              "      <td>13</td>\n",
              "      <td>1098</td>\n",
              "      <td>1</td>\n",
              "    </tr>\n",
              "    <tr>\n",
              "      <th>10239</th>\n",
              "      <td>0.0</td>\n",
              "      <td>1.0</td>\n",
              "      <td>1.0</td>\n",
              "      <td>0.0</td>\n",
              "      <td>2.0</td>\n",
              "      <td>3</td>\n",
              "      <td>1885</td>\n",
              "      <td>27</td>\n",
              "      <td>1005</td>\n",
              "      <td>4</td>\n",
              "    </tr>\n",
              "  </tbody>\n",
              "</table>\n",
              "<p>10240 rows × 10 columns</p>\n",
              "</div>"
            ],
            "text/plain": [
              "       barely_true_counts  false_counts  ...  speaker_job_title_code  label_code\n",
              "0                     0.0           1.0  ...                     869           1\n",
              "1                     0.0           0.0  ...                     867           2\n",
              "2                    70.0          71.0  ...                     642           3\n",
              "3                     7.0          19.0  ...                    1098           1\n",
              "4                    15.0           9.0  ...                    1098           2\n",
              "...                   ...           ...  ...                     ...         ...\n",
              "10235                 0.0           1.0  ...                    1098           3\n",
              "10236                 0.0           0.0  ...                    1098           3\n",
              "10237                 4.0          11.0  ...                    1098           2\n",
              "10238                 3.0           1.0  ...                    1098           1\n",
              "10239                 0.0           1.0  ...                    1005           4\n",
              "\n",
              "[10240 rows x 10 columns]"
            ]
          },
          "metadata": {
            "tags": []
          },
          "execution_count": 21
        }
      ]
    },
    {
      "cell_type": "code",
      "metadata": {
        "id": "9S7FVKV4Vkhm",
        "colab_type": "code",
        "colab": {}
      },
      "source": [
        "corr=liar_clean.corr()"
      ],
      "execution_count": 0,
      "outputs": []
    },
    {
      "cell_type": "code",
      "metadata": {
        "id": "BQmWjv4bVn3q",
        "colab_type": "code",
        "outputId": "4fa91dd8-95d8-4eff-e095-b56e1440ee08",
        "colab": {
          "base_uri": "https://localhost:8080/",
          "height": 72
        }
      },
      "source": [
        "import seaborn as sns"
      ],
      "execution_count": 0,
      "outputs": [
        {
          "output_type": "stream",
          "text": [
            "/usr/local/lib/python3.6/dist-packages/statsmodels/tools/_testing.py:19: FutureWarning: pandas.util.testing is deprecated. Use the functions in the public API at pandas.testing instead.\n",
            "  import pandas.util.testing as tm\n"
          ],
          "name": "stderr"
        }
      ]
    },
    {
      "cell_type": "code",
      "metadata": {
        "id": "GtuFvwjyVqwh",
        "colab_type": "code",
        "outputId": "f0027b16-64f4-4eb9-8952-5376720f693c",
        "colab": {
          "base_uri": "https://localhost:8080/",
          "height": 661
        }
      },
      "source": [
        "import matplotlib.pyplot as plt\n",
        "f, ax = plt.subplots(figsize=(11, 9))\n",
        "cmap = sns.diverging_palette(220, 10, as_cmap=True)\n",
        "sns.heatmap(corr)"
      ],
      "execution_count": 0,
      "outputs": [
        {
          "output_type": "execute_result",
          "data": {
            "text/plain": [
              "<matplotlib.axes._subplots.AxesSubplot at 0x7f43ff894e48>"
            ]
          },
          "metadata": {
            "tags": []
          },
          "execution_count": 24
        },
        {
          "output_type": "display_data",
          "data": {
            "image/png": "[encoded data removed]",
            "text/plain": [
              "<Figure size 792x648 with 2 Axes>"
            ]
          },
          "metadata": {
            "tags": [],
            "needs_background": "light"
          }
        }
      ]
    },
    {
      "cell_type": "code",
      "metadata": {
        "id": "2KUI6IE7ytHA",
        "colab_type": "code",
        "colab": {}
      },
      "source": [
        "from sklearn.metrics import plot_confusion_matrix\n",
        "def fitModelsAndPredict(models_dict,X_train,y_train,X_test,y_test):\n",
        "  accuracy={}\n",
        "  specificity={}\n",
        "  sensitivity={}\n",
        "  model_save=None\n",
        "  i=0\n",
        "  #models_dict holds name and its function , like {'LR':LogsticRegression()}\n",
        "  for name,model in models_dict.items():\n",
        "      #fitting model on the train data\n",
        "      model.fit(X_train,y_train)\n",
        "      joblib.dump(model, name+'.pkl')\n",
        "      #predicting model on X_test \n",
        "      model_save=model\n",
        "      y_pred=model.predict(X_test)\n",
        "      print('*'*100)\n",
        "      print('Model:',name)\n",
        "      #printing Confusion matrix an dAccuracy of each model\n",
        "      print(\"Confusion Matrix: \")\n",
        "      print(confusion_matrix(y_test, y_pred))\n",
        "      print(\"Accuracy : \",accuracy_score(y_test,y_pred)*100)\n",
        "\n",
        "      #mainitaing a dictionary of results of accuracy of each model to use it to plot in one systyem\n",
        "      accuracy[name]=accuracy_score(y_test,y_pred)*100\n",
        "      cm=confusion_matrix(y_test, y_pred)\n",
        "      sensitivity[name] = (cm[0,0]/(cm[0,0]+cm[0,1]))*100\n",
        "      specificity[name] = (cm[1,1]/(cm[1,0]+cm[1,1]))*100\n",
        "      print(\"Classificarion Report : \")\n",
        "      print(classification_report(y_test, y_pred))\n",
        "      \n",
        "  \n",
        "  #converting dictionaries to dataframes to have them handy\n",
        "  accuracy=pd.DataFrame.from_dict(accuracy,orient='index').reset_index()\n",
        "  sensitivity=pd.DataFrame.from_dict(sensitivity,orient='index').reset_index()\n",
        "  specificity=pd.DataFrame.from_dict(specificity,orient='index').reset_index()\n",
        "  # print(accuracy)\n",
        "  accuracy.columns=['model_name','accuracy']\n",
        "  sensitivity.columns=['model_name','sensitivity']\n",
        "  specificity.columns=['model_name','specificity']\n",
        "  \n",
        "  #plotting accuracy,sensitivity,specificity of each model\n",
        "  plt.figure(i+1,figsize=(16, 6))\n",
        "  ax = sns.lineplot(data=accuracy, x='model_name', y='accuracy',legend='full')\n",
        "  ax = sns.lineplot(data=sensitivity, x='model_name', y='sensitivity',legend='full')\n",
        "  ax = sns.lineplot(data=specificity, x='model_name', y='specificity',legend='full')\n",
        "  ax = sns.barplot(data=accuracy, x='model_name', y='accuracy')\n",
        "  plt.title('Blue :Accuracy,Orange: Senstivity,Green : Specicificity ')\n",
        "  return model_save"
      ],
      "execution_count": 0,
      "outputs": []
    },
    {
      "cell_type": "code",
      "metadata": {
        "id": "t8oUFeqZ1Zjy",
        "colab_type": "code",
        "colab": {}
      },
      "source": [
        "liar_clean=liar_clean.fillna(0)\n",
        "X=liar_clean.loc[:,liar_clean.columns!='label_code']\n",
        "Y=liar_clean.loc[:,liar_clean.columns=='label_code']\n",
        "X_train, X_test, y_train, y_test = train_test_split(X, Y, test_size=0.6, random_state=1)"
      ],
      "execution_count": 0,
      "outputs": []
    },
    {
      "cell_type": "code",
      "metadata": {
        "id": "g_kgVjvvWM3c",
        "colab_type": "code",
        "outputId": "d9eb235c-b950-48b7-df7b-8ebc3ed5c3e8",
        "colab": {
          "base_uri": "https://localhost:8080/",
          "height": 416
        }
      },
      "source": [
        "X_train"
      ],
      "execution_count": 0,
      "outputs": [
        {
          "output_type": "execute_result",
          "data": {
            "text/html": [
              "<div>\n",
              "<style scoped>\n",
              "    .dataframe tbody tr th:only-of-type {\n",
              "        vertical-align: middle;\n",
              "    }\n",
              "\n",
              "    .dataframe tbody tr th {\n",
              "        vertical-align: top;\n",
              "    }\n",
              "\n",
              "    .dataframe thead th {\n",
              "        text-align: right;\n",
              "    }\n",
              "</style>\n",
              "<table border=\"1\" class=\"dataframe\">\n",
              "  <thead>\n",
              "    <tr style=\"text-align: right;\">\n",
              "      <th></th>\n",
              "      <th>barely_true_counts</th>\n",
              "      <th>false_counts</th>\n",
              "      <th>half_true_counts</th>\n",
              "      <th>mostly_true_counts</th>\n",
              "      <th>pants_on_fire_counts</th>\n",
              "      <th>Stance</th>\n",
              "      <th>speaker_code</th>\n",
              "      <th>state info_code</th>\n",
              "      <th>speaker_job_title_code</th>\n",
              "    </tr>\n",
              "  </thead>\n",
              "  <tbody>\n",
              "    <tr>\n",
              "      <th>6316</th>\n",
              "      <td>0.0</td>\n",
              "      <td>0.0</td>\n",
              "      <td>1.0</td>\n",
              "      <td>1.0</td>\n",
              "      <td>0.0</td>\n",
              "      <td>0</td>\n",
              "      <td>1349</td>\n",
              "      <td>51</td>\n",
              "      <td>223</td>\n",
              "    </tr>\n",
              "    <tr>\n",
              "      <th>4332</th>\n",
              "      <td>0.0</td>\n",
              "      <td>0.0</td>\n",
              "      <td>0.0</td>\n",
              "      <td>1.0</td>\n",
              "      <td>0.0</td>\n",
              "      <td>3</td>\n",
              "      <td>791</td>\n",
              "      <td>15</td>\n",
              "      <td>924</td>\n",
              "    </tr>\n",
              "    <tr>\n",
              "      <th>8927</th>\n",
              "      <td>2.0</td>\n",
              "      <td>4.0</td>\n",
              "      <td>1.0</td>\n",
              "      <td>2.0</td>\n",
              "      <td>1.0</td>\n",
              "      <td>1</td>\n",
              "      <td>1776</td>\n",
              "      <td>79</td>\n",
              "      <td>252</td>\n",
              "    </tr>\n",
              "    <tr>\n",
              "      <th>8957</th>\n",
              "      <td>31.0</td>\n",
              "      <td>39.0</td>\n",
              "      <td>31.0</td>\n",
              "      <td>37.0</td>\n",
              "      <td>8.0</td>\n",
              "      <td>1</td>\n",
              "      <td>1416</td>\n",
              "      <td>2</td>\n",
              "      <td>949</td>\n",
              "    </tr>\n",
              "    <tr>\n",
              "      <th>7860</th>\n",
              "      <td>0.0</td>\n",
              "      <td>4.0</td>\n",
              "      <td>2.0</td>\n",
              "      <td>8.0</td>\n",
              "      <td>0.0</td>\n",
              "      <td>1</td>\n",
              "      <td>571</td>\n",
              "      <td>39</td>\n",
              "      <td>949</td>\n",
              "    </tr>\n",
              "    <tr>\n",
              "      <th>...</th>\n",
              "      <td>...</td>\n",
              "      <td>...</td>\n",
              "      <td>...</td>\n",
              "      <td>...</td>\n",
              "      <td>...</td>\n",
              "      <td>...</td>\n",
              "      <td>...</td>\n",
              "      <td>...</td>\n",
              "      <td>...</td>\n",
              "    </tr>\n",
              "    <tr>\n",
              "      <th>2895</th>\n",
              "      <td>11.0</td>\n",
              "      <td>8.0</td>\n",
              "      <td>5.0</td>\n",
              "      <td>1.0</td>\n",
              "      <td>9.0</td>\n",
              "      <td>1</td>\n",
              "      <td>718</td>\n",
              "      <td>82</td>\n",
              "      <td>1098</td>\n",
              "    </tr>\n",
              "    <tr>\n",
              "      <th>7813</th>\n",
              "      <td>15.0</td>\n",
              "      <td>9.0</td>\n",
              "      <td>20.0</td>\n",
              "      <td>19.0</td>\n",
              "      <td>2.0</td>\n",
              "      <td>0</td>\n",
              "      <td>428</td>\n",
              "      <td>13</td>\n",
              "      <td>1098</td>\n",
              "    </tr>\n",
              "    <tr>\n",
              "      <th>905</th>\n",
              "      <td>70.0</td>\n",
              "      <td>71.0</td>\n",
              "      <td>160.0</td>\n",
              "      <td>163.0</td>\n",
              "      <td>9.0</td>\n",
              "      <td>1</td>\n",
              "      <td>182</td>\n",
              "      <td>19</td>\n",
              "      <td>642</td>\n",
              "    </tr>\n",
              "    <tr>\n",
              "      <th>5192</th>\n",
              "      <td>34.0</td>\n",
              "      <td>32.0</td>\n",
              "      <td>58.0</td>\n",
              "      <td>33.0</td>\n",
              "      <td>19.0</td>\n",
              "      <td>1</td>\n",
              "      <td>1952</td>\n",
              "      <td>28</td>\n",
              "      <td>362</td>\n",
              "    </tr>\n",
              "    <tr>\n",
              "      <th>235</th>\n",
              "      <td>7.0</td>\n",
              "      <td>8.0</td>\n",
              "      <td>10.0</td>\n",
              "      <td>12.0</td>\n",
              "      <td>3.0</td>\n",
              "      <td>0</td>\n",
              "      <td>2246</td>\n",
              "      <td>24</td>\n",
              "      <td>120</td>\n",
              "    </tr>\n",
              "  </tbody>\n",
              "</table>\n",
              "<p>4096 rows × 9 columns</p>\n",
              "</div>"
            ],
            "text/plain": [
              "      barely_true_counts  false_counts  ...  state info_code  speaker_job_title_code\n",
              "6316                 0.0           0.0  ...               51                     223\n",
              "4332                 0.0           0.0  ...               15                     924\n",
              "8927                 2.0           4.0  ...               79                     252\n",
              "8957                31.0          39.0  ...                2                     949\n",
              "7860                 0.0           4.0  ...               39                     949\n",
              "...                  ...           ...  ...              ...                     ...\n",
              "2895                11.0           8.0  ...               82                    1098\n",
              "7813                15.0           9.0  ...               13                    1098\n",
              "905                 70.0          71.0  ...               19                     642\n",
              "5192                34.0          32.0  ...               28                     362\n",
              "235                  7.0           8.0  ...               24                     120\n",
              "\n",
              "[4096 rows x 9 columns]"
            ]
          },
          "metadata": {
            "tags": []
          },
          "execution_count": 27
        }
      ]
    },
    {
      "cell_type": "code",
      "metadata": {
        "id": "3BluGspG1_6q",
        "colab_type": "code",
        "outputId": "5f5dec72-83d3-4f85-e585-9de2883a8a8f",
        "colab": {
          "base_uri": "https://localhost:8080/",
          "height": 72
        }
      },
      "source": [
        "import joblib\n",
        "from sklearn.ensemble import RandomForestClassifier\n",
        "from sklearn.linear_model import LogisticRegression,LinearRegression\n",
        "from sklearn.tree import DecisionTreeClassifier\n",
        "from sklearn.neighbors import KNeighborsClassifier\n",
        "from sklearn.discriminant_analysis import LinearDiscriminantAnalysis\n",
        "from sklearn.naive_bayes import GaussianNB\n",
        "from sklearn.svm import SVC\n",
        "from xgboost import XGBClassifier\n",
        "from sklearn.cluster import KMeans\n",
        "from yellowbrick.cluster import KElbowVisualizer\n",
        "from sklearn.mixture import GaussianMixture as GMM\n",
        "from sklearn.decomposition import PCA\n",
        "from sklearn.metrics import accuracy_score, confusion_matrix, classification_report, fbeta_score\n",
        "import matplotlib.pyplot as plt\n",
        "import seaborn as sns"
      ],
      "execution_count": 0,
      "outputs": [
        {
          "output_type": "stream",
          "text": [
            "/usr/local/lib/python3.6/dist-packages/sklearn/utils/deprecation.py:144: FutureWarning: The sklearn.metrics.classification module is  deprecated in version 0.22 and will be removed in version 0.24. The corresponding classes / functions should instead be imported from sklearn.metrics. Anything that cannot be imported from sklearn.metrics is now part of the private API.\n",
            "  warnings.warn(message, FutureWarning)\n"
          ],
          "name": "stderr"
        }
      ]
    },
    {
      "cell_type": "code",
      "metadata": {
        "id": "cyTfQ5EQ177d",
        "colab_type": "code",
        "colab": {}
      },
      "source": [
        "models_dict={}\n",
        "# models_dict['LinearRegression']       = LinearRegression()\n",
        "models_dict['LogisticRegression']     = LogisticRegression()\n",
        "models_dict['Dtree']                  = DecisionTreeClassifier()\n",
        "models_dict['NB']                     = GaussianNB()\n",
        "models_dict['XGB']                    = XGBClassifier()\n",
        "models_dict['RForest']                = RandomForestClassifier()\n",
        "models_dict['SVM']                    = SVC(gamma='auto')\n",
        "models_dict['KNN']                    = KNeighborsClassifier()"
      ],
      "execution_count": 0,
      "outputs": []
    },
    {
      "cell_type": "code",
      "metadata": {
        "id": "n2RHmywO1tTf",
        "colab_type": "code",
        "outputId": "c20b5be8-7e4b-43cc-ddb9-33249d964ef4",
        "colab": {
          "base_uri": "https://localhost:8080/",
          "height": 1000
        }
      },
      "source": [
        "fitModelsAndPredict(models_dict,X_train,y_train,X_test,y_test)"
      ],
      "execution_count": 0,
      "outputs": [
        {
          "output_type": "stream",
          "text": [
            "/usr/local/lib/python3.6/dist-packages/sklearn/utils/validation.py:760: DataConversionWarning: A column-vector y was passed when a 1d array was expected. Please change the shape of y to (n_samples, ), for example using ravel().\n",
            "  y = column_or_1d(y, warn=True)\n",
            "/usr/local/lib/python3.6/dist-packages/sklearn/linear_model/_logistic.py:940: ConvergenceWarning: lbfgs failed to converge (status=1):\n",
            "STOP: TOTAL NO. of ITERATIONS REACHED LIMIT.\n",
            "\n",
            "Increase the number of iterations (max_iter) or scale the data as shown in:\n",
            "    https://scikit-learn.org/stable/modules/preprocessing.html\n",
            "Please also refer to the documentation for alternative solver options:\n",
            "    https://scikit-learn.org/stable/modules/linear_model.html#logistic-regression\n",
            "  extra_warning_msg=_LOGISTIC_SOLVER_CONVERGENCE_MSG)\n",
            "/usr/local/lib/python3.6/dist-packages/sklearn/naive_bayes.py:206: DataConversionWarning: A column-vector y was passed when a 1d array was expected. Please change the shape of y to (n_samples, ), for example using ravel().\n",
            "  y = column_or_1d(y, warn=True)\n",
            "/usr/local/lib/python3.6/dist-packages/sklearn/preprocessing/_label.py:235: DataConversionWarning: A column-vector y was passed when a 1d array was expected. Please change the shape of y to (n_samples, ), for example using ravel().\n",
            "  y = column_or_1d(y, warn=True)\n",
            "/usr/local/lib/python3.6/dist-packages/sklearn/preprocessing/_label.py:268: DataConversionWarning: A column-vector y was passed when a 1d array was expected. Please change the shape of y to (n_samples, ), for example using ravel().\n",
            "  y = column_or_1d(y, warn=True)\n"
          ],
          "name": "stderr"
        },
        {
          "output_type": "stream",
          "text": [
            "****************************************************************************************************\n",
            "Model: LogisticRegression\n",
            "Confusion Matrix: \n",
            "[[ 34 309 433 154   9  18]\n",
            " [ 33 491 470 161  33  15]\n",
            " [ 25 323 672 235   8  30]\n",
            " [ 14 271 521 325   8  43]\n",
            " [ 13 213 174  47  55   2]\n",
            " [ 23 274 469 217   6  16]]\n",
            "Accuracy :  25.927734375\n",
            "Classificarion Report : \n",
            "              precision    recall  f1-score   support\n",
            "\n",
            "           0       0.24      0.04      0.06       957\n",
            "           1       0.26      0.41      0.32      1203\n",
            "           2       0.25      0.52      0.33      1293\n",
            "           3       0.29      0.27      0.28      1182\n",
            "           4       0.46      0.11      0.18       504\n",
            "           5       0.13      0.02      0.03      1005\n",
            "\n",
            "    accuracy                           0.26      6144\n",
            "   macro avg       0.27      0.23      0.20      6144\n",
            "weighted avg       0.25      0.26      0.22      6144\n",
            "\n",
            "****************************************************************************************************\n",
            "Model: Dtree\n",
            "Confusion Matrix: \n",
            "[[389 178 188  90  26  86]\n",
            " [206 461 198 127  79 132]\n",
            " [241 158 502 168  49 175]\n",
            " [181 153 281 363  26 178]\n",
            " [ 95 102  58  34 183  32]\n",
            " [176 141 204 167  26 291]]\n",
            "Accuracy :  35.62825520833333\n",
            "Classificarion Report : \n",
            "              precision    recall  f1-score   support\n",
            "\n",
            "           0       0.30      0.41      0.35       957\n",
            "           1       0.39      0.38      0.38      1203\n",
            "           2       0.35      0.39      0.37      1293\n",
            "           3       0.38      0.31      0.34      1182\n",
            "           4       0.47      0.36      0.41       504\n",
            "           5       0.33      0.29      0.31      1005\n",
            "\n",
            "    accuracy                           0.36      6144\n",
            "   macro avg       0.37      0.36      0.36      6144\n",
            "weighted avg       0.36      0.36      0.36      6144\n",
            "\n",
            "****************************************************************************************************\n",
            "Model: NB\n",
            "Confusion Matrix: \n",
            "[[ 33  51 632  36 179  26]\n",
            " [ 21  91 777  45 238  31]\n",
            " [ 26  61 828  89 241  48]\n",
            " [ 23  28 790  83 188  70]\n",
            " [  9  54 258   7 168   8]\n",
            " [ 21  22 700  60 156  46]]\n",
            "Accuracy :  20.328776041666664\n",
            "Classificarion Report : \n",
            "              precision    recall  f1-score   support\n",
            "\n",
            "           0       0.25      0.03      0.06       957\n",
            "           1       0.30      0.08      0.12      1203\n",
            "           2       0.21      0.64      0.31      1293\n",
            "           3       0.26      0.07      0.11      1182\n",
            "           4       0.14      0.33      0.20       504\n",
            "           5       0.20      0.05      0.07      1005\n",
            "\n",
            "    accuracy                           0.20      6144\n",
            "   macro avg       0.23      0.20      0.15      6144\n",
            "weighted avg       0.23      0.20      0.15      6144\n",
            "\n",
            "****************************************************************************************************\n",
            "Model: XGB\n",
            "Confusion Matrix: \n",
            "[[393 212 200 107  19  26]\n",
            " [117 615 213 150  74  34]\n",
            " [139 205 639 212  44  54]\n",
            " [106 154 269 554  25  74]\n",
            " [ 57 115  72  36 216   8]\n",
            " [131 156 244 197  25 252]]\n",
            "Accuracy :  43.44075520833333\n",
            "Classificarion Report : \n",
            "              precision    recall  f1-score   support\n",
            "\n",
            "           0       0.42      0.41      0.41       957\n",
            "           1       0.42      0.51      0.46      1203\n",
            "           2       0.39      0.49      0.44      1293\n",
            "           3       0.44      0.47      0.45      1182\n",
            "           4       0.54      0.43      0.48       504\n",
            "           5       0.56      0.25      0.35      1005\n",
            "\n",
            "    accuracy                           0.43      6144\n",
            "   macro avg       0.46      0.43      0.43      6144\n",
            "weighted avg       0.45      0.43      0.43      6144\n",
            "\n"
          ],
          "name": "stdout"
        },
        {
          "output_type": "stream",
          "text": [
            "/usr/local/lib/python3.6/dist-packages/ipykernel_launcher.py:11: DataConversionWarning: A column-vector y was passed when a 1d array was expected. Please change the shape of y to (n_samples,), for example using ravel().\n",
            "  # This is added back by InteractiveShellApp.init_path()\n"
          ],
          "name": "stderr"
        },
        {
          "output_type": "stream",
          "text": [
            "****************************************************************************************************\n",
            "Model: RForest\n",
            "Confusion Matrix: \n",
            "[[355 158 198 123  35  88]\n",
            " [160 465 200 158  84 136]\n",
            " [168 141 536 235  57 156]\n",
            " [144 135 278 438  29 158]\n",
            " [ 70 100  65  44 192  33]\n",
            " [129 121 215 191  27 322]]\n",
            "Accuracy :  37.56510416666667\n",
            "Classificarion Report : \n",
            "              precision    recall  f1-score   support\n",
            "\n",
            "           0       0.35      0.37      0.36       957\n",
            "           1       0.42      0.39      0.40      1203\n",
            "           2       0.36      0.41      0.38      1293\n",
            "           3       0.37      0.37      0.37      1182\n",
            "           4       0.45      0.38      0.41       504\n",
            "           5       0.36      0.32      0.34      1005\n",
            "\n",
            "    accuracy                           0.38      6144\n",
            "   macro avg       0.38      0.37      0.38      6144\n",
            "weighted avg       0.38      0.38      0.38      6144\n",
            "\n"
          ],
          "name": "stdout"
        },
        {
          "output_type": "stream",
          "text": [
            "/usr/local/lib/python3.6/dist-packages/sklearn/utils/validation.py:760: DataConversionWarning: A column-vector y was passed when a 1d array was expected. Please change the shape of y to (n_samples, ), for example using ravel().\n",
            "  y = column_or_1d(y, warn=True)\n"
          ],
          "name": "stderr"
        },
        {
          "output_type": "stream",
          "text": [
            "****************************************************************************************************\n",
            "Model: SVM\n",
            "Confusion Matrix: \n",
            "[[123 161 418 159  19  77]\n",
            " [132 233 493 184  47 114]\n",
            " [161 171 567 262  17 115]\n",
            " [112 146 501 243  12 168]\n",
            " [ 63 115 184  50  64  28]\n",
            " [ 93  98 452 197   9 156]]\n",
            "Accuracy :  22.55859375\n",
            "Classificarion Report : \n",
            "              precision    recall  f1-score   support\n",
            "\n",
            "           0       0.18      0.13      0.15       957\n",
            "           1       0.25      0.19      0.22      1203\n",
            "           2       0.22      0.44      0.29      1293\n",
            "           3       0.22      0.21      0.21      1182\n",
            "           4       0.38      0.13      0.19       504\n",
            "           5       0.24      0.16      0.19      1005\n",
            "\n",
            "    accuracy                           0.23      6144\n",
            "   macro avg       0.25      0.21      0.21      6144\n",
            "weighted avg       0.24      0.23      0.21      6144\n",
            "\n"
          ],
          "name": "stdout"
        },
        {
          "output_type": "stream",
          "text": [
            "/usr/local/lib/python3.6/dist-packages/ipykernel_launcher.py:11: DataConversionWarning: A column-vector y was passed when a 1d array was expected. Please change the shape of y to (n_samples, ), for example using ravel().\n",
            "  # This is added back by InteractiveShellApp.init_path()\n"
          ],
          "name": "stderr"
        },
        {
          "output_type": "stream",
          "text": [
            "****************************************************************************************************\n",
            "Model: KNN\n",
            "Confusion Matrix: \n",
            "[[269 250 201 119  32  86]\n",
            " [317 329 224 152  52 129]\n",
            " [366 260 287 195  39 146]\n",
            " [295 247 288 179  23 150]\n",
            " [117 154  83  50  72  28]\n",
            " [269 182 243 167  16 128]]\n",
            "Accuracy :  20.572916666666664\n",
            "Classificarion Report : \n",
            "              precision    recall  f1-score   support\n",
            "\n",
            "           0       0.16      0.28      0.21       957\n",
            "           1       0.23      0.27      0.25      1203\n",
            "           2       0.22      0.22      0.22      1293\n",
            "           3       0.21      0.15      0.18      1182\n",
            "           4       0.31      0.14      0.20       504\n",
            "           5       0.19      0.13      0.15      1005\n",
            "\n",
            "    accuracy                           0.21      6144\n",
            "   macro avg       0.22      0.20      0.20      6144\n",
            "weighted avg       0.21      0.21      0.20      6144\n",
            "\n"
          ],
          "name": "stdout"
        },
        {
          "output_type": "execute_result",
          "data": {
            "text/plain": [
              "KNeighborsClassifier(algorithm='auto', leaf_size=30, metric='minkowski',\n",
              "                     metric_params=None, n_jobs=None, n_neighbors=5, p=2,\n",
              "                     weights='uniform')"
            ]
          },
          "metadata": {
            "tags": []
          },
          "execution_count": 30
        },
        {
          "output_type": "display_data",
          "data": {
            "image/png": "[encoded data removed]",
            "text/plain": [
              "<Figure size 1152x432 with 1 Axes>"
            ]
          },
          "metadata": {
            "tags": []
          }
        }
      ]
    },
    {
      "cell_type": "code",
      "metadata": {
        "id": "JbbYZe3OocBT",
        "colab_type": "code",
        "outputId": "1e2eb2ce-6fed-4035-bf4c-525c469b7f6c",
        "colab": {
          "base_uri": "https://localhost:8080/",
          "height": 364
        }
      },
      "source": [
        "import random\n",
        "random.seed(1)\n",
        "!pip install -q git+https://github.com/tensorflow/docs\n",
        "from sklearn.model_selection import train_test_split\n",
        "import pandas as pd\n",
        "import pydot\n",
        "import keras\n",
        "import tensorflow as tf\n",
        "from tensorflow.keras import layers\n",
        "import tensorflow_docs as tfdocs\n",
        "import tensorflow_docs.plots\n",
        "import tensorflow_docs.modeling\n",
        "import pathlib\n",
        "\n",
        "import matplotlib.pyplot as plt\n",
        "import numpy as np\n",
        "import pandas as pd\n",
        "import seaborn as sns\n",
        "tf.random.set_seed(1)\n",
        "\n",
        "!pip install git+git://github.com/keras-team/keras.git --upgrade --no-deps"
      ],
      "execution_count": 0,
      "outputs": [
        {
          "output_type": "stream",
          "text": [
            "  Building wheel for tensorflow-docs (setup.py) ... \u001b[?25l\u001b[?25hdone\n"
          ],
          "name": "stdout"
        },
        {
          "output_type": "stream",
          "text": [
            "Using TensorFlow backend.\n"
          ],
          "name": "stderr"
        },
        {
          "output_type": "stream",
          "text": [
            "Collecting git+git://github.com/keras-team/keras.git\n",
            "  Cloning git://github.com/keras-team/keras.git to /tmp/pip-req-build-uh7zp994\n",
            "  Running command git clone -q git://github.com/keras-team/keras.git /tmp/pip-req-build-uh7zp994\n",
            "Building wheels for collected packages: Keras\n",
            "  Building wheel for Keras (setup.py) ... \u001b[?25l\u001b[?25hdone\n",
            "  Created wheel for Keras: filename=Keras-2.3.1-cp36-none-any.whl size=365124 sha256=85c578bc23c5ebfa2821753f276a57972d2500bdd7281e4c9ad95e93400b3827\n",
            "  Stored in directory: /tmp/pip-ephem-wheel-cache-9y6r0w4a/wheels/e6/02/ad/5e8e1a5824af71082e2260fe7e2eaa1b745c34706e6ff0a14b\n",
            "Successfully built Keras\n",
            "Installing collected packages: Keras\n",
            "  Found existing installation: Keras 2.3.1\n",
            "    Uninstalling Keras-2.3.1:\n",
            "      Successfully uninstalled Keras-2.3.1\n",
            "Successfully installed Keras-2.3.1\n"
          ],
          "name": "stdout"
        },
        {
          "output_type": "display_data",
          "data": {
            "application/vnd.colab-display-data+json": {
              "pip_warning": {
                "packages": [
                  "keras"
                ]
              }
            }
          },
          "metadata": {
            "tags": []
          }
        }
      ]
    },
    {
      "cell_type": "code",
      "metadata": {
        "id": "hQ-qIyA1oceY",
        "colab_type": "code",
        "colab": {}
      },
      "source": [
        "df=liar_clean\n",
        "X=df.loc[:,df.columns!='label_code']\n",
        "Y=df.loc[:,df.columns=='label_code']\n",
        "train_dataset, X_test, y_train, Y_test = train_test_split(X, Y, test_size=0.2, random_state=1)"
      ],
      "execution_count": 0,
      "outputs": []
    },
    {
      "cell_type": "code",
      "metadata": {
        "id": "kMTd4T_5oogh",
        "colab_type": "code",
        "colab": {}
      },
      "source": [
        "from keras.layers import Dense,Dropout, Flatten\n",
        "def build_model():\n",
        "\n",
        "  # model = tensorflow.keras.Sequential()\n",
        "  model = tf.keras.Sequential([\n",
        "    layers.Dense(64, activation='relu', input_shape=[len(train_dataset.keys())]),\n",
        "    layers.Dense(64, activation='relu'),\n",
        "    layers.Dense(1,activation='sigmoid')\n",
        "  ])\n",
        "\n",
        "  # optimizer = tf.keras.optimizers.RMSprop(0.001)\n",
        "\n",
        "  model.compile(loss='mse',\n",
        "                # optimizer=optimizer,\n",
        "                metrics=['mae', 'mse'])\n",
        "  return model"
      ],
      "execution_count": 0,
      "outputs": []
    },
    {
      "cell_type": "code",
      "metadata": {
        "id": "qvTjMmnKouaa",
        "colab_type": "code",
        "colab": {}
      },
      "source": [
        "model=build_model()"
      ],
      "execution_count": 0,
      "outputs": []
    },
    {
      "cell_type": "code",
      "metadata": {
        "id": "9SjuRWXuoxWD",
        "colab_type": "code",
        "outputId": "6735ecff-312e-4937-e9ae-874f4b414ebc",
        "colab": {
          "base_uri": "https://localhost:8080/",
          "height": 69
        }
      },
      "source": [
        "EPOCHS = 100\n",
        "\n",
        "history = model.fit(\n",
        "  train_dataset, y_train,\n",
        "  epochs=EPOCHS, validation_split = 0.2, verbose=0,\n",
        "  callbacks=[tfdocs.modeling.EpochDots()])"
      ],
      "execution_count": 0,
      "outputs": [
        {
          "output_type": "stream",
          "text": [
            "\n",
            "Epoch: 0, loss:4.5283,  mae:1.6608,  mse:4.5283,  val_loss:4.4808,  val_mae:1.6547,  val_mse:4.4808,  \n",
            "...................................................................................................."
          ],
          "name": "stdout"
        }
      ]
    },
    {
      "cell_type": "code",
      "metadata": {
        "id": "6jqrAhy9sCpk",
        "colab_type": "code",
        "outputId": "b25812c4-3896-4f7e-f1a3-80224acbe59b",
        "colab": {
          "base_uri": "https://localhost:8080/",
          "height": 138
        }
      },
      "source": [
        "model.predict(X_test)\n"
      ],
      "execution_count": 0,
      "outputs": [
        {
          "output_type": "execute_result",
          "data": {
            "text/plain": [
              "array([[1.],\n",
              "       [1.],\n",
              "       [1.],\n",
              "       ...,\n",
              "       [1.],\n",
              "       [1.],\n",
              "       [1.]], dtype=float32)"
            ]
          },
          "metadata": {
            "tags": []
          },
          "execution_count": 36
        }
      ]
    },
    {
      "cell_type": "code",
      "metadata": {
        "id": "XeK9XEH3tRhK",
        "colab_type": "code",
        "outputId": "6be54a85-25b3-4a9c-bc50-0c5296023f41",
        "colab": {
          "base_uri": "https://localhost:8080/",
          "height": 184
        }
      },
      "source": [
        "tf.cast(tf.equal(test_predictions, Y_test), dtype=tf.float32)\n",
        "# accuracy_score(Y_test, test_predictions,normalize=True, sample_weight=None)*100"
      ],
      "execution_count": 0,
      "outputs": [
        {
          "output_type": "error",
          "ename": "NameError",
          "evalue": "ignored",
          "traceback": [
            "\u001b[0;31m---------------------------------------------------------------------------\u001b[0m",
            "\u001b[0;31mNameError\u001b[0m                                 Traceback (most recent call last)",
            "\u001b[0;32m<ipython-input-37-b67c710d74a9>\u001b[0m in \u001b[0;36m<module>\u001b[0;34m()\u001b[0m\n\u001b[0;32m----> 1\u001b[0;31m \u001b[0mtf\u001b[0m\u001b[0;34m.\u001b[0m\u001b[0mcast\u001b[0m\u001b[0;34m(\u001b[0m\u001b[0mtf\u001b[0m\u001b[0;34m.\u001b[0m\u001b[0mequal\u001b[0m\u001b[0;34m(\u001b[0m\u001b[0mtest_predictions\u001b[0m\u001b[0;34m,\u001b[0m \u001b[0mY_test\u001b[0m\u001b[0;34m)\u001b[0m\u001b[0;34m,\u001b[0m \u001b[0mdtype\u001b[0m\u001b[0;34m=\u001b[0m\u001b[0mtf\u001b[0m\u001b[0;34m.\u001b[0m\u001b[0mfloat32\u001b[0m\u001b[0;34m)\u001b[0m\u001b[0;34m\u001b[0m\u001b[0;34m\u001b[0m\u001b[0m\n\u001b[0m\u001b[1;32m      2\u001b[0m \u001b[0;31m# accuracy_score(Y_test, test_predictions,normalize=True, sample_weight=None)*100\u001b[0m\u001b[0;34m\u001b[0m\u001b[0;34m\u001b[0m\u001b[0;34m\u001b[0m\u001b[0m\n",
            "\u001b[0;31mNameError\u001b[0m: name 'test_predictions' is not defined"
          ]
        }
      ]
    },
    {
      "cell_type": "code",
      "metadata": {
        "id": "F9RtLF43t25f",
        "colab_type": "code",
        "colab": {}
      },
      "source": [
        ""
      ],
      "execution_count": 0,
      "outputs": []
    },
    {
      "cell_type": "code",
      "metadata": {
        "id": "Bn_4njU1t9yv",
        "colab_type": "code",
        "colab": {}
      },
      "source": [
        ""
      ],
      "execution_count": 0,
      "outputs": []
    }
  ]
}